{
 "cells": [
  {
   "cell_type": "markdown",
   "metadata": {},
   "source": [
    "<font color=black size=5 face=times>**Almost-Exact Simulation of Heston Model**</font>"
   ]
  },
  {
   "cell_type": "markdown",
   "metadata": {},
   "source": [
    "<font color=black size=3 face=times>**Main references**: <br>\n",
    "Broadie, M., & Kaya, Ö. (2006). Exact simulation of stochastic volatility and other affine jump diffusion processes. *Operations research, 54*(2), 217-231.<br> \n",
    "CCox, J., Ingersoll, J. E., & Ross, S. A. (1985). A theory of the term structure of interest rates. *Econometrica, 53*(2), 385-407.<br>\n",
    "Glasserman, P., & Kim, K. K. (2011). Gamma expansion of the Heston stochastic   volatility model. *Finance and Stochastics, 15*(2), 267-296.<br>\n",
    "Pitman, J., & Yor, M. (1982). A decomposition of Bessel bridges. *Zeitschrift für Wahrscheinlichkeitstheorie und verwandte Gebiete, 59*(4), 425-457."
   ]
  },
  {
   "cell_type": "markdown",
   "metadata": {},
   "source": [
    "<font color=black size=3 face=times>**Table Of Contents**<br> \n",
    "    &emsp; &emsp;1. the Heston Model<br>\n",
    "    &emsp; &emsp;2. Conditional Simulation of the Heston Model<br>\n",
    "    &emsp; &emsp;2. Exact Simulation of the Heston Model<br>\n",
    "    &emsp; &emsp;&emsp;2.1. Sampling from $V_t$ Given $V_0$<br>\n",
    "    &emsp; &emsp;&emsp;2.2. Sampling from $\\int_{0}^{t}V_s ds$ Given $V_t$ and $V_0$<br>\n",
    "    &emsp; &emsp;&emsp;&emsp;2.2.1.Fourier Inversion Techniques<br>\n",
    "    &emsp; &emsp;&emsp;&emsp;2.2.2.Gamma Expansion<br>\n",
    "    &emsp; &emsp;&emsp;&emsp;2.2.3.Simulation Procedure for $X_1,X_2,X_3$<br>\n",
    "    &emsp; &emsp;&emsp;2.3. Generating a Sample for $S_t$.<br>\n",
    "    &emsp; &emsp;3. Numerical Experiments</font>"
   ]
  },
  {
   "cell_type": "markdown",
   "metadata": {},
   "source": [
    "<font color=black size=3 face=times>**1. Heston Model**<br>"
   ]
  },
  {
   "cell_type": "markdown",
   "metadata": {},
   "source": [
    "<font color=black size=3 face=times>&emsp; The Heston model is described by the pair stochastic different equations\n",
    "    \n",
    "\\begin{align*} \n",
    "&\\frac{dS_t}{S_t}=\\mu dt+\\sqrt{V_t}\\left(\\rho dW_t^{(1)}+\\sqrt{1-\\rho^2}dW_t^{(2)}\\right),\\tag{$1.1$} \\\\\n",
    "&dV_t=\\kappa\\left(\\theta-V_t\\right)dt+\\sigma_v\\sqrt{V_t}dW_t^{(1)},\\tag{$1.2$}\n",
    "\\end{align*}\n",
    "\n",
    "in which $(W_t^{(1)}$,$W_t^{(2)})$ is a standard two-dimentional Brownian motion."
   ]
  },
  {
   "cell_type": "markdown",
   "metadata": {},
   "source": [
    "<font color=black size=3 face=times>&emsp; The stock price and the volatility at time $t$, given the values of $S_0$,$V_0$, can be written as\n",
    "    \\begin{align*} \n",
    "    &S_t=S_0\\,exp(\\,\\mu t -\\frac{1}{2}\\int_{0}^{t}V_sd_s+\\rho\\int_{0}^{t}\\sqrt{V_s}dW_s^{(1)}+\\sqrt{1-\\rho^2}\\int_{0}^{t}\\sqrt{V_s}dW_s^{(2)}\\,),\\tag{$3.1$}\\\\\n",
    "    &V_t=V_0+\\kappa\\theta(t-u)-\\kappa\\int_{0}^{t}V_sd_s+\\sigma_v\\int_{0}^{t}\\sqrt{V_s}dW_s^{(1)},\\tag{$3.2$}\n",
    "    \\end{align*}"
   ]
  },
  {
   "cell_type": "markdown",
   "metadata": {},
   "source": [
    "<font color=black size=3 face=times>**2.  Time discretization (Euler) of the Heston Model**<br>"
   ]
  },
  {
   "cell_type": "markdown",
   "metadata": {},
   "source": [
    "<font color=black size=3 face=times>&emsp; Let $[0=t_0<t_1<...<t_M=T]$ be a partition of a time interval into $M$ equal segments of length $\\Delta t$, i.e., $t_i = iT/M$ for each $i=0,...,M$. The discretization for stock price process and variance process is \n",
    "    \\begin{align*}\n",
    "    S_{t_i}&=S_{t_{i-1}}+rS_{t_{i-1}} \\Delta t+ \\sqrt{V_{t_{i-1}}} [\\rho \\Delta W_{t_{i}}^{(1)} + \\sqrt{1-\\rho^2} \\Delta W_{t_i}^{(2)}] ,\\tag{$2.3$}\\\\\n",
    "    V_{t_{i}}& = V_{t_{i-1}} + \\kappa(\\theta-V_{t_{i-1}})\\Delta t + \\sqrt{V_{t-i}} \\sigma_v \\Delta W_{t_i}^{(1)}, \\tag{$2.4$}\n",
    "    \\end{align*}\n",
    "in which, $ \\Delta W_{t_i}^{(j)} = W_{t_i}^{(j)}-W_{t_i-1}^{(j)}, j=1,2$\n",
    "    "
   ]
  },
  {
   "cell_type": "markdown",
   "metadata": {},
   "source": [
    "<font color=black size=3 face=times>**3.  Conditional QE method Simulation of the Heston Model of the SV Model**<br>\n",
    "    <br/>\n",
    "    <font color=black size=3 face=times>**Main references**: <br>\n",
    "         Andersen, L. (2008). Simple and efficient simulation of the Heston stochastic volatility model. *The Journal of Computational Finance, 11*(3), 1–42. https://doi.org/10.21314/JCF.2008.189 <br>\n",
    "        Van Haastrecht, A., & Pelsser, A. (2010). Efficient, almost exact simulation of the heston stochastic volatility model. *International Journal of Theoretical and Applied Finance, 13*(01), 1–43. https://doi.org/10.1142/S0219024910005668 <br>"
   ]
  },
  {
   "cell_type": "markdown",
   "metadata": {},
   "source": [
    "<font color=black size=3 face=times>**3.1. General discrete-time approximation schemes**<br>\n",
    "    &emsp;&emsp;<font color=black size=3 face=times>**Kahl-Jackel Scheme**<br>\n",
    "    &emsp;&emsp;Using Milstein scheme to discretize the V-process and \"IJK\" discretization for the stock process:\n",
    "    \\begin{align*}\n",
    "    ln\\widehat{X}(t+\\Delta)&=ln\\widehat{X}(t)-\\frac{\\Delta}{4}(\\widehat{V}(t+\\Delta)+\\widehat{V}(t))+\\rho\\sqrt{\\widehat{V}(t)}Z_V\\sqrt{\\Delta}+\\frac{1}{2}\\left(\\sqrt{\\widehat{V}(t+\\Delta)}+\\sqrt{\\widehat{V}(t)}\\right)(Z_X\\sqrt{\\Delta}-\\rho Z_V\\sqrt{\\Delta})+\\frac{1}{4}\\epsilon\\rho\\Delta(Z_V^2-1),\\tag{$3.1$}\\\\\n",
    "    \\widehat{V}(t+\\Delta) &= \\frac{\\widehat{V}(t)+\\kappa\\theta\\Delta+\\epsilon\\sqrt{\\widehat{V}(t)}Z_V\\sqrt{\\Delta}+\\frac{1}{4}\\epsilon^2\\Delta(Z_V^2-1)}{1+\\kappa\\Delta}, \\tag{$3.2$}\n",
    "    \\end{align*}\n",
    "    <br/>\n",
    "    &emsp;&emsp;<font color=black size=3 face=times>**Broadie-Kaya Scheme**<br>\n",
    "\\begin{align*}\n",
    "    V(t+\\Delta)&=V(t)+\\int_{t}^{t+\\Delta}\\kappa(\\theta-V(u))du+\\epsilon \\int_{t}^{t+\\Delta}\\sqrt{V(u)}dW_V(u) ,\\tag{$3.3$}\\\\\n",
    "    lnX(t+\\Delta)&=lnX(t)+\\frac{\\rho}{\\epsilon}(V(t+\\Delta)-V(t)-\\kappa\\theta\\Delta)+(\\frac{\\kappa\\rho}{\\epsilon}-\\frac{1}{2})\\int_{t}^{t+\\Delta}V(u)du+\\sqrt{1-\\rho^2}\\int_{t}^{t+\\Delta}\\sqrt{V(u)}dW(u), \\tag{$3.4$}\n",
    "    \\end{align*}"
   ]
  },
  {
   "cell_type": "markdown",
   "metadata": {},
   "source": [
    "<font color=black size=3 face=times>**3.2. QE Scheme**<br>\n",
    "    &emsp;&emsp; For the non-central chi-square distribution approaches a Gaussian distribution as the non-centrality paremeter approaches $\\infty$, but for small $V(t)$, the non-centrality parameter approaches zero, and the Gaussian variable is typically not accurate.\n",
    "    Let:\n",
    "    \\begin{align*}\n",
    "    m&=\\theta+(\\widehat{V}(t)-\\theta)e^{-\\kappa\\Delta},\\tag{$3.5$}\\\\\n",
    "    s^2&=\\frac{\\widehat{V}(t)\\epsilon^2 e^{-\\kappa\\Delta}}{\\kappa}(1-e^{-\\kappa\\Delta})+\\frac{\\theta\\epsilon^2}{2\\kappa}(1-e^{-\\kappa\\Delta})^2,\\tag{$3.6$}\\\\\n",
    "    \\Psi&\\equiv s^2/m^2 =\\frac{\\frac{\\widehat{V}(t)\\epsilon^2 e^{-\\kappa\\Delta}}{\\kappa}(1-e^{-\\kappa\\Delta})+\\frac{\\theta\\epsilon^2}{2\\kappa}(1-e^{-\\kappa\\Delta})^2}{(\\theta+(\\widehat{V}(t)-\\theta)e^{-\\kappa\\Delta})^2}, \\tag{$3.7$}\n",
    "    \\end{align*}\n",
    "    &emsp;&emsp; The scheme varies when $\\Psi$ is big and when $\\Psi$ is small.<br>\n",
    "    &emsp;&emsp; Assume that some arbitrary level $\\Psi_c\\in [1,2]$ has beem selected. The detailed algorithm for the QE simulation step from $\\widehat{V}(t)$ to $\\widehat{V}(t+\\Delta)$ is then:<br>\n",
    "    &emsp;&emsp;1. Given $\\widehat{V}(t)$, compute $m$ and $s^2$ from the equations (3.5) and (3.6).<br>\n",
    "    &emsp;&emsp;2. Compute $\\Psi=s^2/m^2$<br>\n",
    "    &emsp;&emsp;3. Draw a uniform random number $U_V$<br>\n",
    "    &emsp;&emsp;4. **If** $\\Psi\\leq \\Psi_c$:<br>\n",
    "    &emsp;&emsp;&emsp;&emsp;(a) Compute a and b as:\n",
    "    \\begin{align*}\n",
    "    &b^2=2\\Psi^{-1}-1+\\sqrt{2\\Psi^{-1}}\\sqrt{{2\\Psi^{-1}-1}}\\ge 0,\\tag{$3.8$}\\\\\n",
    "    &a=\\frac{m}{1+b^2},\\tag{$3.9$}\\\\\n",
    "    \\end{align*}\n",
    "    &emsp;&emsp;&emsp;&emsp;(b) Compute $Z_V=\\Phi^{-1}(U_V)$<br>\n",
    "    &emsp;&emsp;&emsp;&emsp;(c) Set $\\widehat{V}(t+\\Delta)=a(b+Z_V)^2$<br>\n",
    "    &emsp;&emsp;5.**Otherwise**, if $\\Psi>\\Psi_c$:<br>\n",
    "    &emsp;&emsp;&emsp;&emsp;(a) Compute $\\beta$ and $p$ as:\n",
    "    \\begin{align*}\n",
    "    &p=\\frac{\\Psi-1}{\\Psi+1}\\in [0,1),\\tag{$3.10$}\\\\\n",
    "    &\\beta=\\frac{1-p}{m}=\\frac{2}{m(\\Psi+1)}>0,\\tag{$3.11$}\\\\\n",
    "    \\end{align*}\n",
    "    &emsp;&emsp;&emsp;&emsp;(b) Set $\\widehat{V}(t+\\Delta)=\\Psi^{-1}(U_V;p,\\beta)$, where $\\Psi^{-1}$ is given as:\n",
    "    $$\\Psi^{-1}(u)=\\Psi^{-1}(u;p,\\beta)=\\left\\{\n",
    "\\begin{aligned}\n",
    "&0,  & 0\\le u\\le p \\\\\n",
    "&\\beta^{-1}ln(\\frac{1-p}{1-u}),& p<u\\le1.\n",
    "\\end{aligned},\\tag{$3.11$}\n",
    "\\right.\n",
    "$$\n"
   ]
  },
  {
   "cell_type": "markdown",
   "metadata": {},
   "source": [
    "<font color=black size=3 face=times>**4.  Exact Simulation of the Heston Model**<br>"
   ]
  },
  {
   "cell_type": "markdown",
   "metadata": {},
   "source": [
    "<font color=black size=3 face=times>&emsp; Based on the above derivation, we first give the exact simulation algorithm for the Heston model.<br>\n",
    "    &emsp;&emsp;step 1: Generate a sample from the distribution of $V_t$ given $V_0$.<br>\n",
    "    &emsp;&emsp;step 2: Generate a sample from the distribution of $\\int_{0}^{t}V_sd_s$ given $V_t$,$V_0$.<br>\n",
    "    &emsp;&emsp;step 3: recover $\\int_{0}^{t}\\sqrt{V_s}dW_s^{(1)}$ $\\,$ from (2.2)$\\,$ given$V_t,V_0,and \\int_{0}^{t}V_sd_s$.<br>\n",
    "    &emsp;&emsp;step 4: Generate a sample from the distribution of $S_t$ given $\\int_{0}^{t}\\sqrt{V_t}dW_s^{(1)}$ and $\\int_{0}^{t}V_s ds$ <br>  "
   ]
  },
  {
   "cell_type": "markdown",
   "metadata": {},
   "source": [
    "<font color=black size=3 face=times>**4.1. Step 1: Generate a sample from the distribution of $V_t$ given $V_0$**<br>"
   ]
  },
  {
   "cell_type": "markdown",
   "metadata": {},
   "source": [
    "<font color=black size=3 face=times>&emsp; Given $V_0$, the distribution of $V_t$ is a non-central chi-squared distribution,the transaction law can be expressed as \n",
    "    $$V_t=\\frac{\\sigma_v^2(1-e^{-\\kappa t})}{4\\kappa}\\chi_d^{'2}\\left( \\frac{4\\kappa e^{-\\kappa t}}{\\sigma_v^2(1-e^{-\\kappa t})} V_0\\right),\\tag{$2.4$}$$\n",
    "in which, $ d=\\frac{4\\theta\\kappa}{\\sigma_v^2}, \\lambda=\\frac{4\\kappa exp(-\\kappa(t-u))}{\\sigma^{2}_{v}\\left(1-exp(-\\kappa(t-u)) \\right)} V_0$"
   ]
  },
  {
   "cell_type": "markdown",
   "metadata": {},
   "source": [
    "<font color=black size=3 face=times>**4.2. Step 2: Generate a sample from the distribution of $\\int_{0}^{t}V_sd_s$ given $V_t$,$V_0$**<br>"
   ]
  },
  {
   "cell_type": "markdown",
   "metadata": {},
   "source": [
    "<font color=black size=3 face=times>&emsp; Sampling from $\\int_{0}^{t}V_s ds$ is the focus for the whole simulation process, in this section, we will introduce the basic method (**Fourier Inversion Techniques**) and its improvemnt (**Gamma Expansion**) for the sampling."
   ]
  },
  {
   "cell_type": "markdown",
   "metadata": {},
   "source": [
    "<font color=black size=3 face=times>**Fourier Inversion Techniques**<br>"
   ]
  },
  {
   "cell_type": "markdown",
   "metadata": {},
   "source": [
    "<font color=black size=3 face=times>&emsp; Broadie and Kaya (2006) used fourier inversion techniques.The Laplace transform of the integrated variance is as following<br>\n",
    "\\begin{align*} \n",
    "    \\phi(a)&=E[exp(ia\\int_{0}^{t}V_sds)| V_0,V_t]\\\\\n",
    "        &=\\frac{\\gamma(a)e^{(-1/2)(\\gamma(a)-\\kappa)t\\;}(1-e^{-\\kappa t})}{\\kappa(1-e^{-\\gamma(a) t})}\n",
    "        \\times exp\\lbrace\\frac{V_0+V_t}{\\sigma^2}[\\frac{\\kappa(1+e^{-\\kappa t})}{1-e^{-\\kappa t}}-\\frac{\\gamma(a)(1+e^{-\\gamma(a)t})}{1-         e^{-\\gamma(a)t}}]\\rbrace\n",
    "        \\times \\frac{I_{0.5d-1}\\;[\\sqrt{V_0V_t}\\frac{4\\gamma(a)e^{-0.5\\gamma(a)t}}{\\sigma^2(1-e^{-\\gamma(a)t})}\\;\\;]}{I_{0.5d-1}\\;[\\sqrt{V_0V_t}\\frac{4\\kappa e^{-0.5\\kappa t}}{\\sigma^2(1-e^{\\kappa t})}\\;\\;]}\\tag{$2.5$}\n",
    "\\end{align*}\n",
    "\n",
    "where $\\gamma(a)=\\sqrt{\\kappa^2+2\\sigma^2 ia}$, $d$ is as given in (2.4), and $I_v(x)$ is the modified Bessel function of the first kind. ."
   ]
  },
  {
   "cell_type": "markdown",
   "metadata": {},
   "source": [
    "<font color=black size=3 face=times>&emsp; $\\,$ Let $V(t)$ denote the random variable $\\int_0^tV_sds$, the probability funcion can be computed using fourier inversion methods.\n",
    "\\begin{align*}\n",
    "F(x)&=Pr(V(t)\\leqslant x)\\\\&=\\frac{1}{\\pi}\\int_{-\\infty}^{\\infty}\\frac{sin ux}{u}\\phi(-iu)du\\\\\n",
    "&=\\frac{2}{\\pi}\\int_0^{\\infty}\\frac{sin ux}{u}Re[\\phi(-iu)]du \\tag{$2.6$}\n",
    "\\end{align*}"
   ]
  },
  {
   "cell_type": "markdown",
   "metadata": {},
   "source": [
    "<font color=black size=3 face=times>&emsp; Through  choosing proper N, the truncation error can be controlled, then the approximation becomes\n",
    "$$Pr(V(t)\\leqslant x)=\\frac{hx}{u}+\\frac{2}{\\pi}\\sum_{j=1}^{N}\\frac{sin hj}{j}Re[\\phi(-ihj)]-e_d(h)-e_T(N)\\tag{$2.8$}$$"
   ]
  },
  {
   "cell_type": "markdown",
   "metadata": {},
   "source": [
    "<font color=black size=3 face=times>&emsp;The hardest and numerically most **time-consuming** part\n",
    "of (2.8) is the evaluation of the characteristic function. The\n",
    "characteristic function given in (2.5) involves two modified\n",
    "Bessel functions of the first kind, and the one in the numerator\n",
    "has a complex argument. The modified Bessel function\n",
    "of the first kind is characterized by the following power\n",
    "series:\n",
    "    \n",
    "\\begin{align*}\n",
    "I_v(x)=(\\frac{1}{2}z)^{v}\\sum_{j=0}^{\\infty}\\frac{(\\frac{1}{4}z^2)^j}{j!\\Gamma(v+j=1)}\\tag{$2.6$}\n",
    "\\end{align*}"
   ]
  },
  {
   "cell_type": "markdown",
   "metadata": {},
   "source": [
    "<font color=black size=3 face=times>**Improvement: Gamma Expansion**<br>"
   ]
  },
  {
   "cell_type": "markdown",
   "metadata": {},
   "source": [
    "<font color=black size=3 face=times>**4.3. Step 3: recover $\\int_{0}^{t}\\sqrt{V_s}dW_s^{(1)}$ $\\,$ from (2.2)$\\,$ given$V_t,V_0,and \\int_{0}^{t}V_sd_s$**<br>"
   ]
  },
  {
   "cell_type": "markdown",
   "metadata": {},
   "source": [
    "<font color=black size=3 face=times> &emsp; After having generated samples from $V_t$ and$\\int_0^tV_sds,$ we use (3.2) to get \n",
    "    $$\\int_0^t\\sqrt{V_s}dW_s^{(1)}=\\frac{1}{\\sigma_v}(V_t-V_u-\\kappa\\theta t+\\kappa\\int_0^tV_sds)\\tag{$2.18$}$$\n",
    "\n"
   ]
  },
  {
   "cell_type": "markdown",
   "metadata": {},
   "source": [
    "<font color=black size=3 face=times>**4.4. Step 4: Generate a sample from the distribution of $S_t$ given $\\int_{0}^{t}\\sqrt{V_t}dW_s^{(1)}$ and $\\int_{0}^{t}V_s ds$**<br>"
   ]
  },
  {
   "cell_type": "markdown",
   "metadata": {},
   "source": [
    "<font color=black size=3 face=times> &emsp;Further more,because the process for $V_t$ is independent of the Brownian motion $W_t^{(2)}$, the distribution of $\\int_0^t\\sqrt(V_s)dW_s^{(2)}$,given the path generated by $V_t$, is normal, with the mean 0 and variance $\\int_0^tV_sds$.Using the above results, we get the conditional distribution of $logS_t$ is normal with mean\n",
    "$$m(t)=logS_0+[\\mu t-\\frac{1}{2}\\int_0^tV_sds+\\rho\\int_0^t\\sqrt{V_s}dW_s^{(1)}]$$<br>\n",
    "and variance\n",
    "$$\\sigma(t)^2=(1-\\rho^2) \\int_0^t V_s ds$$\n",
    "to generate a sample from $S_t$,we generate a standard normal random variable $Z$ and then set \n",
    "$$S_t=e^{m(t)+\\sigma(t)Z}$$"
   ]
  },
  {
   "cell_type": "markdown",
   "metadata": {},
   "source": [
    "<font color=black size=3 face=times>**5.  Almost-Exact Simulation of the Heston Model**<br>"
   ]
  },
  {
   "cell_type": "markdown",
   "metadata": {},
   "source": [
    "<font color=black size=3 face=times> &emsp;Drawback of exact simulation (if existing):\n",
    "- Inverse Laplace transform of $V_t|v_t$ is complicated.\n",
    "- Drawing random number from numerical CDF is also slow.\n",
    "    \n",
    "The general idea of almost-exact simulation of the heston model is that approximate the distribution of $\\int_{0}^{t}V_sd_s$ given $V_t$,$V_0$ with a well-known distribution with easy sampling with moment matching, $E(V_t|_t )$, $E(V_t^2|_t )$, etc."
   ]
  },
  {
   "cell_type": "code",
   "execution_count": 4,
   "metadata": {},
   "outputs": [],
   "source": [
    "from scipy.special import *"
   ]
  },
  {
   "cell_type": "code",
   "execution_count": 5,
   "metadata": {},
   "outputs": [],
   "source": [
    "import numpy as np\n",
    "import scipy.optimize\n",
    "import scipy.integrate\n",
    "from sympy import *\n",
    "from scipy.stats import invgauss\n",
    "from scipy.misc import derivative"
   ]
  },
  {
   "cell_type": "code",
   "execution_count": 40,
   "metadata": {},
   "outputs": [],
   "source": [
    "def simulation():   \n",
    "    d = (4*theta*kappa)/(sigma_v**2)\n",
    "    Lambda = (4*kappa*np.exp(-kappa*texp))/((sigma_v**2)*(1-np.exp(-kappa*texp)))*V_0\n",
    "\n",
    "    V_t = sigma_v**2 * (1-np.exp(-kappa*texp)) / (4*kappa)*np.random.noncentral_chisquare(d,Lambda,n_paths)\n",
    "\n",
    "    gamma_a = lambda a: np.sqrt(kappa**2-2*sigma_v**2*a*1j)\n",
    "\n",
    "    phi_part_1 = lambda a: gamma_a(a)*np.exp((-1/2)*(gamma_a(a)-kappa)*texp)*(1-np.exp(-kappa*texp))/(kappa*(1-np.exp(-gamma_a(a)*texp)))                                                                     \n",
    "    phi_part_2 = lambda a: np.exp(((V_t+V_0)/(sigma_v**2))*((kappa*(1+np.exp(-kappa*texp))/(1-np.exp(-kappa*texp)))-\n",
    "                                    (gamma_a(a)*(1+np.exp(-gamma_a(a)*texp))/(1-np.exp(-gamma_a(a)*texp)))))\n",
    "    phi_part_3 = lambda a: iv(0.5*d-1, np.sqrt(V_t*V_0)*4*gamma_a(a)*np.exp(-0.5*gamma_a(a)*texp)/(sigma_v**2*(1-np.exp(-gamma_a(a)*texp))))/iv(0.5*d-1,np.sqrt(V_t*V_0)*4*kappa*np.exp(-0.5*kappa*texp)/(sigma_v**2*(1-np.exp(-kappa*texp))))\n",
    "    phi =  lambda a: phi_part_1(a)*phi_part_2(a)*phi_part_3(a)\n",
    "\n",
    "    a = (derivative(phi, 0, n=1, dx=1e-5)/1j).real\n",
    "    b = (derivative(phi, 0, n=2, dx=1e-5)/(1j**2)).real\n",
    "\n",
    "    scale_ig = a**3/(b-a**2)\n",
    "    miu_ig = a/scale_ig\n",
    "    M_miu = []\n",
    "    Simga_2_miu = []\n",
    "    for i in range(100):\n",
    "        distribution_integral_V_t = invgauss.rvs(miu_ig, scale=scale_ig)\n",
    "\n",
    "        distribution_integral_sqrt_V_t = (V_t-V_0-kappa*theta*texp+kappa*distribution_integral_V_t)/sigma_v \n",
    "        m_miu_t = np.log(S_0)+ (miu*texp-(1/2)*distribution_integral_V_t+pho*distribution_integral_sqrt_V_t)\n",
    "        simga_2_miu_t = (1-pho**2)*distribution_integral_V_t\n",
    "        M_miu.append(m_miu_t)\n",
    "        Simga_2_miu.append(simga_2_miu_t)\n",
    "    S = []\n",
    "    for i in range(1000):\n",
    "        S_t = np.exp(np.array(M_miu).reshape(-1)+np.sqrt(np.array(Simga_2_miu).reshape(-1))*np.random.normal(size=n_paths*100))\n",
    "        S.append(S_t)\n",
    "    \n",
    "    C_price = np.fmax(np.array(S).reshape(-1) - strike, 0)\n",
    "\n",
    "    return C_price.mean() - ref_prices"
   ]
  },
  {
   "cell_type": "code",
   "execution_count": 41,
   "metadata": {},
   "outputs": [
    {
     "name": "stdout",
     "output_type": "stream",
     "text": [
      " conditional_simulation_bias(last_year_result): -2.531003 \n",
      " Exact_simulation_bias(last_year_result): 0.454499 \n",
      " AE_simulation_bias: 0.23919238735526793\n"
     ]
    }
   ],
   "source": [
    "sigma_v = 0.61\n",
    "theta = 0.019\n",
    "kappa = 6.21\n",
    "texp = 1\n",
    "V_0 = 0.010201\n",
    "S_0 = 100\n",
    "miu = 0.0319\n",
    "pho =  -0.7\n",
    "strike = 100\n",
    "ref_prices = 6.8061 \n",
    "\n",
    "\n",
    "#h = 0.001\n",
    "#epsilon = 0.00001\n",
    "n_paths = 1000\n",
    "\n",
    "bias = simulation()\n",
    "print(\" conditional_simulation_bias(last_year_result):\", -2.531003, \"\\n\", \"Exact_simulation_bias(last_year_result):\", 0.454499, \"\\n\",  \"AE_simulation_bias:\", bias)"
   ]
  },
  {
   "cell_type": "code",
   "execution_count": 42,
   "metadata": {},
   "outputs": [
    {
     "name": "stdout",
     "output_type": "stream",
     "text": [
      "conditional_simulation_bias(last_year_result): -8.879857 \n",
      " Exact_simulation_bias(last_year_result): 2.744522 \n",
      " AE_simulation_bias: 9.869480272208953\n"
     ]
    }
   ],
   "source": [
    "sigma_v = 1\n",
    "theta = 0.09\n",
    "kappa = 2\n",
    "texp = 5\n",
    "V_0 = 0.09\n",
    "S_0 = 100\n",
    "miu =  0.05\n",
    "pho =  -0.3\n",
    "strike = 100\n",
    "ref_prices = 34.9998\n",
    "\n",
    "#h = 0.001\n",
    "#epsilon = 0.00001\n",
    "n_paths = 100\n",
    "\n",
    "bias = simulation()\n",
    "print(\"conditional_simulation_bias(last_year_result):\", -8.879857, \"\\n\", \"Exact_simulation_bias(last_year_result):\", 2.744522, \"\\n\",  \"AE_simulation_bias:\", bias)"
   ]
  },
  {
   "cell_type": "code",
   "execution_count": 43,
   "metadata": {},
   "outputs": [
    {
     "name": "stdout",
     "output_type": "stream",
     "text": [
      "conditional_simulation_bias(last_year_result): -5.264797 \n",
      " Exact_simulation_bias(last_year_result): -2.317013 \n",
      " AE_simulation_bias: -2.6784749532927714\n"
     ]
    }
   ],
   "source": [
    "sigma_v = 1\n",
    "theta = 0.04\n",
    "kappa = 0.5\n",
    "texp = 1\n",
    "V_0 = 0.04\n",
    "S_0 = 100\n",
    "miu =  0.0\n",
    "pho =  -0.9\n",
    "strike = 100\n",
    "ref_prices = 6.7304 \n",
    "\n",
    "#h = 0.001\n",
    "#epsilon = 0.00001\n",
    "n_paths = 100\n",
    "\n",
    "bias = simulation()\n",
    "print(\"conditional_simulation_bias(last_year_result):\", -5.264797, \"\\n\", \"Exact_simulation_bias(last_year_result):\",-2.317013, \"\\n\",  \"AE_simulation_bias:\", bias)"
   ]
  },
  {
   "cell_type": "code",
   "execution_count": 45,
   "metadata": {},
   "outputs": [
    {
     "name": "stdout",
     "output_type": "stream",
     "text": [
      "conditional_simulation_bias(last_year_result): 8.21686 \n",
      " Exact_simulation_bias(last_year_result): 2.124119 \n",
      " AE_simulation_bias: 2.392375085762871\n"
     ]
    }
   ],
   "source": [
    "sigma_v = 0.9\n",
    "theta = 0.04\n",
    "kappa = 0.3\n",
    "texp = 5\n",
    "V_0 = 0.04\n",
    "S_0 = 100\n",
    "miu =  0.0\n",
    "pho =  -0.5\n",
    "strike = 100\n",
    "ref_prices = 7.0972 \n",
    "\n",
    "#h = 0.001\n",
    "#epsilon = 0.00001\n",
    "n_paths = 1000\n",
    "\n",
    "bias = simulation()\n",
    "print(\"conditional_simulation_bias(last_year_result):\", 8.216860, \"\\n\", \"Exact_simulation_bias(last_year_result):\", 2.124119, \"\\n\",  \"AE_simulation_bias:\", bias)"
   ]
  },
  {
   "cell_type": "code",
   "execution_count": 46,
   "metadata": {},
   "outputs": [
    {
     "name": "stdout",
     "output_type": "stream",
     "text": [
      "conditional_simulation_bias(last_year_result): 11.352543 \n",
      " Exact_simulation_bias(last_year_result): 9.372509 \n",
      " AE_simulation_bias: 10.285391258584719\n"
     ]
    }
   ],
   "source": [
    "sigma_v = 1\n",
    "theta = 0.09\n",
    "kappa = 1\n",
    "texp = 5\n",
    "V_0 = 0.09\n",
    "S_0 = 100\n",
    "miu =  0.0\n",
    "pho =  -0.3\n",
    "strike = 100\n",
    "ref_prices = 11.3743 \n",
    "\n",
    "#h = 0.001\n",
    "#epsilon = 0.00001\n",
    "n_paths = 1000\n",
    "\n",
    "bias = simulation()\n",
    "print(\"conditional_simulation_bias(last_year_result):\", 11.352543, \"\\n\", \"Exact_simulation_bias(last_year_result):\", 9.372509 , \"\\n\",  \"AE_simulation_bias:\", bias)"
   ]
  },
  {
   "cell_type": "code",
   "execution_count": 47,
   "metadata": {},
   "outputs": [
    {
     "name": "stdout",
     "output_type": "stream",
     "text": [
      "conditional_simulation_bias(last_year_result): -4.432225 \n",
      " Exact_simulation_bias(last_year_result): -1.392355 \n",
      " AE_simulation_bias: -1.657025674876298\n"
     ]
    }
   ],
   "source": [
    "sigma_v = 0.6\n",
    "theta = 0.02\n",
    "kappa = 6.2\n",
    "texp = 1\n",
    "V_0 = 0.02\n",
    "S_0 = 100\n",
    "miu =  0.0\n",
    "pho =  -0.7\n",
    "strike = 100\n",
    "ref_prices = 7.02 \n",
    "\n",
    "#h = 0.001\n",
    "#epsilon = 0.00001\n",
    "n_paths = 1000\n",
    "\n",
    "bias = simulation()\n",
    "print(\"conditional_simulation_bias(last_year_result):\", -4.432225, \"\\n\", \"Exact_simulation_bias(last_year_result):\", -1.392355, \"\\n\",  \"AE_simulation_bias:\", bias)"
   ]
  },
  {
   "cell_type": "code",
   "execution_count": null,
   "metadata": {},
   "outputs": [],
   "source": []
  },
  {
   "cell_type": "code",
   "execution_count": null,
   "metadata": {},
   "outputs": [],
   "source": []
  }
 ],
 "metadata": {
  "kernelspec": {
   "display_name": "Python 3",
   "language": "python",
   "name": "python3"
  },
  "language_info": {
   "codemirror_mode": {
    "name": "ipython",
    "version": 3
   },
   "file_extension": ".py",
   "mimetype": "text/x-python",
   "name": "python",
   "nbconvert_exporter": "python",
   "pygments_lexer": "ipython3",
   "version": "3.7.9"
  },
  "toc": {
   "base_numbering": 1,
   "nav_menu": {},
   "number_sections": true,
   "sideBar": true,
   "skip_h1_title": false,
   "title_cell": "Table of Contents",
   "title_sidebar": "Contents",
   "toc_cell": false,
   "toc_position": {},
   "toc_section_display": true,
   "toc_window_display": false
  }
 },
 "nbformat": 4,
 "nbformat_minor": 4
}
