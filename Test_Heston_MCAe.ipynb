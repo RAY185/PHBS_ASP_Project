{
 "cells": [
  {
   "cell_type": "markdown",
   "metadata": {},
   "source": [
    "<font color=black size=5 face=times>**Almost-Exact Simulation of Heston Model**</font>"
   ]
  },
  {
   "cell_type": "markdown",
   "metadata": {},
   "source": [
    "<font color=black size=3 face=times>**Table Of Contents**<br> \n",
    "    &emsp; &emsp;1. the Heston Model<br>\n",
    "    &emsp; &emsp;2. Time discretization of the Heston Model<br>\n",
    "    &emsp; &emsp;3. Conditional QE method Simulation of the Heston Model of the SV Model<br>\n",
    "    &emsp; &emsp;4. Exact Simulation of the Heston Model<br>\n",
    "    &emsp; &emsp;5. Almost Exact Simulation of the Heston Model<br>\n",
    "    &emsp; &emsp;6. Numerical Experiments</font>"
   ]
  },
  {
   "cell_type": "markdown",
   "metadata": {},
   "source": [
    "<font color=black size=3 face=times>**1. Heston Model**<br>"
   ]
  },
  {
   "cell_type": "markdown",
   "metadata": {},
   "source": [
    "<font color=black size=3 face=times>&emsp; The Heston model is described by the pair stochastic different equations\n",
    "    \n",
    "\\begin{align*} \n",
    "&\\frac{dS_t}{S_t}=\\mu dt+\\sqrt{V_t}\\left(\\rho dW_t^{(1)}+\\sqrt{1-\\rho^2}dW_t^{(2)}\\right),\\tag{$1.1$} \\\\\n",
    "&dV_t=\\kappa\\left(\\theta-V_t\\right)dt+\\sigma_v\\sqrt{V_t}dW_t^{(1)},\\tag{$1.2$}\n",
    "\\end{align*}\n",
    "\n",
    "in which $S_t$ denotes the stock price at time $t$, $\\mu$ is the risk-neutral drift, and $\\sqrt{V_t}$ is the volatility, $\\theta$ is the long-run mean variance, $\\kappa$ represents the speed of mean reversion, $\\sigma_v$ is a pararmeter that determines the volatility of the varance process, $(W_t^{(1)}$,$W_t^{(2)})$ is a standard two-dimentional Brownian motion and $\\rho$ represents the instantaneous correlation between the return process and the volatility procesee. "
   ]
  },
  {
   "cell_type": "markdown",
   "metadata": {},
   "source": [
    "<font color=black size=3 face=times>&emsp; The stock price and the volatility at time $t$, given the values of $S_0$,$V_0$, can be written as\n",
    "    \\begin{align*} \n",
    "    &S_t=S_0\\,exp(\\,\\mu t -\\frac{1}{2}\\int_{0}^{t}V_sd_s+\\rho\\int_{0}^{t}\\sqrt{V_s}dW_s^{(1)}+\\sqrt{1-\\rho^2}\\int_{0}^{t}\\sqrt{V_s}dW_s^{(2)}\\,),\\tag{$1.3$}\\\\\n",
    "    &V_t=V_0+\\kappa\\theta(t-u)-\\kappa\\int_{0}^{t}V_sd_s+\\sigma_v\\int_{0}^{t}\\sqrt{V_s}dW_s^{(1)},\\tag{$1.4$}\n",
    "    \\end{align*}"
   ]
  },
  {
   "cell_type": "markdown",
   "metadata": {},
   "source": [
    "<font color=black size=3 face=times>**2.  Time discretization of the Heston Model**<br>"
   ]
  },
  {
   "cell_type": "markdown",
   "metadata": {},
   "source": [
    "<font color=black size=3 face=times>**2.1. Euler Discretization for the Heston Model**<br>"
   ]
  },
  {
   "cell_type": "markdown",
   "metadata": {},
   "source": [
    "<font color=black size=3 face=times>&emsp; Let $[0=t_0<t_1<...<t_M=T]$ be a partition of a time interval into $M$ equal segments of length $\\Delta t$, i.e., $t_i = iT/M$ for each $i=0,...,M$. The discretization for stock price process and variance process is \n",
    "    \\begin{align*}\n",
    "    S_{t_i}&=S_{t_{i-1}}+\\mu S_{t_{i-1}} \\Delta t+ \\sqrt{V_{t_{i-1}}} [\\rho \\Delta W_{t_{i}}^{(1)} + \\sqrt{1-\\rho^2} \\Delta W_{t_i}^{(2)}] ,\\tag{$2.1$}\\\\\n",
    "    V_{t_{i}}& = V_{t_{i-1}} + \\kappa(\\theta-V_{t_{i-1}})\\Delta t + \\sqrt{V_{t-i}} \\sigma_v \\Delta W_{t_i}^{(1)}, \\tag{$2.2$}\n",
    "    \\end{align*}\n",
    "in which, $ \\Delta W_{t_i}^{(j)} = W_{t_i}^{(j)}-W_{t_i-1}^{(j)}, j=1,2$\n",
    "    "
   ]
  },
  {
   "cell_type": "markdown",
   "metadata": {},
   "source": [
    "<font color=black size=3 face=times>**2.1. Milstein Discretization for the Heston Model**<br>"
   ]
  },
  {
   "cell_type": "markdown",
   "metadata": {},
   "source": [
    "<font color=black size=3 face=times>&emsp; Let $[0=t_0<t_1<...<t_M=T]$ be a partition of a time interval into $M$ equal segments of length $\\Delta t$, i.e., $t_i = iT/M$ for each $i=0,...,M$. The discretization for stock price process and variance process is \n",
    "    \\begin{align*}\n",
    "    S_{t_i}&=S_{t_{i-1}}+\\mu S_{t_{i-1}} \\Delta t+ \\sqrt{V_{t_{i-1}}} [\\rho \\Delta W_{t_{i}}^{(1)} + \\sqrt{1-\\rho^2} \\Delta W_{t_i}^{(2)}] ,\\tag{$2.3$}\\\\\n",
    "    V_{t_{i}}& = V_{t_{i-1}} + \\kappa(\\theta-V_{t_{i-1}})\\Delta t + \\sqrt{V_{t-i}} \\sigma_v \\Delta W_{t_i}^{(1)}, \\tag{$2.4$}\n",
    "    \\end{align*}\n",
    "in which, $ \\Delta W_{t_i}^{(j)} = W_{t_i}^{(j)}-W_{t_i-1}^{(j)}, j=1,2$\n",
    "    "
   ]
  },
  {
   "cell_type": "markdown",
   "metadata": {},
   "source": [
    "<font color=black size=3 face=times>**3.  Conditional QE method Simulation of the Heston Model of the SV Model**<br>\n",
    "    <br/>\n",
    "    <font color=black size=3 face=times>**Main references**: <br>\n",
    "         Andersen, L. (2008). Simple and efficient simulation of the Heston stochastic volatility model. *The Journal of Computational Finance, 11*(3), 1–42. <br>\n",
    "        Van Haastrecht, A., & Pelsser, A. (2010). Efficient, almost exact simulation of the heston stochastic volatility model. *International Journal of Theoretical and Applied Finance, 13*(01), 1–43. <br>"
   ]
  },
  {
   "cell_type": "markdown",
   "metadata": {},
   "source": [
    "<font color=black size=3 face=times>**3.1. Notation declaration**<br>"
   ]
  },
  {
   "cell_type": "markdown",
   "metadata": {},
   "source": [
    "This section is done in collaboration with other groups, so the notation is silghtly differernt. We reclaim the notation of the SDE of Heston model in this part:<br>\n",
    "\n",
    "\\begin{align*}\n",
    "&dX(t)/X(t)=\\sqrt{V(t)}dW_X(t) , \\tag{$3.1$}\\\\\n",
    "&dV(t)=\\kappa(\\theta-V(t))dt+\\epsilon\\sqrt{V(t)}dW_V(t), \\tag{$3.2$}\n",
    "\\end{align*} \n",
    "\n",
    "- $W_X$ and $W_V$ are scalar Brownian motions in some probability measure and assume that $dW_X(t)\\dot dW_Y(t)=\\rho dt$\n",
    "- $\\widehat{X}$ and $\\widehat{V}$ denote discrete-time approximations to $X$ and $V$, i.e. The basic Euler Scheme would take the form:\n",
    "\n",
    "\\begin{align*}\n",
    "    ln\\widehat{X}(t+\\Delta)&=ln\\widehat{X}(t)-\\frac{1}{2}\\widehat{V}(t)\\Delta+\\sqrt{\\widehat{V}(t)}Z_X\\sqrt{\\Delta} ,\\tag{$3.3$}\\\\\n",
    "    ln\\widehat{V}(t+\\Delta)&=\\widehat{V}(t)+\\kappa(\\theta-\\widehat{V}(t))\\Delta+\\epsilon\\sqrt{\\widehat{V}(t)}Z_V\\sqrt{\\Delta}, \\tag{$3.4$}\n",
    "    \\end{align*}  \n",
    "- $V(t),V(t+\\Delta)$ are sampled directly from the known conditional distribution of $V(t)$ and $lnX(t),lnX(t+\\Delta)$ are from Gaussian distribution. "
   ]
  },
  {
   "cell_type": "markdown",
   "metadata": {},
   "source": [
    "<font color=black size=3 face=times>**3.2. General discrete-time approximation schemes**<br>"
   ]
  },
  {
   "cell_type": "markdown",
   "metadata": {},
   "source": [
    "<font color=black size=3 face=times>**Kahl-Jackel Scheme**<br>\n",
    "    &emsp;&emsp;Using Milstein scheme to discretize the V-process and \"IJK\" discretization for the stock process:\n",
    "    \\begin{align*}\n",
    "    ln\\widehat{X}(t+\\Delta)&=ln\\widehat{X}(t)-\\frac{\\Delta}{4}(\\widehat{V}(t+\\Delta)+\\widehat{V}(t))+\\rho\\sqrt{\\widehat{V}(t)}Z_V\\sqrt{\\Delta}+\\frac{1}{2}\\left(\\sqrt{\\widehat{V}(t+\\Delta)}+\\sqrt{\\widehat{V}(t)}\\right)(Z_X\\sqrt{\\Delta}-\\rho Z_V\\sqrt{\\Delta})+\\frac{1}{4}\\epsilon\\rho\\Delta(Z_V^2-1),\\tag{$3.5$}\\\\\n",
    "    \\widehat{V}(t+\\Delta) &= \\frac{\\widehat{V}(t)+\\kappa\\theta\\Delta+\\epsilon\\sqrt{\\widehat{V}(t)}Z_V\\sqrt{\\Delta}+\\frac{1}{4}\\epsilon^2\\Delta(Z_V^2-1)}{1+\\kappa\\Delta}, \\tag{$3.6$}\n",
    "    \\end{align*}\n",
    "    <br/>"
   ]
  },
  {
   "cell_type": "markdown",
   "metadata": {},
   "source": [
    "<font color=black size=3 face=times>**Broadie-Kaya Scheme**<br>"
   ]
  },
  {
   "cell_type": "markdown",
   "metadata": {},
   "source": [
    "\\begin{align*}\n",
    "    V(t+\\Delta)&=V(t)+\\int_{t}^{t+\\Delta}\\kappa(\\theta-V(u))du+\\epsilon \\int_{t}^{t+\\Delta}\\sqrt{V(u)}dW_V(u) ,\\tag{$3.7$}\\\\\n",
    "    lnX(t+\\Delta)&=lnX(t)+\\frac{\\rho}{\\epsilon}(V(t+\\Delta)-V(t)-\\kappa\\theta\\Delta)+(\\frac{\\kappa\\rho}{\\epsilon}-\\frac{1}{2})\\int_{t}^{t+\\Delta}V(u)du+\\sqrt{1-\\rho^2}\\int_{t}^{t+\\Delta}\\sqrt{V(u)}dW(u), \\tag{$3.8$}\n",
    "    \\end{align*}"
   ]
  },
  {
   "cell_type": "markdown",
   "metadata": {},
   "source": [
    "<font color=black size=3 face=times>**3.3. TG Scheme**<br>\n"
   ]
  },
  {
   "cell_type": "markdown",
   "metadata": {},
   "source": [
    "&emsp;&emsp; The TG (Truncated Gaussian) Scheme writes\n",
    "    $$\\widehat{V}(t+\\Delta)=(\\mu+\\sigma\\dot Z_V)^{+},\\tag{$3.9$}$$\n",
    "    &emsp;&emsp; where $Z_V$ is a standart Gaussian random variable, and $\\mu$ and $\\sigma$ are constants that will depend on the time-step $\\Delta$ and $\\widehat{V}(t)$, as well as the parameters in the SDE for $V$.<br>\n",
    "    &emsp;&emsp;Let:\n",
    "    \\begin{align*}\n",
    "    m&=\\theta+(\\widehat{V}(t)-\\theta)e^{-\\kappa\\Delta},\\tag{$3.10$}\\\\\n",
    "    s^2&=\\frac{\\widehat{V}(t)\\epsilon^2 e^{-\\kappa\\Delta}}{\\kappa}(1-e^{-\\kappa\\Delta})+\\frac{\\theta\\epsilon^2}{2\\kappa}(1-e^{-\\kappa\\Delta})^2,\\tag{$3.11$}\\\\\n",
    "    \\Psi&\\equiv s^2/m^2 =\\frac{\\frac{\\widehat{V}(t)\\epsilon^2 e^{-\\kappa\\Delta}}{\\kappa}(1-e^{-\\kappa\\Delta})+\\frac{\\theta\\epsilon^2}{2\\kappa}(1-e^{-\\kappa\\Delta})^2}{(\\theta+(\\widehat{V}(t)-\\theta)e^{-\\kappa\\Delta})^2}, \\tag{$3.12$}\n",
    "    \\end{align*}\n",
    "    &emsp;&emsp; Define the ratio $r=\\mu/\\sigma$, match the mean to $m$ results in:\n",
    "    $$\\mu=\\frac{m}{r^{-1}\\phi(r)+\\Phi(r)};\\quad \\sigma=r^{-1}\\mu=\\frac{m}{\\phi(r)+r\\Phi(r)}$$\n",
    "    &emsp;&emsp; where $\\phi$ is pdf of normal distribution and $\\Phi$ is cdf of normal distribution.\n",
    "    \\begin{align*}\n",
    "    &\\mu=f_{\\mu}(\\Psi)\\cdot m,\\quad f_{\\mu}(\\Psi)=\\frac{r(\\Psi)}{\\phi(r(\\Psi))+r(\\Psi)\\Phi(r(\\Psi))},\\tag{$3.13$}\\\\\n",
    "    &\\sigma=f_{\\sigma}(\\Psi)\\cdot s,\\quad f_{\\sigma}(\\Psi)=\\frac{\\Psi^{-1/2}}{\\phi(r(\\Psi))+r(\\Psi)\\Phi(r(\\Psi))},\\tag{$3.14$}\n",
    "    \\end{align*}\n",
    "    &emsp;&emsp;The detailed algorithm for the TG simulation step from $\\widehat{V}(t)$ to $\\widehat{V}(t+\\Delta)$ is as follows:<br>\n",
    "    &emsp;&emsp;1.Given $\\widehat{V}(t)$, compute $m$ and $s^2$ from (3.9) and (3.10).<br>\n",
    "    &emsp;&emsp;2.Compute $\\Psi=s^2/m^2$ and look up $f_{\\mu}(\\Psi)$ and $f_{\\sigma}(\\Psi)$ from cache<br>\n",
    "    &emsp;&emsp;3.Compute $\\mu$ and $\\sigma$ according to equations (3.13) and (3.14)<br>\n",
    "    &emsp;&emsp;4.Compute $Z_V=\\Phi^{-1}(U_V)$<br>\n",
    "    &emsp;&emsp;5.Set $\\widehat{V}(t+\\Delta)=(\\mu+\\sigma\\dot Z_V)^{+}$"
   ]
  },
  {
   "cell_type": "markdown",
   "metadata": {},
   "source": [
    "<font color=black size=3 face=times>**3.4. QE Scheme**<br>"
   ]
  },
  {
   "cell_type": "markdown",
   "metadata": {},
   "source": [
    "\n",
    "   &emsp;&emsp; For the non-central chi-square distribution approaches a Gaussian distribution as the non-centrality paremeter approaches $\\infty$, but for small $V(t)$, the non-centrality parameter approaches zero, and the Gaussian variable is typically not accurate.<br>\n",
    "    &emsp;&emsp; For sufficiently large values of $\\widehat{V}(t)$, we write:\n",
    "    $$\\widehat{V}(t+\\Delta)=a(b+Z_V)^2,\\tag{$3.15$}$$\n",
    "    &emsp;&emsp; For low values of $\\widehat{V}(t)$, we use asymptotic density and approximated density for $\\widehat{V}(t+\\Delta)$, we have the form:\n",
    "        $$\\Psi^{-1}(u)=\\Psi^{-1}(u;p,\\beta)=\\left\\{\n",
    "\\begin{aligned}\n",
    "&0,  & 0\\le u\\le p \\\\\n",
    "&\\beta^{-1}ln(\\frac{1-p}{1-u}),& p<u\\le1.\n",
    "\\end{aligned},\\tag{$3.16$}\n",
    "\\right.\n",
    "$$\n",
    "    &emsp;&emsp; The scheme varies when $\\Psi$ is big and when $\\Psi$ is small.<br>\n",
    "    &emsp;&emsp; Assume that some arbitrary level $\\Psi_c\\in [1,2]$ has beem selected. The detailed algorithm for the QE simulation step from $\\widehat{V}(t)$ to $\\widehat{V}(t+\\Delta)$ is then:<br>\n",
    "    &emsp;&emsp;1. Given $\\widehat{V}(t)$, compute $m$ and $s^2$ from the equations (3.10) and (3.11).<br>\n",
    "    &emsp;&emsp;2. Compute $\\Psi=s^2/m^2$<br>\n",
    "    &emsp;&emsp;3. Draw a uniform random number $U_V$<br>\n",
    "    &emsp;&emsp;4. **If** $\\Psi\\leq \\Psi_c$:<br>\n",
    "    &emsp;&emsp;&emsp;&emsp;(a) Compute a and b as:\n",
    "    \\begin{align*}\n",
    "    &b^2=2\\Psi^{-1}-1+\\sqrt{2\\Psi^{-1}}\\sqrt{{2\\Psi^{-1}-1}}\\ge 0,\\tag{$3.17$}\\\\\n",
    "    &a=\\frac{m}{1+b^2},\\tag{$3.18$}\\\\\n",
    "    \\end{align*}\n",
    "    &emsp;&emsp;&emsp;&emsp;(b) Compute $Z_V=\\Phi^{-1}(U_V)$<br>\n",
    "    &emsp;&emsp;&emsp;&emsp;(c) Set $\\widehat{V}(t+\\Delta)=a(b+Z_V)^2$<br>\n",
    "    &emsp;&emsp;5.**Otherwise**, if $\\Psi>\\Psi_c$:<br>\n",
    "    &emsp;&emsp;&emsp;&emsp;(a) Compute $\\beta$ and $p$ as:\n",
    "    \\begin{align*}\n",
    "    &p=\\frac{\\Psi-1}{\\Psi+1}\\in [0,1),\\tag{$3.19$}\\\\\n",
    "    &\\beta=\\frac{1-p}{m}=\\frac{2}{m(\\Psi+1)}>0,\\tag{$3.20$}\\\\\n",
    "    \\end{align*}\n",
    "    &emsp;&emsp;&emsp;&emsp;(b) Set $\\widehat{V}(t+\\Delta)=\\Psi^{-1}(U_V;p,\\beta)$, where $\\Psi^{-1}$ is given at (3.16)<br>\n",
    "    &emsp;&emsp; After simulating the path, calculate:\n",
    "\\begin{align*}\n",
    "     E\\left(S_T|V(T),\\int V(t)dt\\right)&=S_0 exp\\left(\\frac{\\rho}{\\nu}(V(T)-V(0))-\\kappa(\\theta-\\int_{0}^{T}V(t)dt)\\right),\\tag{$3.21$}\\\\\n",
    "     \\sigma&=\\left((1-\\rho^2)\\int_{0}^{T}V(t)dt\\right)^{\\frac{1}{2}},\\tag{$3.22$}\\\\\n",
    "    \\end{align*}\n",
    "    &emsp;&emsp; Then bring the Forward price and volatility into the option pricing model."
   ]
  },
  {
   "cell_type": "markdown",
   "metadata": {},
   "source": [
    "<font color=black size=3 face=times>**4.  Exact Simulation of the Heston Model**<br>"
   ]
  },
  {
   "cell_type": "markdown",
   "metadata": {},
   "source": [
    "<font color=black size=3 face=times>**Main references**: <br>\n",
    "Broadie, M., & Kaya, Ö. (2006). Exact simulation of stochastic volatility and other affine jump diffusion processes. *Operations research, 54*(2), 217-231.<br> \n",
    "CCox, J., Ingersoll, J. E., & Ross, S. A. (1985). A theory of the term structure of interest rates. *Econometrica, 53*(2), 385-407.<br>\n",
    "Glasserman, P., & Kim, K. K. (2011). Gamma expansion of the Heston stochastic volatility model. *Finance and Stochastics, 15*(2), 267-296.<br>\n",
    "Pitman, J., & Yor, M. (1982). A decomposition of Bessel bridges. *Zeitschrift für Wahrscheinlichkeitstheorie und verwandte Gebiete, 59*(4), 425-457."
   ]
  },
  {
   "cell_type": "markdown",
   "metadata": {},
   "source": [
    "<font color=black size=3 face=times>&emsp; Based on the above derivation, we first give the exact simulation algorithm for the Heston model.<br>\n",
    "    &emsp;&emsp;step 1: Generate a sample from the distribution of $V_t$ given $V_0$.<br>\n",
    "    &emsp;&emsp;step 2: Generate a sample from the distribution of $\\int_{0}^{t}V_sd_s$ given $V_t$,$V_0$.<br>\n",
    "    &emsp;&emsp;step 3: recover $\\int_{0}^{t}\\sqrt{V_s}dW_s^{(1)}$ $\\,$ from (1.4)$\\,$ given$V_t,V_0,and \\int_{0}^{t}V_sd_s$.<br>\n",
    "    &emsp;&emsp;step 4: Generate a sample from the distribution of $S_t$ given $\\int_{0}^{t}\\sqrt{V_t}dW_s^{(1)}$ and $\\int_{0}^{t}V_s ds$ <br>  "
   ]
  },
  {
   "cell_type": "markdown",
   "metadata": {},
   "source": [
    "<font color=black size=3 face=times>**4.1. Step 1: Generate a sample from the distribution of $V_t$ given $V_0$**<br>"
   ]
  },
  {
   "cell_type": "markdown",
   "metadata": {},
   "source": [
    "<font color=black size=3 face=times>&emsp; Given $V_0$, the distribution of $V_t$ is a non-central chi-squared distribution,the transaction law can be expressed as \n",
    "    $$V_t=\\frac{\\sigma_v^2(1-e^{-\\kappa t})}{4\\kappa}\\chi_d^{'2}\\left( \\frac{4\\kappa e^{-\\kappa t}}{\\sigma_v^2(1-e^{-\\kappa t})} V_0\\right),\\tag{$4.1$}$$\n",
    "in which, $ d=\\frac{4\\theta\\kappa}{\\sigma_v^2}, \\lambda=\\frac{4\\kappa exp(-\\kappa(t-u))}{\\sigma^{2}_{v}\\left(1-exp(-\\kappa(t-u)) \\right)} V_0$"
   ]
  },
  {
   "cell_type": "markdown",
   "metadata": {},
   "source": [
    "<font color=black size=3 face=times>**4.2. Step 2: Generate a sample from the distribution of $\\int_{0}^{t}V_sd_s$ given $V_t$,$V_0$**<br>"
   ]
  },
  {
   "cell_type": "markdown",
   "metadata": {},
   "source": [
    "<font color=black size=3 face=times>&emsp; Sampling from $\\int_{0}^{t}V_s ds$ is the focus for the whole simulation process, in this section, we will introduce the basic method (**Fourier Inversion Techniques**) and its improvemnt (**Gamma Expansion**) for the sampling."
   ]
  },
  {
   "cell_type": "markdown",
   "metadata": {},
   "source": [
    "<font color=black size=3 face=times>**Fourier Inversion Techniques**<br>"
   ]
  },
  {
   "cell_type": "markdown",
   "metadata": {},
   "source": [
    "<font color=black size=3 face=times>&emsp; Broadie and Kaya (2006) used fourier inversion techniques.The Laplace transform of the integrated variance is as following<br>\n",
    "\\begin{align*} \n",
    "    \\phi(a)&=E[exp(ia\\int_{0}^{t}V_sds)| V_0,V_t]\\\\\n",
    "        &=\\frac{\\gamma(a)e^{(-1/2)(\\gamma(a)-\\kappa)t\\;}(1-e^{-\\kappa t})}{\\kappa(1-e^{-\\gamma(a) t})}\n",
    "        \\times exp\\lbrace\\frac{V_0+V_t}{\\sigma^2}[\\frac{\\kappa(1+e^{-\\kappa t})}{1-e^{-\\kappa t}}-\\frac{\\gamma(a)(1+e^{-\\gamma(a)t})}{1-         e^{-\\gamma(a)t}}]\\rbrace\n",
    "        \\times \\frac{I_{0.5d-1}\\;[\\sqrt{V_0V_t}\\frac{4\\gamma(a)e^{-0.5\\gamma(a)t}}{\\sigma^2(1-e^{-\\gamma(a)t})}\\;\\;]}{I_{0.5d-1}\\;[\\sqrt{V_0V_t}\\frac{4\\kappa e^{-0.5\\kappa t}}{\\sigma^2(1-e^{\\kappa t})}\\;\\;]}\\tag{$4.2$}\n",
    "\\end{align*}\n",
    "\n",
    "where $\\gamma(a)=\\sqrt{\\kappa^2+2\\sigma^2 ia}$, $d$ is as given in (4.1), and $I_v(x)$ is the modified Bessel function of the first kind. ."
   ]
  },
  {
   "cell_type": "markdown",
   "metadata": {},
   "source": [
    "The modified Bessel function\n",
    "of the first kind is characterized by the following power\n",
    "series:\n",
    "    \n",
    "\\begin{align*}\n",
    "I_v(x)=(\\frac{1}{2}z)^{v}\\sum_{j=0}^{\\infty}\\frac{(\\frac{1}{4}z^2)^j}{j!\\Gamma(v+j=1)}\\tag{$4.3$}\n",
    "\\end{align*}"
   ]
  },
  {
   "cell_type": "markdown",
   "metadata": {},
   "source": [
    "<font color=black size=3 face=times>&emsp; $\\,$ Let $V(t)$ denote the random variable $\\int_0^tV_sds$, the probability funcion can be computed using fourier inversion methods.\n",
    "\\begin{align*}\n",
    "F(x)&=Pr(V(t)\\leqslant x)\\\\&=\\frac{1}{\\pi}\\int_{-\\infty}^{\\infty}\\frac{sin ux}{u}\\phi(-iu)du\\\\\n",
    "&=\\frac{2}{\\pi}\\int_0^{\\infty}\\frac{sin ux}{u}Re[\\phi(-iu)]du \\tag{$4.4$}\n",
    "\\end{align*}"
   ]
  },
  {
   "cell_type": "markdown",
   "metadata": {},
   "source": [
    "<font color=black size=3 face=times>&emsp; Through  choosing proper N, the truncation error can be controlled, then the approximation becomes\n",
    "$$Pr(V(t)\\leqslant x)=\\frac{hx}{u}+\\frac{2}{\\pi}\\sum_{j=1}^{N}\\frac{sin hj}{j}Re[\\phi(-ihj)]-e_d(h)-e_T(N)\\tag{$4.5$}$$"
   ]
  },
  {
   "cell_type": "markdown",
   "metadata": {},
   "source": [
    "<font color=black size=3 face=times>&emsp;The hardest and numerically most **time-consuming** part\n",
    "is the evaluation of the characteristic function. The characteristic function given in (4.2) involves two modified Bessel functions of the first kind, and the one in the numerator has a complex argument. "
   ]
  },
  {
   "cell_type": "markdown",
   "metadata": {},
   "source": [
    "<font color=black size=3 face=times>**Improvement: Gamma Expansion**<br>"
   ]
  },
  {
   "cell_type": "markdown",
   "metadata": {},
   "source": [
    "<font color=black size=3 face=times>**Theorem 1** The distribution of $\\int_0^tV_sds$ conditional on its end point admits the representation\n",
    "    $$(\\int_0^tV_sds|V_0=v_0,V_t=v_t)=X_1+X_2+X_3=X_1+X_2+\\sum_{j=1}^{\\eta}Z_j \\tag{$4.6$} $$"
   ]
  },
  {
   "cell_type": "markdown",
   "metadata": {},
   "source": [
    "<font color=black size=3 face=times> in which$ X_1,X_2,\\eta,Z_1,Z_2 ...$ are mutually independent, the $Z_j$ are independent copies of a random variable Z,and $\\eta$ is a bessel random variable BES(v,z) with parameters $v=\\frac{\\delta}{2}-1$ and $z=\\frac{2\\kappa/\\sigma^2}{sinh(\\kappa t/2)}\\sqrt{V_0V_t}$.\n",
    "    \n",
    "<font color=black size=3 face=times> Moreover,$\\,X_1,X_2\\,and\\, Z$ have the representations \n",
    "    $$X_1=\\sum_{n=1}^{\\infty}\\sum_{j=1}^{N_n}Exp_j(1),\\qquad X_2=\\sum_{n=1}^{\\infty}\\frac{1}{\\gamma_n}\\Gamma_n(\\frac{\\delta}{2},1),\\qquad Z=\\sum_{n=1}^{\\infty}\\frac{1}{\\gamma_n}\\Gamma_n(2,1)\\tag{$4.7$},$$\n",
    "    where $\\delta=4\\kappa\\theta/\\sigma^2$,\n",
    "    $$\\lambda_n=\\frac{16\\pi^2n^2}{\\sigma^2t(\\kappa^2t^2+4\\pi^2n^2)},\\qquad \\gamma_n=\\frac{\\kappa^2t^2+4\\pi^2n^2}{2\\sigma^2t^2},$$\n",
    "the$\\,$ $N_n$ are independent Possion random variables with respective means $(v_0+v_t)\\lambda_n$, the $Exp_j(1)$ are independent,unit-mean exponential random variables,and the$\\,$ $\\Gamma_n(\\alpha,\\beta)$ denote independent gamma random variables with shape parameter$\\,$$\\alpha$ and scale parameter $\\beta$."
   ]
  },
  {
   "cell_type": "markdown",
   "metadata": {},
   "source": [
    " <font color=black size=3 face=times> **Lemma 1** The Laplace transform $\\phi^1,\\phi^2$ of $X_1,X_2$ and $Z$ are, for $b\\ge0$\n",
    "    \\begin{align*}\n",
    "    \\phi^1(b)&=exp(\\frac{v_0+v_t}{\\sigma^2}(\\kappa cothh\\frac{\\kappa t}{2}-Lcoth\\frac{Lt}{2})),\\tag{$4.8$}\\\\\n",
    "    \\phi^2(b)&=(\\frac{L}{\\kappa}\\frac{sinh\\,\\kappa t/2}{sinh\\, Lt/2})^{\\delta/2},\\tag{$4.9$}\\\\\n",
    "    \\phi^Z(b)&=(\\frac{L}{\\kappa}\\frac{sinh\\,\\kappa t/2}{sinh \\,Lt/2})^2, \\tag{$4.10$}\\\\\n",
    "    \\end{align*}\n",
    "  where$\\; L=\\sqrt{2\\sigma^2b+\\kappa^2}$."
   ]
  },
  {
   "cell_type": "markdown",
   "metadata": {},
   "source": [
    "<font color=black size=3 face=times>**Lemma 2** Define the remainder random variables\n",
    "    $$X_1^K= \\sum_{n=K+1}^{\\infty}\\frac{1}{\\gamma_n}\\sum_{j=1}^{N_n}Exp_j(1),\\qquad X_2^K=\\sum_{n=K+1}^{\\infty}\\frac{1}{\\gamma_n}\\Gamma(\\delta/2,1),\\qquad Z^K=\\sum_{n=K+1}^{\\infty}\\frac{1}{\\gamma_n}\\Gamma(2,1), \\tag{4.11}$$\n",
    "\n",
    "As  K increases, \n",
    "\\begin{align*}\n",
    "EX^1\\backsim\\frac{2(v_0+v_t)t}{\\pi^2K},\\quad Var(X_1^K)\\backsim\\frac{2(v_0+v_t)\\sigma^2t^3}{3\\pi^4K^3};\\quad\n",
    "EX_2^K\\backsim\\frac{\\delta\\sigma^2t^2}{4\\pi^2K},\\quad Var(X_2^K)\\backsim\\frac{\\delta\\sigma^4t^2}{24\\pi^4K^3};\\quad\n",
    "EZ^K\\backsim\\frac{\\sigma^2t^2}{\\pi^2K}, \\quad Var(Z^K)\\backsim\\frac{\\sigma^4t^2}{6\\pi^4K^3}.\n",
    "\\end{align*}\n",
    "The above results show that the means and variances of the remainders decrease with K."
   ]
  },
  {
   "cell_type": "markdown",
   "metadata": {},
   "source": [
    "<font color=black size=3 face=times> &emsp;Rather than drop the remainders from truncation, we can approximate them with simple random variables, trying to reduce the **truncation error**. One direct way is normal approximation, actually the **gamma approximation** provides a closer approximation.This result is illustrated in the following proposition.   "
   ]
  },
  {
   "cell_type": "markdown",
   "metadata": {},
   "source": [
    "<font color=black size=3 face=times>**Proposition 1** Let $R_K$ denote any of the remainder random variable $X_1^K$,$ X_2^K$ or $Z^K$,and let $\\Gamma_K$denote a gamma random variable with the same mean and variance as $R_K$, let$\\,$ $N_K$denote a normal random variable with the same mean and variance as $R_K$, then $\\Gamma_K$ is closer to $R_K$ than $N_K$ in the following sense: for all $b>0$ in the neighborhood of the origin,\n",
    "    $$0\\leq logEe^{bR_K}-logEe^{b\\Gamma_K}\\leq logEe^{R_K}-logEe^{bN_K},\\tag{$4.12$}$$ \n",
    "for all sufficiently large K.\n",
    "    "
   ]
  },
  {
   "cell_type": "markdown",
   "metadata": {},
   "source": [
    "<font color=black size=3 face=times>&emsp;Recall from the Theorem 1,the end points $v_0$ and $v_t$ appear only in $X_1$ and the Bessel random variable $\\eta$, this enhances the potentical efficiencies gains from this theorem."
   ]
  },
  {
   "cell_type": "markdown",
   "metadata": {},
   "source": [
    "<font color=black size=3 face=times> **Simulation of $X_1$ —— Gamma Expansion**"
   ]
  },
  {
   "cell_type": "markdown",
   "metadata": {},
   "source": [
    "<font color=black size=3 face=times>&emsp;With the proposition 1, we truncate $X_1$ at level K, we use an approximation of the form \n",
    "    $$X_1\\approx \\sum_{n=1}^{K}\\frac{1}{\\gamma_n}\\sum_{j=1}^{N_n}Exp_j(1)+\\Gamma_K^1 \\tag{$4.13$}$$"
   ]
  },
  {
   "cell_type": "markdown",
   "metadata": {},
   "source": [
    "<font color=black size=3 face=times> **Simulation of $X_2$ —— Transform Inversion**"
   ]
  },
  {
   "cell_type": "markdown",
   "metadata": {},
   "source": [
    "<font color=black size=3 face=times> &emsp; The methods discussed for $X_1$-sampling through repeated transform inversion or through the gamma expansion are both applicable to $X_2$ as well. However, the fact that $X_2$ does not depend on the $v_0$or $v_t$ opens a further option of tablulation.Since **the distribution of $X_2$ does not dependent on any intermediate simulated $V_t$ values**, we can therefore tabulate the distribution at the start.<br>\n",
    "&emsp; We first compute the the $F_{X_2}(x_i)$, using the Abate-Whitt algorithm,\n",
    "    $$F_{X_2}(x)\\approx \\frac{hx}{\\pi}+\\frac{2}{\\pi}\\sum_{k=1}^{N}\\frac{sinhkx}{k}Re(\\phi^2(-ihk)),\\quad h=\\frac{2\\pi}{x+u_\\epsilon}\\tag{$4.14$}.$$\n",
    "Here, $u_{\\epsilon}=\\mu_{X_2}+12\\sigma_{X_2}$, with $\\mu_{X_2}$ the mean of $X_2$, $\\sigma_{X_1}$ its standard deviation.\n",
    "$$\\mu_{X_2}=\\delta \\mu_{X_2}^* \\qquad \\sigma_{X_2}^2=\\delta {\\sigma_{X_2}^*}^2 $$\n",
    "in which \n",
    "\\begin{align*}\n",
    "\\mu_{X_2}^* &= \\frac{\\sigma^2}{4\\kappa^2}(-2+\\kappa t coth(\\frac{\\kappa t}{2}))\\tag{$4.15$}\\\\\n",
    "{\\sigma_{X_2}^*}^2 &=  \\frac{\\sigma^2}{8\\kappa^2}(-8+2\\kappa t coth(\\frac{\\kappa t}{2})+\\kappa^2t^2csch^2(\\frac{\\kappa t}{2})) \\tag{$4.16$}\n",
    "\\end{align*}\n",
    "\n",
    "Then we compute $F_{X_2}(x_i)$ at the points\n",
    "    $$x_i=w\\mu_{X_2}+\\frac{i-1}{M}(u_{\\epsilon}-w\\mu_{X_2}),i=1,...,M+1, \\tag{4.17}$$\n",
    "in which $M=200$, $w=0.01$\n",
    "\n",
    "Then generate U uniformly over $[0,1]$, and set $X_2=F_{X_2}^{-1}(U)$, using **linear interpolation**.\n"
   ]
  },
  {
   "cell_type": "markdown",
   "metadata": {},
   "source": [
    "<font color=black size=3 face=times> **Simulation of $X_3$  —— Transform Inversion**"
   ]
  },
  {
   "cell_type": "markdown",
   "metadata": {},
   "source": [
    "<font color=black size=3 face=times>&emsp;  When generating samples for $X_3$, we note that the distribution of $Z$ is a special case of that of $X_2$, the means and variance of Z are given by $\\mu_Z=4\\mu_{X_2}^*$$\\,$, and $\\sigma_Z^2=4{\\sigma_{X_2}^*}^2$,with the parameters given. <br>\n",
    "&emsp; To simulate the $X_3$, we need to further generate the Bessel random variable $\\mu \\backsim BES(v,z)$,with parameters\n",
    "    $$v=\\frac{\\delta}{2}-1,\\qquad z=\\frac{2\\kappa/\\sigma^2}{sinh(\\kappa t/2)}\\sqrt{v_0v_t},\\tag{4.18}$$\n",
    "we firstly generate $U$ uniformly over $[0,1]$ and calculate the probability mass function recursively via\n",
    "$$p_{n+1}=\\frac{z^2}{4(n+1)(n+1+v)}p_n,\\qquad p_0=\\frac{(z/2)^2}{I_v(z)\\Gamma(v+1)}, \\tag{4.19}$$\n",
    "until we reach a value $\\mu$ such that\n",
    "$$\\sum_{n=0}^{\\mu-1}p_n\\leq U \\leq \\sum_{n=0}^{\\mu}p_n$$\n",
    "we return $\\mu$ as our sample from the Bessel distribution."
   ]
  },
  {
   "cell_type": "markdown",
   "metadata": {},
   "source": [
    "<font color=black size=3 face=times>**4.3. Step 3: recover $\\int_{0}^{t}\\sqrt{V_s}dW_s^{(1)}$ $\\,$ from (1.4)$\\,$ given$V_t,V_0,and \\int_{0}^{t}V_sd_s$**<br>"
   ]
  },
  {
   "cell_type": "markdown",
   "metadata": {},
   "source": [
    "<font color=black size=3 face=times> &emsp; After having generated samples from $V_t$ and$\\int_0^tV_sds,$ we use (3.2) to get \n",
    "    $$\\int_0^t\\sqrt{V_s}dW_s^{(1)}=\\frac{1}{\\sigma_v}(V_t-V_u-\\kappa\\theta t+\\kappa\\int_0^tV_sds)\\tag{$4.20$}$$\n",
    "\n"
   ]
  },
  {
   "cell_type": "markdown",
   "metadata": {},
   "source": [
    "<font color=black size=3 face=times>**4.4. Step 4: Generate a sample from the distribution of $S_t$ given $\\int_{0}^{t}\\sqrt{V_t}dW_s^{(1)}$ and $\\int_{0}^{t}V_s ds$**<br>"
   ]
  },
  {
   "cell_type": "markdown",
   "metadata": {},
   "source": [
    "<font color=black size=3 face=times> &emsp;Further more,because the process for $V_t$ is independent of the Brownian motion $W_t^{(2)}$, the distribution of $\\int_0^t\\sqrt(V_s)dW_s^{(2)}$,given the path generated by $V_t$, is normal, with the mean 0 and variance $\\int_0^tV_sds$.Using the above results, we get the conditional distribution of $logS_t$ is normal with mean\n",
    "$$m(t)=logS_0+[\\mu t-\\frac{1}{2}\\int_0^tV_sds+\\rho\\int_0^t\\sqrt{V_s}dW_s^{(1)}], \\tag{4.21}$$<br>\n",
    "and variance\n",
    "$$\\sigma(t)^2=(1-\\rho^2) \\int_0^t V_s ds, \\tag{4.22}$$\n",
    "to generate a sample from $S_t$,we generate a standard normal random variable $Z$ and then set \n",
    "$$S_t=e^{m(t)+\\sigma(t)Z}, \\tag{4.23}$$"
   ]
  },
  {
   "cell_type": "markdown",
   "metadata": {},
   "source": [
    "<font color=black size=3 face=times>**5.  Almost-Exact Simulation of the Heston Model**<br>"
   ]
  },
  {
   "cell_type": "markdown",
   "metadata": {},
   "source": [
    "<font color=black size=3 face=times> &emsp;Drawback of exact simulation (if existing):\n",
    "- Inverse Laplace transform of $V_t|v_t$ is complicated.\n",
    "- Drawing random number from numerical CDF is also slow.\n",
    "    \n",
    "The general idea of almost-exact simulation of the heston model is that approximate the distribution of $\\int_{0}^{t}V_sd_s$ given $V_t$,$V_0$ with a well-known distribution with easy sampling with moment matching, $E(V_t|_t )$, $E(V_t^2|_t )$, etc."
   ]
  },
  {
   "cell_type": "markdown",
   "metadata": {},
   "source": [
    "<font color=black size=3 face=times>&emsp; We give the almost exact simulation algorithm for the Heston model.<br>\n",
    "    &emsp;&emsp;step 1: Generate a sample from the distribution of $V_t$ given $V_0$.<br>\n",
    "    &emsp;&emsp;step 2: Generate a sample from the approximation distribution of $\\int_{0}^{t}V_sd_s$ given $V_t$,$V_0$.<br>\n",
    "    &emsp;&emsp;step 3: recover $\\int_{0}^{t}\\sqrt{V_s}dW_s^{(1)}$ $\\,$ from (1.4)$\\,$ given$V_t,V_0,and \\int_{0}^{t}V_sd_s$.<br>\n",
    "    &emsp;&emsp;step 4: Generate a sample from the distribution of $S_t$ given $\\int_{0}^{t}\\sqrt{V_t}dW_s^{(1)}$ and $\\int_{0}^{t}V_s ds$ <br>  "
   ]
  },
  {
   "cell_type": "markdown",
   "metadata": {},
   "source": [
    "<font color=black size=3 face=times>**6.  Numerical Experiments**<br>"
   ]
  },
  {
   "cell_type": "code",
   "execution_count": 1,
   "metadata": {},
   "outputs": [],
   "source": [
    "%load_ext autoreload\n",
    "%autoreload 2"
   ]
  },
  {
   "cell_type": "code",
   "execution_count": 2,
   "metadata": {},
   "outputs": [],
   "source": [
    "import numpy as np\n",
    "import pandas as pd\n",
    "import time \n",
    "# Uncomment below if you want to run on your own modified code\n",
    "# import sys\n",
    "# sys.path.insert(sys.path.index('')+1, r\"E:\\PycharmProjects\\PyFENG\")\n",
    "# import pyfeng as pf\n",
    "\n",
    "\n",
    "SEED = np.random.seed(0)"
   ]
  },
  {
   "cell_type": "code",
   "execution_count": 3,
   "metadata": {},
   "outputs": [],
   "source": [
    "from HestonMCAe import HestonMCAe\n",
    "from heston_cmc_qe import HestonCondMcQE"
   ]
  },
  {
   "cell_type": "markdown",
   "metadata": {},
   "source": [
    "<font color=black size=4.5 face=times>**Test on relationship between paths, bias and time.**<br>"
   ]
  },
  {
   "cell_type": "markdown",
   "metadata": {},
   "source": [
    "<font color=black size=3 face=times>**Result references**: <br>\n",
    "Van Haastrecht, A., & Pelsser, A. (2010). Efficient, almost exact simulation of the heston stochastic volatility model. International Journal of Theoretical and Applied Finance, 13(01), 1–43."
   ]
  },
  {
   "cell_type": "code",
   "execution_count": 4,
   "metadata": {},
   "outputs": [],
   "source": [
    "# Van (2010)\n",
    "strike = [100.0, 140.0, 60.0]\n",
    "forward = 100\n",
    "\n",
    "case = np.zeros([3, 7])\n",
    "#case[i]=[vov, kappa, rho, texp, theta,   sigma,  r]\n",
    "case[0] = [1,   0.5, -0.9, 10, 0.04, np.sqrt(0.04), 0]\n",
    "case[1] = [1,   1,   -0.3, 5,  0.09, np.sqrt(0.09), 0.05]\n",
    "case[2] = [0.9, 0.3, -0.5, 15, 0.04, np.sqrt(0.04), 0]\n",
    "ref_price = np.array([[13.085, 0.296, 44.330], [33.597, 18.157, 56.575], [16.649, 5.138, 45.287]])"
   ]
  },
  {
   "cell_type": "code",
   "execution_count": 5,
   "metadata": {},
   "outputs": [
    {
     "name": "stdout",
     "output_type": "stream",
     "text": [
      "Case 0:\n",
      "Inverse-Gaussian\n"
     ]
    },
    {
     "data": {
      "text/html": [
       "<div>\n",
       "<style scoped>\n",
       "    .dataframe tbody tr th:only-of-type {\n",
       "        vertical-align: middle;\n",
       "    }\n",
       "\n",
       "    .dataframe tbody tr th {\n",
       "        vertical-align: top;\n",
       "    }\n",
       "\n",
       "    .dataframe thead th {\n",
       "        text-align: right;\n",
       "    }\n",
       "</style>\n",
       "<table border=\"1\" class=\"dataframe\">\n",
       "  <thead>\n",
       "    <tr style=\"text-align: right;\">\n",
       "      <th></th>\n",
       "      <th>strike=100</th>\n",
       "      <th>bias</th>\n",
       "      <th>time</th>\n",
       "      <th>strike=140</th>\n",
       "      <th>bias</th>\n",
       "      <th>time</th>\n",
       "      <th>strike=60</th>\n",
       "      <th>bias</th>\n",
       "      <th>time</th>\n",
       "    </tr>\n",
       "  </thead>\n",
       "  <tbody>\n",
       "    <tr>\n",
       "      <th>1000</th>\n",
       "      <td>13.785690</td>\n",
       "      <td>0.700690</td>\n",
       "      <td>0.008943</td>\n",
       "      <td>0.217157</td>\n",
       "      <td>-0.078843</td>\n",
       "      <td>0.009004</td>\n",
       "      <td>44.831279</td>\n",
       "      <td>0.501279</td>\n",
       "      <td>0.007979</td>\n",
       "    </tr>\n",
       "    <tr>\n",
       "      <th>10000</th>\n",
       "      <td>13.069460</td>\n",
       "      <td>-0.015540</td>\n",
       "      <td>0.073805</td>\n",
       "      <td>0.300229</td>\n",
       "      <td>0.004229</td>\n",
       "      <td>0.072803</td>\n",
       "      <td>44.457998</td>\n",
       "      <td>0.127998</td>\n",
       "      <td>0.072823</td>\n",
       "    </tr>\n",
       "    <tr>\n",
       "      <th>100000</th>\n",
       "      <td>13.241641</td>\n",
       "      <td>0.156641</td>\n",
       "      <td>0.733038</td>\n",
       "      <td>0.273758</td>\n",
       "      <td>-0.022242</td>\n",
       "      <td>0.732024</td>\n",
       "      <td>44.284642</td>\n",
       "      <td>-0.045358</td>\n",
       "      <td>0.740986</td>\n",
       "    </tr>\n",
       "    <tr>\n",
       "      <th>1000000</th>\n",
       "      <td>13.241237</td>\n",
       "      <td>0.156237</td>\n",
       "      <td>7.667516</td>\n",
       "      <td>0.286301</td>\n",
       "      <td>-0.009699</td>\n",
       "      <td>7.755267</td>\n",
       "      <td>44.516133</td>\n",
       "      <td>0.186133</td>\n",
       "      <td>7.592636</td>\n",
       "    </tr>\n",
       "  </tbody>\n",
       "</table>\n",
       "</div>"
      ],
      "text/plain": [
       "         strike=100      bias      time  strike=140      bias      time  \\\n",
       "1000      13.785690  0.700690  0.008943    0.217157 -0.078843  0.009004   \n",
       "10000     13.069460 -0.015540  0.073805    0.300229  0.004229  0.072803   \n",
       "100000    13.241641  0.156641  0.733038    0.273758 -0.022242  0.732024   \n",
       "1000000   13.241237  0.156237  7.667516    0.286301 -0.009699  7.755267   \n",
       "\n",
       "         strike=60      bias      time  \n",
       "1000     44.831279  0.501279  0.007979  \n",
       "10000    44.457998  0.127998  0.072823  \n",
       "100000   44.284642 -0.045358  0.740986  \n",
       "1000000  44.516133  0.186133  7.592636  "
      ]
     },
     "execution_count": 5,
     "metadata": {},
     "output_type": "execute_result"
    }
   ],
   "source": [
    "## case 0\n",
    "i = 0\n",
    "\n",
    "## parameters setting\n",
    "vov ,kappa, rho, texp, theta, sigma, r = case[i]\n",
    "\n",
    "## Initiate a Heston model with method of almost exact method \n",
    "hestonMCAe = HestonMCAe(vov=vov, kappa=kappa, rho=rho, theta=theta, r=r)\n",
    "\n",
    "n_paths = [1000, 10000, 100000, 1000000]\n",
    "\n",
    "record = []\n",
    "for t in range(len(n_paths)):\n",
    "    temp = []\n",
    "    for d in range(len(strike)):\n",
    "        start = time.time()\n",
    "        price = hestonMCAe.price(strike[d], forward, texp, sigma, n_paths=n_paths[t], seed=SEED)\n",
    "        end = time.time()\n",
    "        temp.append(price)\n",
    "        temp.append(price - ref_price[i][d])\n",
    "        temp.append(end - start)\n",
    "    record.append(temp)\n",
    "\n",
    "print('Case %s:' % i)\n",
    "print(\"Inverse-Gaussian\")\n",
    "pd.DataFrame(record, index=n_paths, columns=[\"strike=100\", \"bias\", \"time\", \"strike=140\", \"bias\", \"time\", \"strike=60\", \"bias\", \"time\"])"
   ]
  },
  {
   "cell_type": "code",
   "execution_count": 6,
   "metadata": {},
   "outputs": [
    {
     "name": "stdout",
     "output_type": "stream",
     "text": [
      "Case 0:\n",
      "Log-normal\n"
     ]
    },
    {
     "data": {
      "text/html": [
       "<div>\n",
       "<style scoped>\n",
       "    .dataframe tbody tr th:only-of-type {\n",
       "        vertical-align: middle;\n",
       "    }\n",
       "\n",
       "    .dataframe tbody tr th {\n",
       "        vertical-align: top;\n",
       "    }\n",
       "\n",
       "    .dataframe thead th {\n",
       "        text-align: right;\n",
       "    }\n",
       "</style>\n",
       "<table border=\"1\" class=\"dataframe\">\n",
       "  <thead>\n",
       "    <tr style=\"text-align: right;\">\n",
       "      <th></th>\n",
       "      <th>strike=100</th>\n",
       "      <th>bias</th>\n",
       "      <th>time</th>\n",
       "      <th>strike=140</th>\n",
       "      <th>bias</th>\n",
       "      <th>time</th>\n",
       "      <th>strike=60</th>\n",
       "      <th>bias</th>\n",
       "      <th>time</th>\n",
       "    </tr>\n",
       "  </thead>\n",
       "  <tbody>\n",
       "    <tr>\n",
       "      <th>1000</th>\n",
       "      <td>12.567221</td>\n",
       "      <td>-0.517779</td>\n",
       "      <td>0.008973</td>\n",
       "      <td>0.513513</td>\n",
       "      <td>0.217513</td>\n",
       "      <td>0.008013</td>\n",
       "      <td>42.705716</td>\n",
       "      <td>-1.624284</td>\n",
       "      <td>0.008941</td>\n",
       "    </tr>\n",
       "    <tr>\n",
       "      <th>10000</th>\n",
       "      <td>12.099751</td>\n",
       "      <td>-0.985249</td>\n",
       "      <td>0.077843</td>\n",
       "      <td>0.324329</td>\n",
       "      <td>0.028329</td>\n",
       "      <td>0.072804</td>\n",
       "      <td>42.777403</td>\n",
       "      <td>-1.552597</td>\n",
       "      <td>0.074750</td>\n",
       "    </tr>\n",
       "    <tr>\n",
       "      <th>100000</th>\n",
       "      <td>12.123669</td>\n",
       "      <td>-0.961331</td>\n",
       "      <td>0.744011</td>\n",
       "      <td>0.313077</td>\n",
       "      <td>0.017077</td>\n",
       "      <td>0.746055</td>\n",
       "      <td>42.405855</td>\n",
       "      <td>-1.924145</td>\n",
       "      <td>0.754978</td>\n",
       "    </tr>\n",
       "    <tr>\n",
       "      <th>1000000</th>\n",
       "      <td>12.072978</td>\n",
       "      <td>-1.012022</td>\n",
       "      <td>7.604869</td>\n",
       "      <td>0.327002</td>\n",
       "      <td>0.031002</td>\n",
       "      <td>7.537867</td>\n",
       "      <td>42.339597</td>\n",
       "      <td>-1.990403</td>\n",
       "      <td>7.576693</td>\n",
       "    </tr>\n",
       "  </tbody>\n",
       "</table>\n",
       "</div>"
      ],
      "text/plain": [
       "         strike=100      bias      time  strike=140      bias      time  \\\n",
       "1000      12.567221 -0.517779  0.008973    0.513513  0.217513  0.008013   \n",
       "10000     12.099751 -0.985249  0.077843    0.324329  0.028329  0.072804   \n",
       "100000    12.123669 -0.961331  0.744011    0.313077  0.017077  0.746055   \n",
       "1000000   12.072978 -1.012022  7.604869    0.327002  0.031002  7.537867   \n",
       "\n",
       "         strike=60      bias      time  \n",
       "1000     42.705716 -1.624284  0.008941  \n",
       "10000    42.777403 -1.552597  0.074750  \n",
       "100000   42.405855 -1.924145  0.754978  \n",
       "1000000  42.339597 -1.990403  7.576693  "
      ]
     },
     "execution_count": 6,
     "metadata": {},
     "output_type": "execute_result"
    }
   ],
   "source": [
    "record = []\n",
    "for t in range(len(n_paths)):\n",
    "    temp = []\n",
    "    for d in range(len(strike)):\n",
    "        start = time.time()\n",
    "        price = hestonMCAe.price(strike[d], forward, texp, sigma, n_paths=n_paths[t], seed=SEED, dis_can=\"Log-normal\")\n",
    "        end = time.time()\n",
    "        temp.append(price)\n",
    "        temp.append(price - ref_price[i][d])\n",
    "        temp.append(end - start)\n",
    "    record.append(temp)\n",
    "\n",
    "print('Case %s:' % i)\n",
    "print(\"Log-normal\")\n",
    "pd.DataFrame(record, index=n_paths, columns=[\"strike=100\", \"bias\", \"time\", \"strike=140\", \"bias\", \"time\", \"strike=60\", \"bias\", \"time\"])"
   ]
  },
  {
   "cell_type": "code",
   "execution_count": 7,
   "metadata": {},
   "outputs": [
    {
     "name": "stdout",
     "output_type": "stream",
     "text": [
      "Case 1:\n",
      "Inverse-Gaussian\n"
     ]
    },
    {
     "data": {
      "text/html": [
       "<div>\n",
       "<style scoped>\n",
       "    .dataframe tbody tr th:only-of-type {\n",
       "        vertical-align: middle;\n",
       "    }\n",
       "\n",
       "    .dataframe tbody tr th {\n",
       "        vertical-align: top;\n",
       "    }\n",
       "\n",
       "    .dataframe thead th {\n",
       "        text-align: right;\n",
       "    }\n",
       "</style>\n",
       "<table border=\"1\" class=\"dataframe\">\n",
       "  <thead>\n",
       "    <tr style=\"text-align: right;\">\n",
       "      <th></th>\n",
       "      <th>strike=100</th>\n",
       "      <th>bias</th>\n",
       "      <th>time</th>\n",
       "      <th>strike=140</th>\n",
       "      <th>bias</th>\n",
       "      <th>time</th>\n",
       "      <th>strike=60</th>\n",
       "      <th>bias</th>\n",
       "      <th>time</th>\n",
       "    </tr>\n",
       "  </thead>\n",
       "  <tbody>\n",
       "    <tr>\n",
       "      <th>1000</th>\n",
       "      <td>41.355063</td>\n",
       "      <td>7.758063</td>\n",
       "      <td>0.008976</td>\n",
       "      <td>26.505634</td>\n",
       "      <td>8.348634</td>\n",
       "      <td>0.008976</td>\n",
       "      <td>74.323721</td>\n",
       "      <td>17.748721</td>\n",
       "      <td>0.008976</td>\n",
       "    </tr>\n",
       "    <tr>\n",
       "      <th>10000</th>\n",
       "      <td>42.565313</td>\n",
       "      <td>8.968313</td>\n",
       "      <td>0.074800</td>\n",
       "      <td>22.478122</td>\n",
       "      <td>4.321122</td>\n",
       "      <td>0.075797</td>\n",
       "      <td>73.910414</td>\n",
       "      <td>17.335414</td>\n",
       "      <td>0.074802</td>\n",
       "    </tr>\n",
       "    <tr>\n",
       "      <th>100000</th>\n",
       "      <td>43.262919</td>\n",
       "      <td>9.665919</td>\n",
       "      <td>0.763958</td>\n",
       "      <td>23.229433</td>\n",
       "      <td>5.072433</td>\n",
       "      <td>0.768971</td>\n",
       "      <td>73.304943</td>\n",
       "      <td>16.729943</td>\n",
       "      <td>0.771904</td>\n",
       "    </tr>\n",
       "    <tr>\n",
       "      <th>1000000</th>\n",
       "      <td>43.136791</td>\n",
       "      <td>9.539791</td>\n",
       "      <td>7.860966</td>\n",
       "      <td>23.295881</td>\n",
       "      <td>5.138881</td>\n",
       "      <td>7.833089</td>\n",
       "      <td>72.503009</td>\n",
       "      <td>15.928009</td>\n",
       "      <td>7.852973</td>\n",
       "    </tr>\n",
       "  </tbody>\n",
       "</table>\n",
       "</div>"
      ],
      "text/plain": [
       "         strike=100      bias      time  strike=140      bias      time  \\\n",
       "1000      41.355063  7.758063  0.008976   26.505634  8.348634  0.008976   \n",
       "10000     42.565313  8.968313  0.074800   22.478122  4.321122  0.075797   \n",
       "100000    43.262919  9.665919  0.763958   23.229433  5.072433  0.768971   \n",
       "1000000   43.136791  9.539791  7.860966   23.295881  5.138881  7.833089   \n",
       "\n",
       "         strike=60       bias      time  \n",
       "1000     74.323721  17.748721  0.008976  \n",
       "10000    73.910414  17.335414  0.074802  \n",
       "100000   73.304943  16.729943  0.771904  \n",
       "1000000  72.503009  15.928009  7.852973  "
      ]
     },
     "execution_count": 7,
     "metadata": {},
     "output_type": "execute_result"
    }
   ],
   "source": [
    "## case 1\n",
    "i = 1\n",
    "\n",
    "## parameters setting\n",
    "vov ,kappa, rho, texp, theta, sigma, r = case[i]\n",
    "\n",
    "## Initiate a Heston model with method of almost exact method \n",
    "hestonMCAe = HestonMCAe(vov=vov, kappa=kappa, rho=rho, theta=theta, r=r)\n",
    "\n",
    "n_paths = [1000, 10000, 100000, 1000000]\n",
    "\n",
    "record = []\n",
    "for t in range(len(n_paths)):\n",
    "    temp = []\n",
    "    for d in range(len(strike)):\n",
    "        start = time.time()\n",
    "        price = hestonMCAe.price(strike[d], forward, texp, sigma, n_paths=n_paths[t], seed=SEED)\n",
    "        end = time.time()\n",
    "        temp.append(price)\n",
    "        temp.append(price - ref_price[i][d])\n",
    "        temp.append(end - start)\n",
    "    record.append(temp)\n",
    "\n",
    "print('Case %s:' % i)\n",
    "print(\"Inverse-Gaussian\")\n",
    "pd.DataFrame(record, index=n_paths, columns=[\"strike=100\", \"bias\", \"time\", \"strike=140\", \"bias\", \"time\", \"strike=60\", \"bias\", \"time\"])"
   ]
  },
  {
   "cell_type": "code",
   "execution_count": 8,
   "metadata": {},
   "outputs": [
    {
     "name": "stdout",
     "output_type": "stream",
     "text": [
      "Case 1:\n",
      "Log-normal\n"
     ]
    },
    {
     "data": {
      "text/html": [
       "<div>\n",
       "<style scoped>\n",
       "    .dataframe tbody tr th:only-of-type {\n",
       "        vertical-align: middle;\n",
       "    }\n",
       "\n",
       "    .dataframe tbody tr th {\n",
       "        vertical-align: top;\n",
       "    }\n",
       "\n",
       "    .dataframe thead th {\n",
       "        text-align: right;\n",
       "    }\n",
       "</style>\n",
       "<table border=\"1\" class=\"dataframe\">\n",
       "  <thead>\n",
       "    <tr style=\"text-align: right;\">\n",
       "      <th></th>\n",
       "      <th>strike=100</th>\n",
       "      <th>bias</th>\n",
       "      <th>time</th>\n",
       "      <th>strike=140</th>\n",
       "      <th>bias</th>\n",
       "      <th>time</th>\n",
       "      <th>strike=60</th>\n",
       "      <th>bias</th>\n",
       "      <th>time</th>\n",
       "    </tr>\n",
       "  </thead>\n",
       "  <tbody>\n",
       "    <tr>\n",
       "      <th>1000</th>\n",
       "      <td>43.430096</td>\n",
       "      <td>9.833096</td>\n",
       "      <td>0.008988</td>\n",
       "      <td>22.920305</td>\n",
       "      <td>4.763305</td>\n",
       "      <td>0.009974</td>\n",
       "      <td>70.896370</td>\n",
       "      <td>14.321370</td>\n",
       "      <td>0.007963</td>\n",
       "    </tr>\n",
       "    <tr>\n",
       "      <th>10000</th>\n",
       "      <td>42.458389</td>\n",
       "      <td>8.861389</td>\n",
       "      <td>0.075763</td>\n",
       "      <td>23.052559</td>\n",
       "      <td>4.895559</td>\n",
       "      <td>0.075845</td>\n",
       "      <td>73.096343</td>\n",
       "      <td>16.521343</td>\n",
       "      <td>0.075799</td>\n",
       "    </tr>\n",
       "    <tr>\n",
       "      <th>100000</th>\n",
       "      <td>43.337383</td>\n",
       "      <td>9.740383</td>\n",
       "      <td>0.782904</td>\n",
       "      <td>23.327279</td>\n",
       "      <td>5.170279</td>\n",
       "      <td>0.760950</td>\n",
       "      <td>72.523554</td>\n",
       "      <td>15.948554</td>\n",
       "      <td>0.786858</td>\n",
       "    </tr>\n",
       "    <tr>\n",
       "      <th>1000000</th>\n",
       "      <td>43.127309</td>\n",
       "      <td>9.530309</td>\n",
       "      <td>7.870992</td>\n",
       "      <td>23.570309</td>\n",
       "      <td>5.413309</td>\n",
       "      <td>7.925784</td>\n",
       "      <td>72.478952</td>\n",
       "      <td>15.903952</td>\n",
       "      <td>7.821085</td>\n",
       "    </tr>\n",
       "  </tbody>\n",
       "</table>\n",
       "</div>"
      ],
      "text/plain": [
       "         strike=100      bias      time  strike=140      bias      time  \\\n",
       "1000      43.430096  9.833096  0.008988   22.920305  4.763305  0.009974   \n",
       "10000     42.458389  8.861389  0.075763   23.052559  4.895559  0.075845   \n",
       "100000    43.337383  9.740383  0.782904   23.327279  5.170279  0.760950   \n",
       "1000000   43.127309  9.530309  7.870992   23.570309  5.413309  7.925784   \n",
       "\n",
       "         strike=60       bias      time  \n",
       "1000     70.896370  14.321370  0.007963  \n",
       "10000    73.096343  16.521343  0.075799  \n",
       "100000   72.523554  15.948554  0.786858  \n",
       "1000000  72.478952  15.903952  7.821085  "
      ]
     },
     "execution_count": 8,
     "metadata": {},
     "output_type": "execute_result"
    }
   ],
   "source": [
    "record = []\n",
    "for t in range(len(n_paths)):\n",
    "    temp = []\n",
    "    for d in range(len(strike)):\n",
    "        start = time.time()\n",
    "        price = hestonMCAe.price(strike[d], forward, texp, sigma, n_paths=n_paths[t], seed=SEED, dis_can=\"Log-normal\")\n",
    "        end = time.time()\n",
    "        temp.append(price)\n",
    "        temp.append(price - ref_price[i][d])\n",
    "        temp.append(end - start)\n",
    "    record.append(temp)\n",
    "\n",
    "print('Case %s:' % i)\n",
    "print(\"Log-normal\")\n",
    "pd.DataFrame(record, index=n_paths, columns=[\"strike=100\", \"bias\", \"time\", \"strike=140\", \"bias\", \"time\", \"strike=60\", \"bias\", \"time\"])"
   ]
  },
  {
   "cell_type": "code",
   "execution_count": 9,
   "metadata": {},
   "outputs": [
    {
     "name": "stdout",
     "output_type": "stream",
     "text": [
      "Case 2:\n",
      "Inverse-Gaussian\n"
     ]
    },
    {
     "data": {
      "text/html": [
       "<div>\n",
       "<style scoped>\n",
       "    .dataframe tbody tr th:only-of-type {\n",
       "        vertical-align: middle;\n",
       "    }\n",
       "\n",
       "    .dataframe tbody tr th {\n",
       "        vertical-align: top;\n",
       "    }\n",
       "\n",
       "    .dataframe thead th {\n",
       "        text-align: right;\n",
       "    }\n",
       "</style>\n",
       "<table border=\"1\" class=\"dataframe\">\n",
       "  <thead>\n",
       "    <tr style=\"text-align: right;\">\n",
       "      <th></th>\n",
       "      <th>strike=100</th>\n",
       "      <th>bias</th>\n",
       "      <th>time</th>\n",
       "      <th>strike=140</th>\n",
       "      <th>bias</th>\n",
       "      <th>time</th>\n",
       "      <th>strike=60</th>\n",
       "      <th>bias</th>\n",
       "      <th>time</th>\n",
       "    </tr>\n",
       "  </thead>\n",
       "  <tbody>\n",
       "    <tr>\n",
       "      <th>1000</th>\n",
       "      <td>15.709105</td>\n",
       "      <td>-0.939895</td>\n",
       "      <td>0.007996</td>\n",
       "      <td>5.545427</td>\n",
       "      <td>0.407427</td>\n",
       "      <td>0.008976</td>\n",
       "      <td>46.196110</td>\n",
       "      <td>0.909110</td>\n",
       "      <td>0.007978</td>\n",
       "    </tr>\n",
       "    <tr>\n",
       "      <th>10000</th>\n",
       "      <td>16.917667</td>\n",
       "      <td>0.268667</td>\n",
       "      <td>0.074750</td>\n",
       "      <td>5.164302</td>\n",
       "      <td>0.026302</td>\n",
       "      <td>0.072807</td>\n",
       "      <td>45.870341</td>\n",
       "      <td>0.583341</td>\n",
       "      <td>0.074800</td>\n",
       "    </tr>\n",
       "    <tr>\n",
       "      <th>100000</th>\n",
       "      <td>16.721762</td>\n",
       "      <td>0.072762</td>\n",
       "      <td>0.755976</td>\n",
       "      <td>5.208332</td>\n",
       "      <td>0.070332</td>\n",
       "      <td>0.767998</td>\n",
       "      <td>45.344117</td>\n",
       "      <td>0.057117</td>\n",
       "      <td>0.739002</td>\n",
       "    </tr>\n",
       "    <tr>\n",
       "      <th>1000000</th>\n",
       "      <td>16.622198</td>\n",
       "      <td>-0.026802</td>\n",
       "      <td>7.583732</td>\n",
       "      <td>5.021502</td>\n",
       "      <td>-0.116498</td>\n",
       "      <td>7.686433</td>\n",
       "      <td>45.334446</td>\n",
       "      <td>0.047446</td>\n",
       "      <td>7.571720</td>\n",
       "    </tr>\n",
       "  </tbody>\n",
       "</table>\n",
       "</div>"
      ],
      "text/plain": [
       "         strike=100      bias      time  strike=140      bias      time  \\\n",
       "1000      15.709105 -0.939895  0.007996    5.545427  0.407427  0.008976   \n",
       "10000     16.917667  0.268667  0.074750    5.164302  0.026302  0.072807   \n",
       "100000    16.721762  0.072762  0.755976    5.208332  0.070332  0.767998   \n",
       "1000000   16.622198 -0.026802  7.583732    5.021502 -0.116498  7.686433   \n",
       "\n",
       "         strike=60      bias      time  \n",
       "1000     46.196110  0.909110  0.007978  \n",
       "10000    45.870341  0.583341  0.074800  \n",
       "100000   45.344117  0.057117  0.739002  \n",
       "1000000  45.334446  0.047446  7.571720  "
      ]
     },
     "execution_count": 9,
     "metadata": {},
     "output_type": "execute_result"
    }
   ],
   "source": [
    "## case 2\n",
    "i = 2\n",
    "\n",
    "## parameters setting\n",
    "vov ,kappa, rho, texp, theta, sigma, r = case[i]\n",
    "\n",
    "## Initiate a Heston model with method of almost exact method \n",
    "hestonMCAe = HestonMCAe(vov=vov, kappa=kappa, rho=rho, theta=theta, r=r)\n",
    "\n",
    "n_paths = [1000, 10000, 100000, 1000000]\n",
    "\n",
    "record = []\n",
    "for t in range(len(n_paths)):\n",
    "    temp = []\n",
    "    for d in range(len(strike)):\n",
    "        start = time.time()\n",
    "        price = hestonMCAe.price(strike[d], forward, texp, sigma, n_paths=n_paths[t], seed=SEED)\n",
    "        end = time.time()\n",
    "        temp.append(price)\n",
    "        temp.append(price - ref_price[i][d])\n",
    "        temp.append(end - start)\n",
    "    record.append(temp)\n",
    "\n",
    "print('Case %s:' % i)\n",
    "print(\"Inverse-Gaussian\")\n",
    "pd.DataFrame(record, index=n_paths, columns=[\"strike=100\", \"bias\", \"time\", \"strike=140\", \"bias\", \"time\", \"strike=60\", \"bias\", \"time\"])"
   ]
  },
  {
   "cell_type": "code",
   "execution_count": 10,
   "metadata": {},
   "outputs": [
    {
     "name": "stdout",
     "output_type": "stream",
     "text": [
      "Case 2:\n",
      "Log-normal\n"
     ]
    },
    {
     "data": {
      "text/html": [
       "<div>\n",
       "<style scoped>\n",
       "    .dataframe tbody tr th:only-of-type {\n",
       "        vertical-align: middle;\n",
       "    }\n",
       "\n",
       "    .dataframe tbody tr th {\n",
       "        vertical-align: top;\n",
       "    }\n",
       "\n",
       "    .dataframe thead th {\n",
       "        text-align: right;\n",
       "    }\n",
       "</style>\n",
       "<table border=\"1\" class=\"dataframe\">\n",
       "  <thead>\n",
       "    <tr style=\"text-align: right;\">\n",
       "      <th></th>\n",
       "      <th>strike=100</th>\n",
       "      <th>bias</th>\n",
       "      <th>time</th>\n",
       "      <th>strike=140</th>\n",
       "      <th>bias</th>\n",
       "      <th>time</th>\n",
       "      <th>strike=60</th>\n",
       "      <th>bias</th>\n",
       "      <th>time</th>\n",
       "    </tr>\n",
       "  </thead>\n",
       "  <tbody>\n",
       "    <tr>\n",
       "      <th>1000</th>\n",
       "      <td>19.200650</td>\n",
       "      <td>2.551650</td>\n",
       "      <td>0.009025</td>\n",
       "      <td>6.259201</td>\n",
       "      <td>1.121201</td>\n",
       "      <td>0.007928</td>\n",
       "      <td>45.259139</td>\n",
       "      <td>-0.027861</td>\n",
       "      <td>0.007979</td>\n",
       "    </tr>\n",
       "    <tr>\n",
       "      <th>10000</th>\n",
       "      <td>17.138975</td>\n",
       "      <td>0.489975</td>\n",
       "      <td>0.073836</td>\n",
       "      <td>6.399198</td>\n",
       "      <td>1.261198</td>\n",
       "      <td>0.072822</td>\n",
       "      <td>44.460121</td>\n",
       "      <td>-0.826879</td>\n",
       "      <td>0.072808</td>\n",
       "    </tr>\n",
       "    <tr>\n",
       "      <th>100000</th>\n",
       "      <td>17.385109</td>\n",
       "      <td>0.736109</td>\n",
       "      <td>0.738025</td>\n",
       "      <td>6.238138</td>\n",
       "      <td>1.100138</td>\n",
       "      <td>0.744955</td>\n",
       "      <td>44.368964</td>\n",
       "      <td>-0.918036</td>\n",
       "      <td>0.742016</td>\n",
       "    </tr>\n",
       "    <tr>\n",
       "      <th>1000000</th>\n",
       "      <td>17.598841</td>\n",
       "      <td>0.949841</td>\n",
       "      <td>7.536834</td>\n",
       "      <td>6.225848</td>\n",
       "      <td>1.087848</td>\n",
       "      <td>7.519911</td>\n",
       "      <td>44.777843</td>\n",
       "      <td>-0.509157</td>\n",
       "      <td>7.586701</td>\n",
       "    </tr>\n",
       "  </tbody>\n",
       "</table>\n",
       "</div>"
      ],
      "text/plain": [
       "         strike=100      bias      time  strike=140      bias      time  \\\n",
       "1000      19.200650  2.551650  0.009025    6.259201  1.121201  0.007928   \n",
       "10000     17.138975  0.489975  0.073836    6.399198  1.261198  0.072822   \n",
       "100000    17.385109  0.736109  0.738025    6.238138  1.100138  0.744955   \n",
       "1000000   17.598841  0.949841  7.536834    6.225848  1.087848  7.519911   \n",
       "\n",
       "         strike=60      bias      time  \n",
       "1000     45.259139 -0.027861  0.007979  \n",
       "10000    44.460121 -0.826879  0.072808  \n",
       "100000   44.368964 -0.918036  0.742016  \n",
       "1000000  44.777843 -0.509157  7.586701  "
      ]
     },
     "execution_count": 10,
     "metadata": {},
     "output_type": "execute_result"
    }
   ],
   "source": [
    "record = []\n",
    "for t in range(len(n_paths)):\n",
    "    temp = []\n",
    "    for d in range(len(strike)):\n",
    "        start = time.time()\n",
    "        price = hestonMCAe.price(strike[d], forward, texp, sigma, n_paths=n_paths[t], seed=SEED, dis_can=\"Log-normal\")\n",
    "        end = time.time()\n",
    "        temp.append(price)\n",
    "        temp.append(price - ref_price[i][d])\n",
    "        temp.append(end - start)\n",
    "    record.append(temp)\n",
    "\n",
    "print('Case %s:' % i)\n",
    "print(\"Log-normal\")\n",
    "pd.DataFrame(record, index=n_paths, columns=[\"strike=100\", \"bias\", \"time\", \"strike=140\", \"bias\", \"time\", \"strike=60\", \"bias\", \"time\"])"
   ]
  },
  {
   "cell_type": "markdown",
   "metadata": {},
   "source": [
    "<font color=black size=3 face=times>**Result references**: <br>\n",
    "von Sydow, L., Milovanović, S., Larsson, E., In't Hout, K., Wiktorsson, M., Oosterlee, C. W., ... & Waldén, J. (2019). BENCHOP–SLV: the BENCHmarking project in Option Pricing–Stochastic and Local Volatility problems. International Journal of Computer Mathematics, 96(10), 1910-1923."
   ]
  },
  {
   "cell_type": "code",
   "execution_count": 11,
   "metadata": {},
   "outputs": [],
   "source": [
    "# Sydow (2018)\n",
    "strike = 100\n",
    "forward = [75, 100, 125]\n",
    "\n",
    "case = np.zeros([1, 7])\n",
    "#case[i]=[vov, kappa, rho, texp, theta,   sigma,  r]\n",
    "case[0] = [1, 2.58, -0.36, 1, 0.043,  np.sqrt(0.114), 0]\n",
    "ref_price = np.array([[0.9085, 9.04665, 28.5147]])"
   ]
  },
  {
   "cell_type": "code",
   "execution_count": 12,
   "metadata": {},
   "outputs": [
    {
     "name": "stdout",
     "output_type": "stream",
     "text": [
      "Case 3:\n",
      "Inverse-Gaussian\n"
     ]
    },
    {
     "data": {
      "text/html": [
       "<div>\n",
       "<style scoped>\n",
       "    .dataframe tbody tr th:only-of-type {\n",
       "        vertical-align: middle;\n",
       "    }\n",
       "\n",
       "    .dataframe tbody tr th {\n",
       "        vertical-align: top;\n",
       "    }\n",
       "\n",
       "    .dataframe thead th {\n",
       "        text-align: right;\n",
       "    }\n",
       "</style>\n",
       "<table border=\"1\" class=\"dataframe\">\n",
       "  <thead>\n",
       "    <tr style=\"text-align: right;\">\n",
       "      <th></th>\n",
       "      <th>strike=100</th>\n",
       "      <th>bias</th>\n",
       "      <th>time</th>\n",
       "      <th>strike=140</th>\n",
       "      <th>bias</th>\n",
       "      <th>time</th>\n",
       "      <th>strike=60</th>\n",
       "      <th>bias</th>\n",
       "      <th>time</th>\n",
       "    </tr>\n",
       "  </thead>\n",
       "  <tbody>\n",
       "    <tr>\n",
       "      <th>1000</th>\n",
       "      <td>0.682482</td>\n",
       "      <td>-0.226018</td>\n",
       "      <td>0.008976</td>\n",
       "      <td>9.142266</td>\n",
       "      <td>0.095616</td>\n",
       "      <td>0.008976</td>\n",
       "      <td>27.841807</td>\n",
       "      <td>-0.672893</td>\n",
       "      <td>0.008976</td>\n",
       "    </tr>\n",
       "    <tr>\n",
       "      <th>10000</th>\n",
       "      <td>0.894662</td>\n",
       "      <td>-0.013838</td>\n",
       "      <td>0.083776</td>\n",
       "      <td>9.195545</td>\n",
       "      <td>0.148895</td>\n",
       "      <td>0.078790</td>\n",
       "      <td>28.566684</td>\n",
       "      <td>0.051984</td>\n",
       "      <td>0.078790</td>\n",
       "    </tr>\n",
       "    <tr>\n",
       "      <th>100000</th>\n",
       "      <td>0.924684</td>\n",
       "      <td>0.016184</td>\n",
       "      <td>0.785947</td>\n",
       "      <td>9.094968</td>\n",
       "      <td>0.048318</td>\n",
       "      <td>0.813773</td>\n",
       "      <td>28.422905</td>\n",
       "      <td>-0.091795</td>\n",
       "      <td>0.801854</td>\n",
       "    </tr>\n",
       "    <tr>\n",
       "      <th>1000000</th>\n",
       "      <td>0.912603</td>\n",
       "      <td>0.004103</td>\n",
       "      <td>8.222998</td>\n",
       "      <td>9.072422</td>\n",
       "      <td>0.025772</td>\n",
       "      <td>8.208038</td>\n",
       "      <td>28.483159</td>\n",
       "      <td>-0.031541</td>\n",
       "      <td>8.169142</td>\n",
       "    </tr>\n",
       "  </tbody>\n",
       "</table>\n",
       "</div>"
      ],
      "text/plain": [
       "         strike=100      bias      time  strike=140      bias      time  \\\n",
       "1000       0.682482 -0.226018  0.008976    9.142266  0.095616  0.008976   \n",
       "10000      0.894662 -0.013838  0.083776    9.195545  0.148895  0.078790   \n",
       "100000     0.924684  0.016184  0.785947    9.094968  0.048318  0.813773   \n",
       "1000000    0.912603  0.004103  8.222998    9.072422  0.025772  8.208038   \n",
       "\n",
       "         strike=60      bias      time  \n",
       "1000     27.841807 -0.672893  0.008976  \n",
       "10000    28.566684  0.051984  0.078790  \n",
       "100000   28.422905 -0.091795  0.801854  \n",
       "1000000  28.483159 -0.031541  8.169142  "
      ]
     },
     "execution_count": 12,
     "metadata": {},
     "output_type": "execute_result"
    }
   ],
   "source": [
    "## case 3\n",
    "i = 0\n",
    "\n",
    "## parameters setting\n",
    "vov ,kappa, rho, texp, theta, sigma, r = case[i]\n",
    "\n",
    "## Initiate a Heston model with method of almost exact method \n",
    "hestonMCAe = HestonMCAe(vov=vov, kappa=kappa, rho=rho, theta=theta, r=r)\n",
    "\n",
    "n_paths = [1000, 10000, 100000, 1000000]\n",
    "\n",
    "record = []\n",
    "for t in range(len(n_paths)):\n",
    "    temp = []\n",
    "    for d in range(len(forward)):\n",
    "        start = time.time()\n",
    "        price = hestonMCAe.price(strike, forward[d], texp, sigma, n_paths=n_paths[t], seed=SEED)\n",
    "        end = time.time()\n",
    "        temp.append(price)\n",
    "        temp.append(price - ref_price[i][d])\n",
    "        temp.append(end - start)\n",
    "    record.append(temp)\n",
    "\n",
    "print('Case %s:' % 3)\n",
    "print(\"Inverse-Gaussian\")\n",
    "pd.DataFrame(record, index=n_paths, columns=[\"strike=100\", \"bias\", \"time\", \"strike=140\", \"bias\", \"time\", \"strike=60\", \"bias\", \"time\"])"
   ]
  },
  {
   "cell_type": "code",
   "execution_count": 13,
   "metadata": {},
   "outputs": [
    {
     "name": "stdout",
     "output_type": "stream",
     "text": [
      "Case 3:\n",
      "Log-normal\n"
     ]
    },
    {
     "data": {
      "text/html": [
       "<div>\n",
       "<style scoped>\n",
       "    .dataframe tbody tr th:only-of-type {\n",
       "        vertical-align: middle;\n",
       "    }\n",
       "\n",
       "    .dataframe tbody tr th {\n",
       "        vertical-align: top;\n",
       "    }\n",
       "\n",
       "    .dataframe thead th {\n",
       "        text-align: right;\n",
       "    }\n",
       "</style>\n",
       "<table border=\"1\" class=\"dataframe\">\n",
       "  <thead>\n",
       "    <tr style=\"text-align: right;\">\n",
       "      <th></th>\n",
       "      <th>strike=100</th>\n",
       "      <th>bias</th>\n",
       "      <th>time</th>\n",
       "      <th>strike=140</th>\n",
       "      <th>bias</th>\n",
       "      <th>time</th>\n",
       "      <th>strike=60</th>\n",
       "      <th>bias</th>\n",
       "      <th>time</th>\n",
       "    </tr>\n",
       "  </thead>\n",
       "  <tbody>\n",
       "    <tr>\n",
       "      <th>1000</th>\n",
       "      <td>0.997624</td>\n",
       "      <td>0.089124</td>\n",
       "      <td>0.008977</td>\n",
       "      <td>10.052378</td>\n",
       "      <td>1.005728</td>\n",
       "      <td>0.008942</td>\n",
       "      <td>28.607889</td>\n",
       "      <td>0.093189</td>\n",
       "      <td>0.009974</td>\n",
       "    </tr>\n",
       "    <tr>\n",
       "      <th>10000</th>\n",
       "      <td>0.960220</td>\n",
       "      <td>0.051720</td>\n",
       "      <td>0.078791</td>\n",
       "      <td>9.113972</td>\n",
       "      <td>0.067322</td>\n",
       "      <td>0.078787</td>\n",
       "      <td>28.391267</td>\n",
       "      <td>-0.123433</td>\n",
       "      <td>0.079835</td>\n",
       "    </tr>\n",
       "    <tr>\n",
       "      <th>100000</th>\n",
       "      <td>0.897075</td>\n",
       "      <td>-0.011425</td>\n",
       "      <td>0.804849</td>\n",
       "      <td>9.140257</td>\n",
       "      <td>0.093607</td>\n",
       "      <td>0.802800</td>\n",
       "      <td>28.538508</td>\n",
       "      <td>0.023808</td>\n",
       "      <td>0.803850</td>\n",
       "    </tr>\n",
       "    <tr>\n",
       "      <th>1000000</th>\n",
       "      <td>0.913855</td>\n",
       "      <td>0.005355</td>\n",
       "      <td>8.162162</td>\n",
       "      <td>9.077942</td>\n",
       "      <td>0.031292</td>\n",
       "      <td>8.170548</td>\n",
       "      <td>28.451442</td>\n",
       "      <td>-0.063258</td>\n",
       "      <td>8.214214</td>\n",
       "    </tr>\n",
       "  </tbody>\n",
       "</table>\n",
       "</div>"
      ],
      "text/plain": [
       "         strike=100      bias      time  strike=140      bias      time  \\\n",
       "1000       0.997624  0.089124  0.008977   10.052378  1.005728  0.008942   \n",
       "10000      0.960220  0.051720  0.078791    9.113972  0.067322  0.078787   \n",
       "100000     0.897075 -0.011425  0.804849    9.140257  0.093607  0.802800   \n",
       "1000000    0.913855  0.005355  8.162162    9.077942  0.031292  8.170548   \n",
       "\n",
       "         strike=60      bias      time  \n",
       "1000     28.607889  0.093189  0.009974  \n",
       "10000    28.391267 -0.123433  0.079835  \n",
       "100000   28.538508  0.023808  0.803850  \n",
       "1000000  28.451442 -0.063258  8.214214  "
      ]
     },
     "execution_count": 13,
     "metadata": {},
     "output_type": "execute_result"
    }
   ],
   "source": [
    "record = []\n",
    "for t in range(len(n_paths)):\n",
    "    temp = []\n",
    "    for d in range(len(forward)):\n",
    "        start = time.time()\n",
    "        price = hestonMCAe.price(strike, forward[d], texp, sigma, n_paths=n_paths[t], seed=SEED, dis_can=\"Log-normal\")\n",
    "        end = time.time()\n",
    "        temp.append(price)\n",
    "        temp.append(price - ref_price[i][d])\n",
    "        temp.append(end - start)\n",
    "    record.append(temp)\n",
    "\n",
    "print('Case %s:' % 3)\n",
    "print(\"Log-normal\")\n",
    "pd.DataFrame(record, index=n_paths, columns=[\"strike=100\", \"bias\", \"time\", \"strike=140\", \"bias\", \"time\", \"strike=60\", \"bias\", \"time\"])"
   ]
  },
  {
   "cell_type": "markdown",
   "metadata": {},
   "source": [
    "<font color=black size=4.5 face=times>**some conclusions**: <br>\n",
    "- Inverse-Gaussian is much better than Log-normal.\n",
    "- Something wrong when drift item $r$ does not equal zero, we will check it later.\n",
    "- Also, we think the result in \"Glasserman, P., & Kim, K. K. (2011). Gamma expansion of the Heston stochastic volatility model. *Finance and Stochastics, 15*(2), 267-296.\" may be wrong since we check it with the group doing conditional MC Heston model. Once we solve the problem 2, we will check it again."
   ]
  },
  {
   "cell_type": "code",
   "execution_count": null,
   "metadata": {},
   "outputs": [],
   "source": []
  }
 ],
 "metadata": {
  "kernelspec": {
   "display_name": "Python 3",
   "language": "python",
   "name": "python3"
  },
  "language_info": {
   "codemirror_mode": {
    "name": "ipython",
    "version": 3
   },
   "file_extension": ".py",
   "mimetype": "text/x-python",
   "name": "python",
   "nbconvert_exporter": "python",
   "pygments_lexer": "ipython3",
   "version": "3.7.9"
  },
  "toc": {
   "base_numbering": 1,
   "nav_menu": {},
   "number_sections": true,
   "sideBar": true,
   "skip_h1_title": false,
   "title_cell": "Table of Contents",
   "title_sidebar": "Contents",
   "toc_cell": false,
   "toc_position": {},
   "toc_section_display": true,
   "toc_window_display": false
  }
 },
 "nbformat": 4,
 "nbformat_minor": 4
}
