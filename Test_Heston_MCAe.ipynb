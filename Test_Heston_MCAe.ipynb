{
 "cells": [
  {
   "cell_type": "markdown",
   "metadata": {},
   "source": [
    "<font color=black size=5 face=times>**Almost-Exact Simulation of Heston Model**</font>"
   ]
  },
  {
   "cell_type": "markdown",
   "metadata": {},
   "source": [
    "<font color=black size=3 face=times>**Table Of Contents**<br> \n",
    "    &emsp; &emsp;1. the Heston Model<br>\n",
    "    &emsp; &emsp;2. Time discretization of the Heston Model<br>\n",
    "    &emsp; &emsp;3. Conditional QE method Simulation of the Heston Model of the SV Model<br>\n",
    "    &emsp; &emsp;4. Exact Simulation of the Heston Model<br>\n",
    "    &emsp; &emsp;5. Almost Exact Simulation of the Heston Model<br>\n",
    "    &emsp; &emsp;6. Numerical Experiments</font>"
   ]
  },
  {
   "cell_type": "markdown",
   "metadata": {},
   "source": [
    "<font color=black size=3 face=times>**1. Heston Model**<br>"
   ]
  },
  {
   "cell_type": "markdown",
   "metadata": {},
   "source": [
    "<font color=black size=3 face=times>&emsp; The Heston model is described by the pair stochastic different equations\n",
    "    \n",
    "\\begin{align*} \n",
    "&\\frac{dS_t}{S_t}=\\mu dt+\\sqrt{V_t}\\left(\\rho dW_t^{(1)}+\\sqrt{1-\\rho^2}dW_t^{(2)}\\right),\\tag{$1.1$} \\\\\n",
    "&dV_t=\\kappa\\left(\\theta-V_t\\right)dt+\\sigma_v\\sqrt{V_t}dW_t^{(1)},\\tag{$1.2$}\n",
    "\\end{align*}\n",
    "\n",
    "in which $S_t$ denotes the stock price at time $t$, $\\mu$ is the risk-neutral drift, and $\\sqrt{V_t}$ is the volatility, $\\theta$ is the long-run mean variance, $\\kappa$ represents the speed of mean reversion, $\\sigma_v$ is a pararmeter that determines the volatility of the varance process, $(W_t^{(1)}$,$W_t^{(2)})$ is a standard two-dimentional Brownian motion and $\\rho$ represents the instantaneous correlation between the return process and the volatility procesee. "
   ]
  },
  {
   "cell_type": "markdown",
   "metadata": {},
   "source": [
    "<font color=black size=3 face=times>&emsp; The stock price and the volatility at time $t$, given the values of $S_0$,$V_0$, can be written as\n",
    "    \\begin{align*} \n",
    "    &S_t=S_0\\,exp(\\,\\mu t -\\frac{1}{2}\\int_{0}^{t}V_sd_s+\\rho\\int_{0}^{t}\\sqrt{V_s}dW_s^{(1)}+\\sqrt{1-\\rho^2}\\int_{0}^{t}\\sqrt{V_s}dW_s^{(2)}\\,),\\tag{$1.3$}\\\\\n",
    "    &V_t=V_0+\\kappa\\theta(t-u)-\\kappa\\int_{0}^{t}V_sd_s+\\sigma_v\\int_{0}^{t}\\sqrt{V_s}dW_s^{(1)},\\tag{$1.4$}\n",
    "    \\end{align*}"
   ]
  },
  {
   "cell_type": "markdown",
   "metadata": {},
   "source": [
    "<font color=black size=3 face=times>**2.  Time discretization of the Heston Model**<br>"
   ]
  },
  {
   "cell_type": "markdown",
   "metadata": {},
   "source": [
    "<font color=black size=3 face=times>**2.1. Euler Discretization for the Heston Model**<br>"
   ]
  },
  {
   "cell_type": "markdown",
   "metadata": {},
   "source": [
    "<font color=black size=3 face=times>&emsp; Let $[0=t_0<t_1<...<t_M=T]$ be a partition of a time interval into $M$ equal segments of length $\\Delta t$, i.e., $t_i = iT/M$ for each $i=0,...,M$. The discretization for stock price process and variance process is \n",
    "    \\begin{align*}\n",
    "    S_{t_i}&=S_{t_{i-1}}+\\mu S_{t_{i-1}} \\Delta t+ \\sqrt{V_{t_{i-1}}} [\\rho \\Delta W_{t_{i}}^{(1)} + \\sqrt{1-\\rho^2} \\Delta W_{t_i}^{(2)}] ,\\tag{$2.1$}\\\\\n",
    "    V_{t_{i}}& = V_{t_{i-1}} + \\kappa(\\theta-V_{t_{i-1}})\\Delta t + \\sqrt{V_{t-i}} \\sigma_v \\Delta W_{t_i}^{(1)}, \\tag{$2.2$}\n",
    "    \\end{align*}\n",
    "in which, $ \\Delta W_{t_i}^{(j)} = W_{t_i}^{(j)}-W_{t_i-1}^{(j)}, j=1,2$\n",
    "    "
   ]
  },
  {
   "cell_type": "markdown",
   "metadata": {},
   "source": [
    "<font color=black size=3 face=times>**2.1. Milstein Discretization for the Heston Model**<br>"
   ]
  },
  {
   "cell_type": "markdown",
   "metadata": {},
   "source": [
    "<font color=black size=3 face=times>&emsp; Let $[0=t_0<t_1<...<t_M=T]$ be a partition of a time interval into $M$ equal segments of length $\\Delta t$, i.e., $t_i = iT/M$ for each $i=0,...,M$. The discretization for stock price process and variance process is \n",
    "    \\begin{align*}\n",
    "    S_{t_i}&=S_{t_{i-1}}+\\mu S_{t_{i-1}} \\Delta t+ \\sqrt{V_{t_{i-1}}} [\\rho \\Delta W_{t_{i}}^{(1)} + \\sqrt{1-\\rho^2} \\Delta W_{t_i}^{(2)}] ,\\tag{$2.3$}\\\\\n",
    "    V_{t_{i}}& = V_{t_{i-1}} + \\kappa(\\theta-V_{t_{i-1}})\\Delta t + \\sqrt{V_{t-i}} \\sigma_v \\Delta W_{t_i}^{(1)}, \\tag{$2.4$}\n",
    "    \\end{align*}\n",
    "in which, $ \\Delta W_{t_i}^{(j)} = W_{t_i}^{(j)}-W_{t_i-1}^{(j)}, j=1,2$\n",
    "    "
   ]
  },
  {
   "cell_type": "markdown",
   "metadata": {},
   "source": [
    "<font color=black size=3 face=times>**3.  Conditional QE method Simulation of the Heston Model of the SV Model**<br>\n",
    "    <br/>\n",
    "    <font color=black size=3 face=times>**Main references**: <br>\n",
    "         Andersen, L. (2008). Simple and efficient simulation of the Heston stochastic volatility model. *The Journal of Computational Finance, 11*(3), 1–42. <br>\n",
    "        Van Haastrecht, A., & Pelsser, A. (2010). Efficient, almost exact simulation of the heston stochastic volatility model. *International Journal of Theoretical and Applied Finance, 13*(01), 1–43. <br>"
   ]
  },
  {
   "cell_type": "markdown",
   "metadata": {},
   "source": [
    "<font color=black size=3 face=times>**3.1. Notation declaration**<br>"
   ]
  },
  {
   "cell_type": "markdown",
   "metadata": {},
   "source": [
    "This section is done in collaboration with other groups, so the notation is silghtly differernt. We reclaim the notation of the SDE of Heston model in this part:<br>\n",
    "\n",
    "\\begin{align*}\n",
    "&dX(t)/X(t)=\\sqrt{V(t)}dW_X(t) , \\tag{$3.1$}\\\\\n",
    "&dV(t)=\\kappa(\\theta-V(t))dt+\\epsilon\\sqrt{V(t)}dW_V(t), \\tag{$3.2$}\n",
    "\\end{align*} \n",
    "\n",
    "- $W_X$ and $W_V$ are scalar Brownian motions in some probability measure and assume that $dW_X(t)\\dot dW_Y(t)=\\rho dt$\n",
    "- $\\widehat{X}$ and $\\widehat{V}$ denote discrete-time approximations to $X$ and $V$, i.e. The basic Euler Scheme would take the form:\n",
    "\n",
    "\\begin{align*}\n",
    "    ln\\widehat{X}(t+\\Delta)&=ln\\widehat{X}(t)-\\frac{1}{2}\\widehat{V}(t)\\Delta+\\sqrt{\\widehat{V}(t)}Z_X\\sqrt{\\Delta} ,\\tag{$3.3$}\\\\\n",
    "    ln\\widehat{V}(t+\\Delta)&=\\widehat{V}(t)+\\kappa(\\theta-\\widehat{V}(t))\\Delta+\\epsilon\\sqrt{\\widehat{V}(t)}Z_V\\sqrt{\\Delta}, \\tag{$3.4$}\n",
    "    \\end{align*}  \n",
    "- $V(t),V(t+\\Delta)$ are sampled directly from the known conditional distribution of $V(t)$ and $lnX(t),lnX(t+\\Delta)$ are from Gaussian distribution. "
   ]
  },
  {
   "cell_type": "markdown",
   "metadata": {},
   "source": [
    "<font color=black size=3 face=times>**3.2. General discrete-time approximation schemes**<br>"
   ]
  },
  {
   "cell_type": "markdown",
   "metadata": {},
   "source": [
    "<font color=black size=3 face=times>**Kahl-Jackel Scheme**<br>\n",
    "    &emsp;&emsp;Using Milstein scheme to discretize the V-process and \"IJK\" discretization for the stock process:\n",
    "    \\begin{align*}\n",
    "    ln\\widehat{X}(t+\\Delta)&=ln\\widehat{X}(t)-\\frac{\\Delta}{4}(\\widehat{V}(t+\\Delta)+\\widehat{V}(t))+\\rho\\sqrt{\\widehat{V}(t)}Z_V\\sqrt{\\Delta}+\\frac{1}{2}\\left(\\sqrt{\\widehat{V}(t+\\Delta)}+\\sqrt{\\widehat{V}(t)}\\right)(Z_X\\sqrt{\\Delta}-\\rho Z_V\\sqrt{\\Delta})+\\frac{1}{4}\\epsilon\\rho\\Delta(Z_V^2-1),\\tag{$3.5$}\\\\\n",
    "    \\widehat{V}(t+\\Delta) &= \\frac{\\widehat{V}(t)+\\kappa\\theta\\Delta+\\epsilon\\sqrt{\\widehat{V}(t)}Z_V\\sqrt{\\Delta}+\\frac{1}{4}\\epsilon^2\\Delta(Z_V^2-1)}{1+\\kappa\\Delta}, \\tag{$3.6$}\n",
    "    \\end{align*}\n",
    "    <br/>"
   ]
  },
  {
   "cell_type": "markdown",
   "metadata": {},
   "source": [
    "<font color=black size=3 face=times>**Broadie-Kaya Scheme**<br>"
   ]
  },
  {
   "cell_type": "markdown",
   "metadata": {},
   "source": [
    "\\begin{align*}\n",
    "    V(t+\\Delta)&=V(t)+\\int_{t}^{t+\\Delta}\\kappa(\\theta-V(u))du+\\epsilon \\int_{t}^{t+\\Delta}\\sqrt{V(u)}dW_V(u) ,\\tag{$3.7$}\\\\\n",
    "    lnX(t+\\Delta)&=lnX(t)+\\frac{\\rho}{\\epsilon}(V(t+\\Delta)-V(t)-\\kappa\\theta\\Delta)+(\\frac{\\kappa\\rho}{\\epsilon}-\\frac{1}{2})\\int_{t}^{t+\\Delta}V(u)du+\\sqrt{1-\\rho^2}\\int_{t}^{t+\\Delta}\\sqrt{V(u)}dW(u), \\tag{$3.8$}\n",
    "    \\end{align*}"
   ]
  },
  {
   "cell_type": "markdown",
   "metadata": {},
   "source": [
    "<font color=black size=3 face=times>**3.3. TG Scheme**<br>\n"
   ]
  },
  {
   "cell_type": "markdown",
   "metadata": {},
   "source": [
    "&emsp;&emsp; The TG (Truncated Gaussian) Scheme writes\n",
    "    $$\\widehat{V}(t+\\Delta)=(\\mu+\\sigma\\dot Z_V)^{+},\\tag{$3.9$}$$\n",
    "    &emsp;&emsp; where $Z_V$ is a standart Gaussian random variable, and $\\mu$ and $\\sigma$ are constants that will depend on the time-step $\\Delta$ and $\\widehat{V}(t)$, as well as the parameters in the SDE for $V$.<br>\n",
    "    &emsp;&emsp;Let:\n",
    "    \\begin{align*}\n",
    "    m&=\\theta+(\\widehat{V}(t)-\\theta)e^{-\\kappa\\Delta},\\tag{$3.10$}\\\\\n",
    "    s^2&=\\frac{\\widehat{V}(t)\\epsilon^2 e^{-\\kappa\\Delta}}{\\kappa}(1-e^{-\\kappa\\Delta})+\\frac{\\theta\\epsilon^2}{2\\kappa}(1-e^{-\\kappa\\Delta})^2,\\tag{$3.11$}\\\\\n",
    "    \\Psi&\\equiv s^2/m^2 =\\frac{\\frac{\\widehat{V}(t)\\epsilon^2 e^{-\\kappa\\Delta}}{\\kappa}(1-e^{-\\kappa\\Delta})+\\frac{\\theta\\epsilon^2}{2\\kappa}(1-e^{-\\kappa\\Delta})^2}{(\\theta+(\\widehat{V}(t)-\\theta)e^{-\\kappa\\Delta})^2}, \\tag{$3.12$}\n",
    "    \\end{align*}\n",
    "    &emsp;&emsp; Define the ratio $r=\\mu/\\sigma$, match the mean to $m$ results in:\n",
    "    $$\\mu=\\frac{m}{r^{-1}\\phi(r)+\\Phi(r)};\\quad \\sigma=r^{-1}\\mu=\\frac{m}{\\phi(r)+r\\Phi(r)}$$\n",
    "    &emsp;&emsp; where $\\phi$ is pdf of normal distribution and $\\Phi$ is cdf of normal distribution.\n",
    "    \\begin{align*}\n",
    "    &\\mu=f_{\\mu}(\\Psi)\\cdot m,\\quad f_{\\mu}(\\Psi)=\\frac{r(\\Psi)}{\\phi(r(\\Psi))+r(\\Psi)\\Phi(r(\\Psi))},\\tag{$3.13$}\\\\\n",
    "    &\\sigma=f_{\\sigma}(\\Psi)\\cdot s,\\quad f_{\\sigma}(\\Psi)=\\frac{\\Psi^{-1/2}}{\\phi(r(\\Psi))+r(\\Psi)\\Phi(r(\\Psi))},\\tag{$3.14$}\n",
    "    \\end{align*}\n",
    "    &emsp;&emsp;The detailed algorithm for the TG simulation step from $\\widehat{V}(t)$ to $\\widehat{V}(t+\\Delta)$ is as follows:<br>\n",
    "    &emsp;&emsp;1.Given $\\widehat{V}(t)$, compute $m$ and $s^2$ from (3.9) and (3.10).<br>\n",
    "    &emsp;&emsp;2.Compute $\\Psi=s^2/m^2$ and look up $f_{\\mu}(\\Psi)$ and $f_{\\sigma}(\\Psi)$ from cache<br>\n",
    "    &emsp;&emsp;3.Compute $\\mu$ and $\\sigma$ according to equations (3.13) and (3.14)<br>\n",
    "    &emsp;&emsp;4.Compute $Z_V=\\Phi^{-1}(U_V)$<br>\n",
    "    &emsp;&emsp;5.Set $\\widehat{V}(t+\\Delta)=(\\mu+\\sigma\\dot Z_V)^{+}$"
   ]
  },
  {
   "cell_type": "markdown",
   "metadata": {},
   "source": [
    "<font color=black size=3 face=times>**3.4. QE Scheme**<br>"
   ]
  },
  {
   "cell_type": "markdown",
   "metadata": {},
   "source": [
    "\n",
    "   &emsp;&emsp; For the non-central chi-square distribution approaches a Gaussian distribution as the non-centrality paremeter approaches $\\infty$, but for small $V(t)$, the non-centrality parameter approaches zero, and the Gaussian variable is typically not accurate.<br>\n",
    "    &emsp;&emsp; For sufficiently large values of $\\widehat{V}(t)$, we write:\n",
    "    $$\\widehat{V}(t+\\Delta)=a(b+Z_V)^2,\\tag{$3.15$}$$\n",
    "    &emsp;&emsp; For low values of $\\widehat{V}(t)$, we use asymptotic density and approximated density for $\\widehat{V}(t+\\Delta)$, we have the form:\n",
    "        $$\\Psi^{-1}(u)=\\Psi^{-1}(u;p,\\beta)=\\left\\{\n",
    "\\begin{aligned}\n",
    "&0,  & 0\\le u\\le p \\\\\n",
    "&\\beta^{-1}ln(\\frac{1-p}{1-u}),& p<u\\le1.\n",
    "\\end{aligned},\\tag{$3.16$}\n",
    "\\right.\n",
    "$$\n",
    "    &emsp;&emsp; The scheme varies when $\\Psi$ is big and when $\\Psi$ is small.<br>\n",
    "    &emsp;&emsp; Assume that some arbitrary level $\\Psi_c\\in [1,2]$ has beem selected. The detailed algorithm for the QE simulation step from $\\widehat{V}(t)$ to $\\widehat{V}(t+\\Delta)$ is then:<br>\n",
    "    &emsp;&emsp;1. Given $\\widehat{V}(t)$, compute $m$ and $s^2$ from the equations (3.10) and (3.11).<br>\n",
    "    &emsp;&emsp;2. Compute $\\Psi=s^2/m^2$<br>\n",
    "    &emsp;&emsp;3. Draw a uniform random number $U_V$<br>\n",
    "    &emsp;&emsp;4. **If** $\\Psi\\leq \\Psi_c$:<br>\n",
    "    &emsp;&emsp;&emsp;&emsp;(a) Compute a and b as:\n",
    "    \\begin{align*}\n",
    "    &b^2=2\\Psi^{-1}-1+\\sqrt{2\\Psi^{-1}}\\sqrt{{2\\Psi^{-1}-1}}\\ge 0,\\tag{$3.17$}\\\\\n",
    "    &a=\\frac{m}{1+b^2},\\tag{$3.18$}\\\\\n",
    "    \\end{align*}\n",
    "    &emsp;&emsp;&emsp;&emsp;(b) Compute $Z_V=\\Phi^{-1}(U_V)$<br>\n",
    "    &emsp;&emsp;&emsp;&emsp;(c) Set $\\widehat{V}(t+\\Delta)=a(b+Z_V)^2$<br>\n",
    "    &emsp;&emsp;5.**Otherwise**, if $\\Psi>\\Psi_c$:<br>\n",
    "    &emsp;&emsp;&emsp;&emsp;(a) Compute $\\beta$ and $p$ as:\n",
    "    \\begin{align*}\n",
    "    &p=\\frac{\\Psi-1}{\\Psi+1}\\in [0,1),\\tag{$3.19$}\\\\\n",
    "    &\\beta=\\frac{1-p}{m}=\\frac{2}{m(\\Psi+1)}>0,\\tag{$3.20$}\\\\\n",
    "    \\end{align*}\n",
    "    &emsp;&emsp;&emsp;&emsp;(b) Set $\\widehat{V}(t+\\Delta)=\\Psi^{-1}(U_V;p,\\beta)$, where $\\Psi^{-1}$ is given at (3.16)<br>\n",
    "    &emsp;&emsp; After simulating the path, calculate:\n",
    "\\begin{align*}\n",
    "     E\\left(S_T|V(T),\\int V(t)dt\\right)&=S_0 exp\\left(\\frac{\\rho}{\\nu}(V(T)-V(0))-\\kappa(\\theta-\\int_{0}^{T}V(t)dt)\\right),\\tag{$3.21$}\\\\\n",
    "     \\sigma&=\\left((1-\\rho^2)\\int_{0}^{T}V(t)dt\\right)^{\\frac{1}{2}},\\tag{$3.22$}\\\\\n",
    "    \\end{align*}\n",
    "    &emsp;&emsp; Then bring the Forward price and volatility into the option pricing model."
   ]
  },
  {
   "cell_type": "markdown",
   "metadata": {},
   "source": [
    "<font color=black size=3 face=times>**4.  Exact Simulation of the Heston Model**<br>"
   ]
  },
  {
   "cell_type": "markdown",
   "metadata": {},
   "source": [
    "<font color=black size=3 face=times>**Main references**: <br>\n",
    "Broadie, M., & Kaya, Ö. (2006). Exact simulation of stochastic volatility and other affine jump diffusion processes. *Operations research, 54*(2), 217-231.<br> \n",
    "CCox, J., Ingersoll, J. E., & Ross, S. A. (1985). A theory of the term structure of interest rates. *Econometrica, 53*(2), 385-407.<br>\n",
    "Glasserman, P., & Kim, K. K. (2011). Gamma expansion of the Heston stochastic volatility model. *Finance and Stochastics, 15*(2), 267-296.<br>\n",
    "Pitman, J., & Yor, M. (1982). A decomposition of Bessel bridges. *Zeitschrift für Wahrscheinlichkeitstheorie und verwandte Gebiete, 59*(4), 425-457."
   ]
  },
  {
   "cell_type": "markdown",
   "metadata": {},
   "source": [
    "<font color=black size=3 face=times>&emsp; Based on the above derivation, we first give the exact simulation algorithm for the Heston model.<br>\n",
    "    &emsp;&emsp;step 1: Generate a sample from the distribution of $V_t$ given $V_0$.<br>\n",
    "    &emsp;&emsp;step 2: Generate a sample from the distribution of $\\int_{0}^{t}V_sd_s$ given $V_t$,$V_0$.<br>\n",
    "    &emsp;&emsp;step 3: recover $\\int_{0}^{t}\\sqrt{V_s}dW_s^{(1)}$ $\\,$ from (1.4)$\\,$ given$V_t,V_0,and \\int_{0}^{t}V_sd_s$.<br>\n",
    "    &emsp;&emsp;step 4: Generate a sample from the distribution of $S_t$ given $\\int_{0}^{t}\\sqrt{V_t}dW_s^{(1)}$ and $\\int_{0}^{t}V_s ds$ <br>  "
   ]
  },
  {
   "cell_type": "markdown",
   "metadata": {},
   "source": [
    "<font color=black size=3 face=times>**4.1. Step 1: Generate a sample from the distribution of $V_t$ given $V_0$**<br>"
   ]
  },
  {
   "cell_type": "markdown",
   "metadata": {},
   "source": [
    "<font color=black size=3 face=times>&emsp; Given $V_0$, the distribution of $V_t$ is a non-central chi-squared distribution,the transaction law can be expressed as \n",
    "    $$V_t=\\frac{\\sigma_v^2(1-e^{-\\kappa t})}{4\\kappa}\\chi_d^{'2}\\left( \\frac{4\\kappa e^{-\\kappa t}}{\\sigma_v^2(1-e^{-\\kappa t})} V_0\\right),\\tag{$4.1$}$$\n",
    "in which, $ d=\\frac{4\\theta\\kappa}{\\sigma_v^2}, \\lambda=\\frac{4\\kappa exp(-\\kappa(t-u))}{\\sigma^{2}_{v}\\left(1-exp(-\\kappa(t-u)) \\right)} V_0$"
   ]
  },
  {
   "cell_type": "markdown",
   "metadata": {},
   "source": [
    "<font color=black size=3 face=times>**4.2. Step 2: Generate a sample from the distribution of $\\int_{0}^{t}V_sd_s$ given $V_t$,$V_0$**<br>"
   ]
  },
  {
   "cell_type": "markdown",
   "metadata": {},
   "source": [
    "<font color=black size=3 face=times>&emsp; Sampling from $\\int_{0}^{t}V_s ds$ is the focus for the whole simulation process, in this section, we will introduce the basic method (**Fourier Inversion Techniques**) and its improvemnt (**Gamma Expansion**) for the sampling."
   ]
  },
  {
   "cell_type": "markdown",
   "metadata": {},
   "source": [
    "<font color=black size=3 face=times>**Fourier Inversion Techniques**<br>"
   ]
  },
  {
   "cell_type": "markdown",
   "metadata": {},
   "source": [
    "<font color=black size=3 face=times>&emsp; Broadie and Kaya (2006) used fourier inversion techniques.The Laplace transform of the integrated variance is as following<br>\n",
    "\\begin{align*} \n",
    "    \\phi(a)&=E[exp(ia\\int_{0}^{t}V_sds)| V_0,V_t]\\\\\n",
    "        &=\\frac{\\gamma(a)e^{(-1/2)(\\gamma(a)-\\kappa)t\\;}(1-e^{-\\kappa t})}{\\kappa(1-e^{-\\gamma(a) t})}\n",
    "        \\times exp\\lbrace\\frac{V_0+V_t}{\\sigma^2}[\\frac{\\kappa(1+e^{-\\kappa t})}{1-e^{-\\kappa t}}-\\frac{\\gamma(a)(1+e^{-\\gamma(a)t})}{1-         e^{-\\gamma(a)t}}]\\rbrace\n",
    "        \\times \\frac{I_{0.5d-1}\\;[\\sqrt{V_0V_t}\\frac{4\\gamma(a)e^{-0.5\\gamma(a)t}}{\\sigma^2(1-e^{-\\gamma(a)t})}\\;\\;]}{I_{0.5d-1}\\;[\\sqrt{V_0V_t}\\frac{4\\kappa e^{-0.5\\kappa t}}{\\sigma^2(1-e^{\\kappa t})}\\;\\;]}\\tag{$4.2$}\n",
    "\\end{align*}\n",
    "\n",
    "where $\\gamma(a)=\\sqrt{\\kappa^2+2\\sigma^2 ia}$, $d$ is as given in (4.1), and $I_v(x)$ is the modified Bessel function of the first kind. ."
   ]
  },
  {
   "cell_type": "markdown",
   "metadata": {},
   "source": [
    "The modified Bessel function\n",
    "of the first kind is characterized by the following power\n",
    "series:\n",
    "    \n",
    "\\begin{align*}\n",
    "I_v(x)=(\\frac{1}{2}z)^{v}\\sum_{j=0}^{\\infty}\\frac{(\\frac{1}{4}z^2)^j}{j!\\Gamma(v+j=1)}\\tag{$4.3$}\n",
    "\\end{align*}"
   ]
  },
  {
   "cell_type": "markdown",
   "metadata": {},
   "source": [
    "<font color=black size=3 face=times>&emsp; $\\,$ Let $V(t)$ denote the random variable $\\int_0^tV_sds$, the probability funcion can be computed using fourier inversion methods.\n",
    "\\begin{align*}\n",
    "F(x)&=Pr(V(t)\\leqslant x)\\\\&=\\frac{1}{\\pi}\\int_{-\\infty}^{\\infty}\\frac{sin ux}{u}\\phi(-iu)du\\\\\n",
    "&=\\frac{2}{\\pi}\\int_0^{\\infty}\\frac{sin ux}{u}Re[\\phi(-iu)]du \\tag{$4.4$}\n",
    "\\end{align*}"
   ]
  },
  {
   "cell_type": "markdown",
   "metadata": {},
   "source": [
    "<font color=black size=3 face=times>&emsp; Through  choosing proper N, the truncation error can be controlled, then the approximation becomes\n",
    "$$Pr(V(t)\\leqslant x)=\\frac{hx}{u}+\\frac{2}{\\pi}\\sum_{j=1}^{N}\\frac{sin hj}{j}Re[\\phi(-ihj)]-e_d(h)-e_T(N)\\tag{$4.5$}$$"
   ]
  },
  {
   "cell_type": "markdown",
   "metadata": {},
   "source": [
    "<font color=black size=3 face=times>&emsp;The hardest and numerically most **time-consuming** part\n",
    "is the evaluation of the characteristic function. The characteristic function given in (4.2) involves two modified Bessel functions of the first kind, and the one in the numerator has a complex argument. "
   ]
  },
  {
   "cell_type": "markdown",
   "metadata": {},
   "source": [
    "<font color=black size=3 face=times>**Improvement: Gamma Expansion**<br>"
   ]
  },
  {
   "cell_type": "markdown",
   "metadata": {},
   "source": [
    "<font color=black size=3 face=times>**Theorem 1** The distribution of $\\int_0^tV_sds$ conditional on its end point admits the representation\n",
    "    $$(\\int_0^tV_sds|V_0=v_0,V_t=v_t)=X_1+X_2+X_3=X_1+X_2+\\sum_{j=1}^{\\eta}Z_j \\tag{$4.6$} $$"
   ]
  },
  {
   "cell_type": "markdown",
   "metadata": {},
   "source": [
    "<font color=black size=3 face=times> in which$ X_1,X_2,\\eta,Z_1,Z_2 ...$ are mutually independent, the $Z_j$ are independent copies of a random variable Z,and $\\eta$ is a bessel random variable BES(v,z) with parameters $v=\\frac{\\delta}{2}-1$ and $z=\\frac{2\\kappa/\\sigma^2}{sinh(\\kappa t/2)}\\sqrt{V_0V_t}$.\n",
    "    \n",
    "<font color=black size=3 face=times> Moreover,$\\,X_1,X_2\\,and\\, Z$ have the representations \n",
    "    $$X_1=\\sum_{n=1}^{\\infty}\\sum_{j=1}^{N_n}Exp_j(1),\\qquad X_2=\\sum_{n=1}^{\\infty}\\frac{1}{\\gamma_n}\\Gamma_n(\\frac{\\delta}{2},1),\\qquad Z=\\sum_{n=1}^{\\infty}\\frac{1}{\\gamma_n}\\Gamma_n(2,1)\\tag{$4.7$},$$\n",
    "    where $\\delta=4\\kappa\\theta/\\sigma^2$,\n",
    "    $$\\lambda_n=\\frac{16\\pi^2n^2}{\\sigma^2t(\\kappa^2t^2+4\\pi^2n^2)},\\qquad \\gamma_n=\\frac{\\kappa^2t^2+4\\pi^2n^2}{2\\sigma^2t^2},$$\n",
    "the$\\,$ $N_n$ are independent Possion random variables with respective means $(v_0+v_t)\\lambda_n$, the $Exp_j(1)$ are independent,unit-mean exponential random variables,and the$\\,$ $\\Gamma_n(\\alpha,\\beta)$ denote independent gamma random variables with shape parameter$\\,$$\\alpha$ and scale parameter $\\beta$."
   ]
  },
  {
   "cell_type": "markdown",
   "metadata": {},
   "source": [
    " <font color=black size=3 face=times> **Lemma 1** The Laplace transform $\\phi^1,\\phi^2$ of $X_1,X_2$ and $Z$ are, for $b\\ge0$\n",
    "    \\begin{align*}\n",
    "    \\phi^1(b)&=exp(\\frac{v_0+v_t}{\\sigma^2}(\\kappa cothh\\frac{\\kappa t}{2}-Lcoth\\frac{Lt}{2})),\\tag{$4.8$}\\\\\n",
    "    \\phi^2(b)&=(\\frac{L}{\\kappa}\\frac{sinh\\,\\kappa t/2}{sinh\\, Lt/2})^{\\delta/2},\\tag{$4.9$}\\\\\n",
    "    \\phi^Z(b)&=(\\frac{L}{\\kappa}\\frac{sinh\\,\\kappa t/2}{sinh \\,Lt/2})^2, \\tag{$4.10$}\\\\\n",
    "    \\end{align*}\n",
    "  where$\\; L=\\sqrt{2\\sigma^2b+\\kappa^2}$."
   ]
  },
  {
   "cell_type": "markdown",
   "metadata": {},
   "source": [
    "<font color=black size=3 face=times>**Lemma 2** Define the remainder random variables\n",
    "    $$X_1^K= \\sum_{n=K+1}^{\\infty}\\frac{1}{\\gamma_n}\\sum_{j=1}^{N_n}Exp_j(1),\\qquad X_2^K=\\sum_{n=K+1}^{\\infty}\\frac{1}{\\gamma_n}\\Gamma(\\delta/2,1),\\qquad Z^K=\\sum_{n=K+1}^{\\infty}\\frac{1}{\\gamma_n}\\Gamma(2,1), \\tag{4.11}$$\n",
    "\n",
    "As  K increases, \n",
    "\\begin{align*}\n",
    "EX^1\\backsim\\frac{2(v_0+v_t)t}{\\pi^2K},\\quad Var(X_1^K)\\backsim\\frac{2(v_0+v_t)\\sigma^2t^3}{3\\pi^4K^3};\\quad\n",
    "EX_2^K\\backsim\\frac{\\delta\\sigma^2t^2}{4\\pi^2K},\\quad Var(X_2^K)\\backsim\\frac{\\delta\\sigma^4t^2}{24\\pi^4K^3};\\quad\n",
    "EZ^K\\backsim\\frac{\\sigma^2t^2}{\\pi^2K}, \\quad Var(Z^K)\\backsim\\frac{\\sigma^4t^2}{6\\pi^4K^3}.\n",
    "\\end{align*}\n",
    "The above results show that the means and variances of the remainders decrease with K."
   ]
  },
  {
   "cell_type": "markdown",
   "metadata": {},
   "source": [
    "<font color=black size=3 face=times> &emsp;Rather than drop the remainders from truncation, we can approximate them with simple random variables, trying to reduce the **truncation error**. One direct way is normal approximation, actually the **gamma approximation** provides a closer approximation.This result is illustrated in the following proposition.   "
   ]
  },
  {
   "cell_type": "markdown",
   "metadata": {},
   "source": [
    "<font color=black size=3 face=times>**Proposition 1** Let $R_K$ denote any of the remainder random variable $X_1^K$,$ X_2^K$ or $Z^K$,and let $\\Gamma_K$denote a gamma random variable with the same mean and variance as $R_K$, let$\\,$ $N_K$denote a normal random variable with the same mean and variance as $R_K$, then $\\Gamma_K$ is closer to $R_K$ than $N_K$ in the following sense: for all $b>0$ in the neighborhood of the origin,\n",
    "    $$0\\leq logEe^{bR_K}-logEe^{b\\Gamma_K}\\leq logEe^{R_K}-logEe^{bN_K},\\tag{$4.12$}$$ \n",
    "for all sufficiently large K.\n",
    "    "
   ]
  },
  {
   "cell_type": "markdown",
   "metadata": {},
   "source": [
    "<font color=black size=3 face=times>&emsp;Recall from the Theorem 1,the end points $v_0$ and $v_t$ appear only in $X_1$ and the Bessel random variable $\\eta$, this enhances the potentical efficiencies gains from this theorem."
   ]
  },
  {
   "cell_type": "markdown",
   "metadata": {},
   "source": [
    "<font color=black size=3 face=times> **Simulation of $X_1$ —— Gamma Expansion**"
   ]
  },
  {
   "cell_type": "markdown",
   "metadata": {},
   "source": [
    "<font color=black size=3 face=times>&emsp;With the proposition 1, we truncate $X_1$ at level K, we use an approximation of the form \n",
    "    $$X_1\\approx \\sum_{n=1}^{K}\\frac{1}{\\gamma_n}\\sum_{j=1}^{N_n}Exp_j(1)+\\Gamma_K^1 \\tag{$4.13$}$$"
   ]
  },
  {
   "cell_type": "markdown",
   "metadata": {},
   "source": [
    "<font color=black size=3 face=times> **Simulation of $X_2$ —— Transform Inversion**"
   ]
  },
  {
   "cell_type": "markdown",
   "metadata": {},
   "source": [
    "<font color=black size=3 face=times> &emsp; The methods discussed for $X_1$-sampling through repeated transform inversion or through the gamma expansion are both applicable to $X_2$ as well. However, the fact that $X_2$ does not depend on the $v_0$or $v_t$ opens a further option of tablulation.Since **the distribution of $X_2$ does not dependent on any intermediate simulated $V_t$ values**, we can therefore tabulate the distribution at the start.<br>\n",
    "&emsp; We first compute the the $F_{X_2}(x_i)$, using the Abate-Whitt algorithm,\n",
    "    $$F_{X_2}(x)\\approx \\frac{hx}{\\pi}+\\frac{2}{\\pi}\\sum_{k=1}^{N}\\frac{sinhkx}{k}Re(\\phi^2(-ihk)),\\quad h=\\frac{2\\pi}{x+u_\\epsilon}\\tag{$4.14$}.$$\n",
    "Here, $u_{\\epsilon}=\\mu_{X_2}+12\\sigma_{X_2}$, with $\\mu_{X_2}$ the mean of $X_2$, $\\sigma_{X_1}$ its standard deviation.\n",
    "$$\\mu_{X_2}=\\delta \\mu_{X_2}^* \\qquad \\sigma_{X_2}^2=\\delta {\\sigma_{X_2}^*}^2 $$\n",
    "in which \n",
    "\\begin{align*}\n",
    "\\mu_{X_2}^* &= \\frac{\\sigma^2}{4\\kappa^2}(-2+\\kappa t coth(\\frac{\\kappa t}{2}))\\tag{$4.15$}\\\\\n",
    "{\\sigma_{X_2}^*}^2 &=  \\frac{\\sigma^2}{8\\kappa^2}(-8+2\\kappa t coth(\\frac{\\kappa t}{2})+\\kappa^2t^2csch^2(\\frac{\\kappa t}{2})) \\tag{$4.16$}\n",
    "\\end{align*}\n",
    "\n",
    "Then we compute $F_{X_2}(x_i)$ at the points\n",
    "    $$x_i=w\\mu_{X_2}+\\frac{i-1}{M}(u_{\\epsilon}-w\\mu_{X_2}),i=1,...,M+1, \\tag{4.17}$$\n",
    "in which $M=200$, $w=0.01$\n",
    "\n",
    "Then generate U uniformly over $[0,1]$, and set $X_2=F_{X_2}^{-1}(U)$, using **linear interpolation**.\n"
   ]
  },
  {
   "cell_type": "markdown",
   "metadata": {},
   "source": [
    "<font color=black size=3 face=times> **Simulation of $X_3$  —— Transform Inversion**"
   ]
  },
  {
   "cell_type": "markdown",
   "metadata": {},
   "source": [
    "<font color=black size=3 face=times>&emsp;  When generating samples for $X_3$, we note that the distribution of $Z$ is a special case of that of $X_2$, the means and variance of Z are given by $\\mu_Z=4\\mu_{X_2}^*$$\\,$, and $\\sigma_Z^2=4{\\sigma_{X_2}^*}^2$,with the parameters given. <br>\n",
    "&emsp; To simulate the $X_3$, we need to further generate the Bessel random variable $\\mu \\backsim BES(v,z)$,with parameters\n",
    "    $$v=\\frac{\\delta}{2}-1,\\qquad z=\\frac{2\\kappa/\\sigma^2}{sinh(\\kappa t/2)}\\sqrt{v_0v_t},\\tag{4.18}$$\n",
    "we firstly generate $U$ uniformly over $[0,1]$ and calculate the probability mass function recursively via\n",
    "$$p_{n+1}=\\frac{z^2}{4(n+1)(n+1+v)}p_n,\\qquad p_0=\\frac{(z/2)^2}{I_v(z)\\Gamma(v+1)}, \\tag{4.19}$$\n",
    "until we reach a value $\\mu$ such that\n",
    "$$\\sum_{n=0}^{\\mu-1}p_n\\leq U \\leq \\sum_{n=0}^{\\mu}p_n$$\n",
    "we return $\\mu$ as our sample from the Bessel distribution."
   ]
  },
  {
   "cell_type": "markdown",
   "metadata": {},
   "source": [
    "<font color=black size=3 face=times>**4.3. Step 3: recover $\\int_{0}^{t}\\sqrt{V_s}dW_s^{(1)}$ $\\,$ from (1.4)$\\,$ given$V_t,V_0,and \\int_{0}^{t}V_sd_s$**<br>"
   ]
  },
  {
   "cell_type": "markdown",
   "metadata": {},
   "source": [
    "<font color=black size=3 face=times> &emsp; After having generated samples from $V_t$ and$\\int_0^tV_sds,$ we use (3.2) to get \n",
    "    $$\\int_0^t\\sqrt{V_s}dW_s^{(1)}=\\frac{1}{\\sigma_v}(V_t-V_u-\\kappa\\theta t+\\kappa\\int_0^tV_sds)\\tag{$4.20$}$$\n",
    "\n"
   ]
  },
  {
   "cell_type": "markdown",
   "metadata": {},
   "source": [
    "<font color=black size=3 face=times>**4.4. Step 4: Generate a sample from the distribution of $S_t$ given $\\int_{0}^{t}\\sqrt{V_t}dW_s^{(1)}$ and $\\int_{0}^{t}V_s ds$**<br>"
   ]
  },
  {
   "cell_type": "markdown",
   "metadata": {},
   "source": [
    "<font color=black size=3 face=times> &emsp;Further more,because the process for $V_t$ is independent of the Brownian motion $W_t^{(2)}$, the distribution of $\\int_0^t\\sqrt(V_s)dW_s^{(2)}$,given the path generated by $V_t$, is normal, with the mean 0 and variance $\\int_0^tV_sds$.Using the above results, we get the conditional distribution of $logS_t$ is normal with mean\n",
    "$$m(t)=logS_0+[\\mu t-\\frac{1}{2}\\int_0^tV_sds+\\rho\\int_0^t\\sqrt{V_s}dW_s^{(1)}], \\tag{4.21}$$<br>\n",
    "and variance\n",
    "$$\\sigma(t)^2=(1-\\rho^2) \\int_0^t V_s ds, \\tag{4.22}$$\n",
    "to generate a sample from $S_t$,we generate a standard normal random variable $Z$ and then set \n",
    "$$S_t=e^{m(t)+\\sigma(t)Z}, \\tag{4.23}$$"
   ]
  },
  {
   "cell_type": "markdown",
   "metadata": {},
   "source": [
    "<font color=black size=3 face=times>**5.  Almost-Exact Simulation of the Heston Model**<br>"
   ]
  },
  {
   "cell_type": "markdown",
   "metadata": {},
   "source": [
    "<font color=black size=3 face=times> &emsp;Drawback of exact simulation (if existing):\n",
    "- Inverse Laplace transform of $V_t|v_t$ is complicated.\n",
    "- Drawing random number from numerical CDF is also slow.\n",
    "    \n",
    "The general idea of almost-exact simulation of the heston model is that approximate the distribution of $\\int_{0}^{t}V_sd_s$ given $V_t$,$V_0$ with a well-known distribution with easy sampling with moment matching, $E(V_t|_t )$, $E(V_t^2|_t )$, etc."
   ]
  },
  {
   "cell_type": "markdown",
   "metadata": {},
   "source": [
    "<font color=black size=3 face=times>&emsp; We give the almost exact simulation algorithm for the Heston model.<br>\n",
    "    &emsp;&emsp;step 1: Generate a sample from the distribution of $V_t$ given $V_0$.<br>\n",
    "    &emsp;&emsp;step 2: Generate a sample from the approximation distribution of $\\int_{0}^{t}V_sd_s$ given $V_t$,$V_0$.<br>\n",
    "    &emsp;&emsp;step 3: recover $\\int_{0}^{t}\\sqrt{V_s}dW_s^{(1)}$ $\\,$ from (1.4)$\\,$ given$V_t,V_0,and \\int_{0}^{t}V_sd_s$.<br>\n",
    "    &emsp;&emsp;step 4: Generate a sample from the distribution of $S_t$ given $\\int_{0}^{t}\\sqrt{V_t}dW_s^{(1)}$ and $\\int_{0}^{t}V_s ds$ <br>  "
   ]
  },
  {
   "cell_type": "markdown",
   "metadata": {},
   "source": [
    "<font color=black size=3 face=times>**6.  Numerical Experiments**<br>"
   ]
  },
  {
   "cell_type": "code",
   "execution_count": 1,
   "metadata": {},
   "outputs": [],
   "source": [
    "%load_ext autoreload\n",
    "%autoreload 2"
   ]
  },
  {
   "cell_type": "code",
   "execution_count": 2,
   "metadata": {},
   "outputs": [],
   "source": [
    "import numpy as np\n",
    "import pandas as pd\n",
    "import time \n",
    "# Uncomment below if you want to run on your own modified code\n",
    "# import sys\n",
    "# sys.path.insert(sys.path.index('')+1, r\"E:\\PycharmProjects\\PyFENG\")\n",
    "# import pyfeng as pf\n",
    "\n",
    "\n",
    "SEED = np.random.seed(0)"
   ]
  },
  {
   "cell_type": "code",
   "execution_count": 3,
   "metadata": {},
   "outputs": [],
   "source": [
    "from HestonMCAe import HestonMCAe\n",
    "from heston_cmc_qe import HestonCondMcQE"
   ]
  },
  {
   "cell_type": "markdown",
   "metadata": {},
   "source": [
    "<font color=black size=4.5 face=times>**Test on relationship between paths, bias and time.**<br>"
   ]
  },
  {
   "cell_type": "markdown",
   "metadata": {},
   "source": [
    "<font color=black size=3 face=times>**Result references**: <br>\n",
    "Van Haastrecht, A., & Pelsser, A. (2010). Efficient, almost exact simulation of the heston stochastic volatility model. International Journal of Theoretical and Applied Finance, 13(01), 1–43."
   ]
  },
  {
   "cell_type": "code",
   "execution_count": 4,
   "metadata": {},
   "outputs": [],
   "source": [
    "# Van (2010)\n",
    "strike = [100.0, 140.0, 60.0]\n",
    "forward = 100\n",
    "\n",
    "case = np.zeros([3, 7])\n",
    "#case[i]=[vov, kappa, rho, texp, theta,   sigma,  r]\n",
    "case[0] = [1,   0.5, -0.9, 10, 0.04, np.sqrt(0.04), 0]\n",
    "case[1] = [1,   1,   -0.3, 5,  0.09, np.sqrt(0.09), 0.05]\n",
    "case[2] = [0.9, 0.3, -0.5, 15, 0.04, np.sqrt(0.04), 0]\n",
    "ref_price = np.array([[13.085, 0.296, 44.330], [33.597, 18.157, 56.575], [16.649, 5.138, 45.287]])"
   ]
  },
  {
   "cell_type": "code",
   "execution_count": 5,
   "metadata": {},
   "outputs": [
    {
     "name": "stdout",
     "output_type": "stream",
     "text": [
      "Case 0:\n",
      "Inverse-Gaussian\n"
     ]
    },
    {
     "data": {
      "text/html": [
       "<div>\n",
       "<style scoped>\n",
       "    .dataframe tbody tr th:only-of-type {\n",
       "        vertical-align: middle;\n",
       "    }\n",
       "\n",
       "    .dataframe tbody tr th {\n",
       "        vertical-align: top;\n",
       "    }\n",
       "\n",
       "    .dataframe thead th {\n",
       "        text-align: right;\n",
       "    }\n",
       "</style>\n",
       "<table border=\"1\" class=\"dataframe\">\n",
       "  <thead>\n",
       "    <tr style=\"text-align: right;\">\n",
       "      <th></th>\n",
       "      <th>strike=100</th>\n",
       "      <th>bias</th>\n",
       "      <th>time</th>\n",
       "      <th>strike=140</th>\n",
       "      <th>bias</th>\n",
       "      <th>time</th>\n",
       "      <th>strike=60</th>\n",
       "      <th>bias</th>\n",
       "      <th>time</th>\n",
       "    </tr>\n",
       "  </thead>\n",
       "  <tbody>\n",
       "    <tr>\n",
       "      <th>1000</th>\n",
       "      <td>13.785690</td>\n",
       "      <td>0.700690</td>\n",
       "      <td>0.008993</td>\n",
       "      <td>0.217157</td>\n",
       "      <td>-0.078843</td>\n",
       "      <td>0.007929</td>\n",
       "      <td>44.831279</td>\n",
       "      <td>0.501279</td>\n",
       "      <td>0.008976</td>\n",
       "    </tr>\n",
       "    <tr>\n",
       "      <th>10000</th>\n",
       "      <td>13.069460</td>\n",
       "      <td>-0.015540</td>\n",
       "      <td>0.072842</td>\n",
       "      <td>0.300229</td>\n",
       "      <td>0.004229</td>\n",
       "      <td>0.072803</td>\n",
       "      <td>44.457998</td>\n",
       "      <td>0.127998</td>\n",
       "      <td>0.071824</td>\n",
       "    </tr>\n",
       "    <tr>\n",
       "      <th>100000</th>\n",
       "      <td>13.241641</td>\n",
       "      <td>0.156641</td>\n",
       "      <td>0.755959</td>\n",
       "      <td>0.273758</td>\n",
       "      <td>-0.022242</td>\n",
       "      <td>0.774929</td>\n",
       "      <td>44.284642</td>\n",
       "      <td>-0.045358</td>\n",
       "      <td>0.770905</td>\n",
       "    </tr>\n",
       "    <tr>\n",
       "      <th>1000000</th>\n",
       "      <td>13.241237</td>\n",
       "      <td>0.156237</td>\n",
       "      <td>7.751294</td>\n",
       "      <td>0.286301</td>\n",
       "      <td>-0.009699</td>\n",
       "      <td>7.649498</td>\n",
       "      <td>44.516133</td>\n",
       "      <td>0.186133</td>\n",
       "      <td>7.778188</td>\n",
       "    </tr>\n",
       "  </tbody>\n",
       "</table>\n",
       "</div>"
      ],
      "text/plain": [
       "         strike=100      bias      time  strike=140      bias      time  \\\n",
       "1000      13.785690  0.700690  0.008993    0.217157 -0.078843  0.007929   \n",
       "10000     13.069460 -0.015540  0.072842    0.300229  0.004229  0.072803   \n",
       "100000    13.241641  0.156641  0.755959    0.273758 -0.022242  0.774929   \n",
       "1000000   13.241237  0.156237  7.751294    0.286301 -0.009699  7.649498   \n",
       "\n",
       "         strike=60      bias      time  \n",
       "1000     44.831279  0.501279  0.008976  \n",
       "10000    44.457998  0.127998  0.071824  \n",
       "100000   44.284642 -0.045358  0.770905  \n",
       "1000000  44.516133  0.186133  7.778188  "
      ]
     },
     "execution_count": 5,
     "metadata": {},
     "output_type": "execute_result"
    }
   ],
   "source": [
    "## case 0\n",
    "i = 0\n",
    "\n",
    "## parameters setting\n",
    "vov ,kappa, rho, texp, theta, sigma, r = case[i]\n",
    "\n",
    "## Initiate a Heston model with method of almost exact method \n",
    "hestonMCAe = HestonMCAe(vov=vov, kappa=kappa, rho=rho, theta=theta, r=r)\n",
    "\n",
    "n_paths = [1000, 10000, 100000, 1000000]\n",
    "\n",
    "record = []\n",
    "for t in range(len(n_paths)):\n",
    "    temp = []\n",
    "    for d in range(len(strike)):\n",
    "        start = time.time()\n",
    "        price = hestonMCAe.price(strike[d], forward, texp, sigma, n_paths=n_paths[t], seed=SEED)\n",
    "        end = time.time()\n",
    "        temp.append(price)\n",
    "        temp.append(price - ref_price[i][d])\n",
    "        temp.append(end - start)\n",
    "    record.append(temp)\n",
    "\n",
    "print('Case %s:' % i)\n",
    "print(\"Inverse-Gaussian\")\n",
    "pd.DataFrame(record, index=n_paths, columns=[\"strike=100\", \"bias\", \"time\", \"strike=140\", \"bias\", \"time\", \"strike=60\", \"bias\", \"time\"])"
   ]
  },
  {
   "cell_type": "code",
   "execution_count": 6,
   "metadata": {},
   "outputs": [
    {
     "name": "stdout",
     "output_type": "stream",
     "text": [
      "Case 0:\n",
      "Log-normal\n"
     ]
    },
    {
     "data": {
      "text/html": [
       "<div>\n",
       "<style scoped>\n",
       "    .dataframe tbody tr th:only-of-type {\n",
       "        vertical-align: middle;\n",
       "    }\n",
       "\n",
       "    .dataframe tbody tr th {\n",
       "        vertical-align: top;\n",
       "    }\n",
       "\n",
       "    .dataframe thead th {\n",
       "        text-align: right;\n",
       "    }\n",
       "</style>\n",
       "<table border=\"1\" class=\"dataframe\">\n",
       "  <thead>\n",
       "    <tr style=\"text-align: right;\">\n",
       "      <th></th>\n",
       "      <th>strike=100</th>\n",
       "      <th>bias</th>\n",
       "      <th>time</th>\n",
       "      <th>strike=140</th>\n",
       "      <th>bias</th>\n",
       "      <th>time</th>\n",
       "      <th>strike=60</th>\n",
       "      <th>bias</th>\n",
       "      <th>time</th>\n",
       "    </tr>\n",
       "  </thead>\n",
       "  <tbody>\n",
       "    <tr>\n",
       "      <th>1000</th>\n",
       "      <td>12.567221</td>\n",
       "      <td>-0.517779</td>\n",
       "      <td>0.008977</td>\n",
       "      <td>0.513513</td>\n",
       "      <td>0.217513</td>\n",
       "      <td>0.009973</td>\n",
       "      <td>42.705716</td>\n",
       "      <td>-1.624284</td>\n",
       "      <td>0.007979</td>\n",
       "    </tr>\n",
       "    <tr>\n",
       "      <th>10000</th>\n",
       "      <td>12.099751</td>\n",
       "      <td>-0.985249</td>\n",
       "      <td>0.081781</td>\n",
       "      <td>0.324329</td>\n",
       "      <td>0.028329</td>\n",
       "      <td>0.078824</td>\n",
       "      <td>42.777403</td>\n",
       "      <td>-1.552597</td>\n",
       "      <td>0.077758</td>\n",
       "    </tr>\n",
       "    <tr>\n",
       "      <th>100000</th>\n",
       "      <td>12.123669</td>\n",
       "      <td>-0.961331</td>\n",
       "      <td>0.761962</td>\n",
       "      <td>0.313077</td>\n",
       "      <td>0.017077</td>\n",
       "      <td>0.738060</td>\n",
       "      <td>42.405855</td>\n",
       "      <td>-1.924145</td>\n",
       "      <td>0.738040</td>\n",
       "    </tr>\n",
       "    <tr>\n",
       "      <th>1000000</th>\n",
       "      <td>12.072978</td>\n",
       "      <td>-1.012022</td>\n",
       "      <td>7.651479</td>\n",
       "      <td>0.327002</td>\n",
       "      <td>0.031002</td>\n",
       "      <td>7.864954</td>\n",
       "      <td>42.339597</td>\n",
       "      <td>-1.990403</td>\n",
       "      <td>7.713551</td>\n",
       "    </tr>\n",
       "  </tbody>\n",
       "</table>\n",
       "</div>"
      ],
      "text/plain": [
       "         strike=100      bias      time  strike=140      bias      time  \\\n",
       "1000      12.567221 -0.517779  0.008977    0.513513  0.217513  0.009973   \n",
       "10000     12.099751 -0.985249  0.081781    0.324329  0.028329  0.078824   \n",
       "100000    12.123669 -0.961331  0.761962    0.313077  0.017077  0.738060   \n",
       "1000000   12.072978 -1.012022  7.651479    0.327002  0.031002  7.864954   \n",
       "\n",
       "         strike=60      bias      time  \n",
       "1000     42.705716 -1.624284  0.007979  \n",
       "10000    42.777403 -1.552597  0.077758  \n",
       "100000   42.405855 -1.924145  0.738040  \n",
       "1000000  42.339597 -1.990403  7.713551  "
      ]
     },
     "execution_count": 6,
     "metadata": {},
     "output_type": "execute_result"
    }
   ],
   "source": [
    "record = []\n",
    "for t in range(len(n_paths)):\n",
    "    temp = []\n",
    "    for d in range(len(strike)):\n",
    "        start = time.time()\n",
    "        price = hestonMCAe.price(strike[d], forward, texp, sigma, n_paths=n_paths[t], seed=SEED, dis_can=\"Log-normal\")\n",
    "        end = time.time()\n",
    "        temp.append(price)\n",
    "        temp.append(price - ref_price[i][d])\n",
    "        temp.append(end - start)\n",
    "    record.append(temp)\n",
    "\n",
    "print('Case %s:' % i)\n",
    "print(\"Log-normal\")\n",
    "pd.DataFrame(record, index=n_paths, columns=[\"strike=100\", \"bias\", \"time\", \"strike=140\", \"bias\", \"time\", \"strike=60\", \"bias\", \"time\"])"
   ]
  },
  {
   "cell_type": "code",
   "execution_count": 7,
   "metadata": {},
   "outputs": [
    {
     "name": "stdout",
     "output_type": "stream",
     "text": [
      "Case 1:\n",
      "Inverse-Gaussian\n"
     ]
    },
    {
     "data": {
      "text/html": [
       "<div>\n",
       "<style scoped>\n",
       "    .dataframe tbody tr th:only-of-type {\n",
       "        vertical-align: middle;\n",
       "    }\n",
       "\n",
       "    .dataframe tbody tr th {\n",
       "        vertical-align: top;\n",
       "    }\n",
       "\n",
       "    .dataframe thead th {\n",
       "        text-align: right;\n",
       "    }\n",
       "</style>\n",
       "<table border=\"1\" class=\"dataframe\">\n",
       "  <thead>\n",
       "    <tr style=\"text-align: right;\">\n",
       "      <th></th>\n",
       "      <th>strike=100</th>\n",
       "      <th>bias</th>\n",
       "      <th>time</th>\n",
       "      <th>strike=140</th>\n",
       "      <th>bias</th>\n",
       "      <th>time</th>\n",
       "      <th>strike=60</th>\n",
       "      <th>bias</th>\n",
       "      <th>time</th>\n",
       "    </tr>\n",
       "  </thead>\n",
       "  <tbody>\n",
       "    <tr>\n",
       "      <th>1000</th>\n",
       "      <td>32.207356</td>\n",
       "      <td>-1.389644</td>\n",
       "      <td>0.010970</td>\n",
       "      <td>20.642609</td>\n",
       "      <td>2.485609</td>\n",
       "      <td>0.007978</td>\n",
       "      <td>57.883372</td>\n",
       "      <td>1.308372</td>\n",
       "      <td>0.008976</td>\n",
       "    </tr>\n",
       "    <tr>\n",
       "      <th>10000</th>\n",
       "      <td>33.149899</td>\n",
       "      <td>-0.447101</td>\n",
       "      <td>0.080783</td>\n",
       "      <td>17.505979</td>\n",
       "      <td>-0.651021</td>\n",
       "      <td>0.078838</td>\n",
       "      <td>57.561489</td>\n",
       "      <td>0.986489</td>\n",
       "      <td>0.075782</td>\n",
       "    </tr>\n",
       "    <tr>\n",
       "      <th>100000</th>\n",
       "      <td>33.693196</td>\n",
       "      <td>0.096196</td>\n",
       "      <td>0.791898</td>\n",
       "      <td>18.091101</td>\n",
       "      <td>-0.065899</td>\n",
       "      <td>0.787892</td>\n",
       "      <td>57.089947</td>\n",
       "      <td>0.514947</td>\n",
       "      <td>0.802839</td>\n",
       "    </tr>\n",
       "  </tbody>\n",
       "</table>\n",
       "</div>"
      ],
      "text/plain": [
       "        strike=100      bias      time  strike=140      bias      time  \\\n",
       "1000     32.207356 -1.389644  0.010970   20.642609  2.485609  0.007978   \n",
       "10000    33.149899 -0.447101  0.080783   17.505979 -0.651021  0.078838   \n",
       "100000   33.693196  0.096196  0.791898   18.091101 -0.065899  0.787892   \n",
       "\n",
       "        strike=60      bias      time  \n",
       "1000    57.883372  1.308372  0.008976  \n",
       "10000   57.561489  0.986489  0.075782  \n",
       "100000  57.089947  0.514947  0.802839  "
      ]
     },
     "execution_count": 7,
     "metadata": {},
     "output_type": "execute_result"
    }
   ],
   "source": [
    "## case 1\n",
    "i = 1\n",
    "\n",
    "## parameters setting\n",
    "vov ,kappa, rho, texp, theta, sigma, r = case[i]\n",
    "\n",
    "## Initiate a Heston model with method of almost exact method \n",
    "hestonMCAe = HestonMCAe(vov=vov, kappa=kappa, rho=rho, theta=theta, r=r)\n",
    "\n",
    "n_paths = [1000, 10000, 100000, 1000000]\n",
    "\n",
    "record = []\n",
    "for t in range(len(n_paths)):\n",
    "    temp = []\n",
    "    for d in range(len(strike)):\n",
    "        start = time.time()\n",
    "        price = hestonMCAe.price(strike[d], forward, texp, sigma, n_paths=n_paths[t], seed=SEED)\n",
    "        end = time.time()\n",
    "        temp.append(price)\n",
    "        temp.append(price - ref_price[i][d])\n",
    "        temp.append(end - start)\n",
    "    record.append(temp)\n",
    "\n",
    "print('Case %s:' % i)\n",
    "print(\"Inverse-Gaussian\")\n",
    "pd.DataFrame(record, index=n_paths, columns=[\"strike=100\", \"bias\", \"time\", \"strike=140\", \"bias\", \"time\", \"strike=60\", \"bias\", \"time\"])"
   ]
  },
  {
   "cell_type": "code",
   "execution_count": 8,
   "metadata": {},
   "outputs": [
    {
     "name": "stdout",
     "output_type": "stream",
     "text": [
      "Case 1:\n",
      "Log-normal\n"
     ]
    },
    {
     "data": {
      "text/html": [
       "<div>\n",
       "<style scoped>\n",
       "    .dataframe tbody tr th:only-of-type {\n",
       "        vertical-align: middle;\n",
       "    }\n",
       "\n",
       "    .dataframe tbody tr th {\n",
       "        vertical-align: top;\n",
       "    }\n",
       "\n",
       "    .dataframe thead th {\n",
       "        text-align: right;\n",
       "    }\n",
       "</style>\n",
       "<table border=\"1\" class=\"dataframe\">\n",
       "  <thead>\n",
       "    <tr style=\"text-align: right;\">\n",
       "      <th></th>\n",
       "      <th>strike=100</th>\n",
       "      <th>bias</th>\n",
       "      <th>time</th>\n",
       "      <th>strike=140</th>\n",
       "      <th>bias</th>\n",
       "      <th>time</th>\n",
       "      <th>strike=60</th>\n",
       "      <th>bias</th>\n",
       "      <th>time</th>\n",
       "    </tr>\n",
       "  </thead>\n",
       "  <tbody>\n",
       "    <tr>\n",
       "      <th>1000</th>\n",
       "      <td>32.582330</td>\n",
       "      <td>-1.014670</td>\n",
       "      <td>0.008977</td>\n",
       "      <td>17.380850</td>\n",
       "      <td>-0.776150</td>\n",
       "      <td>0.008976</td>\n",
       "      <td>53.692507</td>\n",
       "      <td>-2.882493</td>\n",
       "      <td>0.010021</td>\n",
       "    </tr>\n",
       "    <tr>\n",
       "      <th>10000</th>\n",
       "      <td>34.062670</td>\n",
       "      <td>0.465670</td>\n",
       "      <td>0.076747</td>\n",
       "      <td>18.162579</td>\n",
       "      <td>0.005579</td>\n",
       "      <td>0.074800</td>\n",
       "      <td>57.587542</td>\n",
       "      <td>1.012542</td>\n",
       "      <td>0.075828</td>\n",
       "    </tr>\n",
       "    <tr>\n",
       "      <th>100000</th>\n",
       "      <td>33.597863</td>\n",
       "      <td>0.000863</td>\n",
       "      <td>0.853686</td>\n",
       "      <td>18.307272</td>\n",
       "      <td>0.150272</td>\n",
       "      <td>0.860697</td>\n",
       "      <td>56.579429</td>\n",
       "      <td>0.004429</td>\n",
       "      <td>0.832770</td>\n",
       "    </tr>\n",
       "  </tbody>\n",
       "</table>\n",
       "</div>"
      ],
      "text/plain": [
       "        strike=100      bias      time  strike=140      bias      time  \\\n",
       "1000     32.582330 -1.014670  0.008977   17.380850 -0.776150  0.008976   \n",
       "10000    34.062670  0.465670  0.076747   18.162579  0.005579  0.074800   \n",
       "100000   33.597863  0.000863  0.853686   18.307272  0.150272  0.860697   \n",
       "\n",
       "        strike=60      bias      time  \n",
       "1000    53.692507 -2.882493  0.010021  \n",
       "10000   57.587542  1.012542  0.075828  \n",
       "100000  56.579429  0.004429  0.832770  "
      ]
     },
     "execution_count": 8,
     "metadata": {},
     "output_type": "execute_result"
    }
   ],
   "source": [
    "record = []\n",
    "for t in range(len(n_paths)):\n",
    "    temp = []\n",
    "    for d in range(len(strike)):\n",
    "        start = time.time()\n",
    "        price = hestonMCAe.price(strike[d], forward, texp, sigma, n_paths=n_paths[t], seed=SEED, dis_can=\"Log-normal\")\n",
    "        end = time.time()\n",
    "        temp.append(price)\n",
    "        temp.append(price - ref_price[i][d])\n",
    "        temp.append(end - start)\n",
    "    record.append(temp)\n",
    "\n",
    "print('Case %s:' % i)\n",
    "print(\"Log-normal\")\n",
    "pd.DataFrame(record, index=n_paths, columns=[\"strike=100\", \"bias\", \"time\", \"strike=140\", \"bias\", \"time\", \"strike=60\", \"bias\", \"time\"])"
   ]
  },
  {
   "cell_type": "code",
   "execution_count": 9,
   "metadata": {},
   "outputs": [
    {
     "name": "stdout",
     "output_type": "stream",
     "text": [
      "Case 2:\n",
      "Inverse-Gaussian\n"
     ]
    },
    {
     "data": {
      "text/html": [
       "<div>\n",
       "<style scoped>\n",
       "    .dataframe tbody tr th:only-of-type {\n",
       "        vertical-align: middle;\n",
       "    }\n",
       "\n",
       "    .dataframe tbody tr th {\n",
       "        vertical-align: top;\n",
       "    }\n",
       "\n",
       "    .dataframe thead th {\n",
       "        text-align: right;\n",
       "    }\n",
       "</style>\n",
       "<table border=\"1\" class=\"dataframe\">\n",
       "  <thead>\n",
       "    <tr style=\"text-align: right;\">\n",
       "      <th></th>\n",
       "      <th>strike=100</th>\n",
       "      <th>bias</th>\n",
       "      <th>time</th>\n",
       "      <th>strike=140</th>\n",
       "      <th>bias</th>\n",
       "      <th>time</th>\n",
       "      <th>strike=60</th>\n",
       "      <th>bias</th>\n",
       "      <th>time</th>\n",
       "    </tr>\n",
       "  </thead>\n",
       "  <tbody>\n",
       "    <tr>\n",
       "      <th>1000</th>\n",
       "      <td>16.596666</td>\n",
       "      <td>-0.052334</td>\n",
       "      <td>0.010938</td>\n",
       "      <td>5.098703</td>\n",
       "      <td>-0.039297</td>\n",
       "      <td>0.008974</td>\n",
       "      <td>45.901407</td>\n",
       "      <td>0.614407</td>\n",
       "      <td>0.007978</td>\n",
       "    </tr>\n",
       "    <tr>\n",
       "      <th>10000</th>\n",
       "      <td>16.625600</td>\n",
       "      <td>-0.023400</td>\n",
       "      <td>0.077794</td>\n",
       "      <td>4.811780</td>\n",
       "      <td>-0.326220</td>\n",
       "      <td>0.075844</td>\n",
       "      <td>45.999557</td>\n",
       "      <td>0.712557</td>\n",
       "      <td>0.074800</td>\n",
       "    </tr>\n",
       "    <tr>\n",
       "      <th>100000</th>\n",
       "      <td>16.518049</td>\n",
       "      <td>-0.130951</td>\n",
       "      <td>0.754981</td>\n",
       "      <td>4.953756</td>\n",
       "      <td>-0.184244</td>\n",
       "      <td>0.751989</td>\n",
       "      <td>45.358568</td>\n",
       "      <td>0.071568</td>\n",
       "      <td>0.749980</td>\n",
       "    </tr>\n",
       "    <tr>\n",
       "      <th>1000000</th>\n",
       "      <td>16.432923</td>\n",
       "      <td>-0.216077</td>\n",
       "      <td>7.694375</td>\n",
       "      <td>4.958316</td>\n",
       "      <td>-0.179684</td>\n",
       "      <td>7.789202</td>\n",
       "      <td>45.346088</td>\n",
       "      <td>0.059088</td>\n",
       "      <td>7.869901</td>\n",
       "    </tr>\n",
       "  </tbody>\n",
       "</table>\n",
       "</div>"
      ],
      "text/plain": [
       "         strike=100      bias      time  strike=140      bias      time  \\\n",
       "1000      16.596666 -0.052334  0.010938    5.098703 -0.039297  0.008974   \n",
       "10000     16.625600 -0.023400  0.077794    4.811780 -0.326220  0.075844   \n",
       "100000    16.518049 -0.130951  0.754981    4.953756 -0.184244  0.751989   \n",
       "1000000   16.432923 -0.216077  7.694375    4.958316 -0.179684  7.789202   \n",
       "\n",
       "         strike=60      bias      time  \n",
       "1000     45.901407  0.614407  0.007978  \n",
       "10000    45.999557  0.712557  0.074800  \n",
       "100000   45.358568  0.071568  0.749980  \n",
       "1000000  45.346088  0.059088  7.869901  "
      ]
     },
     "execution_count": 9,
     "metadata": {},
     "output_type": "execute_result"
    }
   ],
   "source": [
    "## case 2\n",
    "i = 2\n",
    "\n",
    "## parameters setting\n",
    "vov ,kappa, rho, texp, theta, sigma, r = case[i]\n",
    "\n",
    "## Initiate a Heston model with method of almost exact method \n",
    "hestonMCAe = HestonMCAe(vov=vov, kappa=kappa, rho=rho, theta=theta, r=r)\n",
    "\n",
    "n_paths = [1000, 10000, 100000, 1000000]\n",
    "\n",
    "record = []\n",
    "for t in range(len(n_paths)):\n",
    "    temp = []\n",
    "    for d in range(len(strike)):\n",
    "        start = time.time()\n",
    "        price = hestonMCAe.price(strike[d], forward, texp, sigma, n_paths=n_paths[t], seed=SEED)\n",
    "        end = time.time()\n",
    "        temp.append(price)\n",
    "        temp.append(price - ref_price[i][d])\n",
    "        temp.append(end - start)\n",
    "    record.append(temp)\n",
    "\n",
    "print('Case %s:' % i)\n",
    "print(\"Inverse-Gaussian\")\n",
    "pd.DataFrame(record, index=n_paths, columns=[\"strike=100\", \"bias\", \"time\", \"strike=140\", \"bias\", \"time\", \"strike=60\", \"bias\", \"time\"])"
   ]
  },
  {
   "cell_type": "code",
   "execution_count": 10,
   "metadata": {},
   "outputs": [
    {
     "name": "stdout",
     "output_type": "stream",
     "text": [
      "Case 2:\n",
      "Log-normal\n"
     ]
    },
    {
     "data": {
      "text/html": [
       "<div>\n",
       "<style scoped>\n",
       "    .dataframe tbody tr th:only-of-type {\n",
       "        vertical-align: middle;\n",
       "    }\n",
       "\n",
       "    .dataframe tbody tr th {\n",
       "        vertical-align: top;\n",
       "    }\n",
       "\n",
       "    .dataframe thead th {\n",
       "        text-align: right;\n",
       "    }\n",
       "</style>\n",
       "<table border=\"1\" class=\"dataframe\">\n",
       "  <thead>\n",
       "    <tr style=\"text-align: right;\">\n",
       "      <th></th>\n",
       "      <th>strike=100</th>\n",
       "      <th>bias</th>\n",
       "      <th>time</th>\n",
       "      <th>strike=140</th>\n",
       "      <th>bias</th>\n",
       "      <th>time</th>\n",
       "      <th>strike=60</th>\n",
       "      <th>bias</th>\n",
       "      <th>time</th>\n",
       "    </tr>\n",
       "  </thead>\n",
       "  <tbody>\n",
       "    <tr>\n",
       "      <th>1000</th>\n",
       "      <td>19.303046</td>\n",
       "      <td>2.654046</td>\n",
       "      <td>0.010011</td>\n",
       "      <td>5.082724</td>\n",
       "      <td>-0.055276</td>\n",
       "      <td>0.008969</td>\n",
       "      <td>42.950157</td>\n",
       "      <td>-2.336843</td>\n",
       "      <td>0.010939</td>\n",
       "    </tr>\n",
       "    <tr>\n",
       "      <th>10000</th>\n",
       "      <td>17.391509</td>\n",
       "      <td>0.742509</td>\n",
       "      <td>0.092755</td>\n",
       "      <td>6.173253</td>\n",
       "      <td>1.035253</td>\n",
       "      <td>0.083817</td>\n",
       "      <td>45.258133</td>\n",
       "      <td>-0.028867</td>\n",
       "      <td>0.077799</td>\n",
       "    </tr>\n",
       "    <tr>\n",
       "      <th>100000</th>\n",
       "      <td>17.601679</td>\n",
       "      <td>0.952679</td>\n",
       "      <td>0.787840</td>\n",
       "      <td>6.206575</td>\n",
       "      <td>1.068575</td>\n",
       "      <td>0.778915</td>\n",
       "      <td>44.488728</td>\n",
       "      <td>-0.798272</td>\n",
       "      <td>0.765002</td>\n",
       "    </tr>\n",
       "    <tr>\n",
       "      <th>1000000</th>\n",
       "      <td>17.512151</td>\n",
       "      <td>0.863151</td>\n",
       "      <td>7.652531</td>\n",
       "      <td>6.212547</td>\n",
       "      <td>1.074547</td>\n",
       "      <td>7.699395</td>\n",
       "      <td>44.598532</td>\n",
       "      <td>-0.688468</td>\n",
       "      <td>7.687432</td>\n",
       "    </tr>\n",
       "  </tbody>\n",
       "</table>\n",
       "</div>"
      ],
      "text/plain": [
       "         strike=100      bias      time  strike=140      bias      time  \\\n",
       "1000      19.303046  2.654046  0.010011    5.082724 -0.055276  0.008969   \n",
       "10000     17.391509  0.742509  0.092755    6.173253  1.035253  0.083817   \n",
       "100000    17.601679  0.952679  0.787840    6.206575  1.068575  0.778915   \n",
       "1000000   17.512151  0.863151  7.652531    6.212547  1.074547  7.699395   \n",
       "\n",
       "         strike=60      bias      time  \n",
       "1000     42.950157 -2.336843  0.010939  \n",
       "10000    45.258133 -0.028867  0.077799  \n",
       "100000   44.488728 -0.798272  0.765002  \n",
       "1000000  44.598532 -0.688468  7.687432  "
      ]
     },
     "execution_count": 10,
     "metadata": {},
     "output_type": "execute_result"
    }
   ],
   "source": [
    "record = []\n",
    "for t in range(len(n_paths)):\n",
    "    temp = []\n",
    "    for d in range(len(strike)):\n",
    "        start = time.time()\n",
    "        price = hestonMCAe.price(strike[d], forward, texp, sigma, n_paths=n_paths[t], seed=SEED, dis_can=\"Log-normal\")\n",
    "        end = time.time()\n",
    "        temp.append(price)\n",
    "        temp.append(price - ref_price[i][d])\n",
    "        temp.append(end - start)\n",
    "    record.append(temp)\n",
    "\n",
    "print('Case %s:' % i)\n",
    "print(\"Log-normal\")\n",
    "pd.DataFrame(record, index=n_paths, columns=[\"strike=100\", \"bias\", \"time\", \"strike=140\", \"bias\", \"time\", \"strike=60\", \"bias\", \"time\"])"
   ]
  },
  {
   "cell_type": "markdown",
   "metadata": {},
   "source": [
    "<font color=black size=3 face=times>**Result references**: <br>\n",
    "von Sydow, L., Milovanović, S., Larsson, E., In't Hout, K., Wiktorsson, M., Oosterlee, C. W., ... & Waldén, J. (2019). BENCHOP–SLV: the BENCHmarking project in Option Pricing–Stochastic and Local Volatility problems. International Journal of Computer Mathematics, 96(10), 1910-1923."
   ]
  },
  {
   "cell_type": "code",
   "execution_count": 11,
   "metadata": {},
   "outputs": [],
   "source": [
    "# Sydow (2018)\n",
    "strike = 100\n",
    "forward = [75, 100, 125]\n",
    "\n",
    "case = np.zeros([1, 7])\n",
    "#case[i]=[vov, kappa, rho, texp, theta,   sigma,  r]\n",
    "case[0] = [1, 2.58, -0.36, 1, 0.043,  np.sqrt(0.114), 0]\n",
    "ref_price = np.array([[0.9085, 9.04665, 28.5147]])"
   ]
  },
  {
   "cell_type": "code",
   "execution_count": 12,
   "metadata": {},
   "outputs": [
    {
     "name": "stdout",
     "output_type": "stream",
     "text": [
      "Case 3:\n",
      "Inverse-Gaussian\n"
     ]
    },
    {
     "data": {
      "text/html": [
       "<div>\n",
       "<style scoped>\n",
       "    .dataframe tbody tr th:only-of-type {\n",
       "        vertical-align: middle;\n",
       "    }\n",
       "\n",
       "    .dataframe tbody tr th {\n",
       "        vertical-align: top;\n",
       "    }\n",
       "\n",
       "    .dataframe thead th {\n",
       "        text-align: right;\n",
       "    }\n",
       "</style>\n",
       "<table border=\"1\" class=\"dataframe\">\n",
       "  <thead>\n",
       "    <tr style=\"text-align: right;\">\n",
       "      <th></th>\n",
       "      <th>strike=100</th>\n",
       "      <th>bias</th>\n",
       "      <th>time</th>\n",
       "      <th>strike=140</th>\n",
       "      <th>bias</th>\n",
       "      <th>time</th>\n",
       "      <th>strike=60</th>\n",
       "      <th>bias</th>\n",
       "      <th>time</th>\n",
       "    </tr>\n",
       "  </thead>\n",
       "  <tbody>\n",
       "    <tr>\n",
       "      <th>1000</th>\n",
       "      <td>0.769965</td>\n",
       "      <td>-0.138535</td>\n",
       "      <td>0.010994</td>\n",
       "      <td>9.430426</td>\n",
       "      <td>0.383776</td>\n",
       "      <td>0.009989</td>\n",
       "      <td>27.047200</td>\n",
       "      <td>-1.467500</td>\n",
       "      <td>0.010930</td>\n",
       "    </tr>\n",
       "    <tr>\n",
       "      <th>10000</th>\n",
       "      <td>1.015057</td>\n",
       "      <td>0.106557</td>\n",
       "      <td>0.082826</td>\n",
       "      <td>9.044709</td>\n",
       "      <td>-0.001941</td>\n",
       "      <td>0.081734</td>\n",
       "      <td>28.624728</td>\n",
       "      <td>0.110028</td>\n",
       "      <td>0.078791</td>\n",
       "    </tr>\n",
       "    <tr>\n",
       "      <th>100000</th>\n",
       "      <td>0.896395</td>\n",
       "      <td>-0.012105</td>\n",
       "      <td>0.825789</td>\n",
       "      <td>9.072775</td>\n",
       "      <td>0.026125</td>\n",
       "      <td>0.785896</td>\n",
       "      <td>28.426997</td>\n",
       "      <td>-0.087703</td>\n",
       "      <td>0.785932</td>\n",
       "    </tr>\n",
       "    <tr>\n",
       "      <th>1000000</th>\n",
       "      <td>0.915127</td>\n",
       "      <td>0.006627</td>\n",
       "      <td>8.204066</td>\n",
       "      <td>9.077869</td>\n",
       "      <td>0.031219</td>\n",
       "      <td>8.254862</td>\n",
       "      <td>28.465505</td>\n",
       "      <td>-0.049195</td>\n",
       "      <td>8.351483</td>\n",
       "    </tr>\n",
       "  </tbody>\n",
       "</table>\n",
       "</div>"
      ],
      "text/plain": [
       "         strike=100      bias      time  strike=140      bias      time  \\\n",
       "1000       0.769965 -0.138535  0.010994    9.430426  0.383776  0.009989   \n",
       "10000      1.015057  0.106557  0.082826    9.044709 -0.001941  0.081734   \n",
       "100000     0.896395 -0.012105  0.825789    9.072775  0.026125  0.785896   \n",
       "1000000    0.915127  0.006627  8.204066    9.077869  0.031219  8.254862   \n",
       "\n",
       "         strike=60      bias      time  \n",
       "1000     27.047200 -1.467500  0.010930  \n",
       "10000    28.624728  0.110028  0.078791  \n",
       "100000   28.426997 -0.087703  0.785932  \n",
       "1000000  28.465505 -0.049195  8.351483  "
      ]
     },
     "execution_count": 12,
     "metadata": {},
     "output_type": "execute_result"
    }
   ],
   "source": [
    "## case 3\n",
    "i = 0\n",
    "\n",
    "## parameters setting\n",
    "vov ,kappa, rho, texp, theta, sigma, r = case[i]\n",
    "\n",
    "## Initiate a Heston model with method of almost exact method \n",
    "hestonMCAe = HestonMCAe(vov=vov, kappa=kappa, rho=rho, theta=theta, r=r)\n",
    "\n",
    "n_paths = [1000, 10000, 100000, 1000000]\n",
    "\n",
    "record = []\n",
    "for t in range(len(n_paths)):\n",
    "    temp = []\n",
    "    for d in range(len(forward)):\n",
    "        start = time.time()\n",
    "        price = hestonMCAe.price(strike, forward[d], texp, sigma, n_paths=n_paths[t], seed=SEED)\n",
    "        end = time.time()\n",
    "        temp.append(price)\n",
    "        temp.append(price - ref_price[i][d])\n",
    "        temp.append(end - start)\n",
    "    record.append(temp)\n",
    "\n",
    "print('Case %s:' % 3)\n",
    "print(\"Inverse-Gaussian\")\n",
    "pd.DataFrame(record, index=n_paths, columns=[\"strike=100\", \"bias\", \"time\", \"strike=140\", \"bias\", \"time\", \"strike=60\", \"bias\", \"time\"])"
   ]
  },
  {
   "cell_type": "code",
   "execution_count": 13,
   "metadata": {},
   "outputs": [
    {
     "name": "stdout",
     "output_type": "stream",
     "text": [
      "Case 3:\n",
      "Log-normal\n"
     ]
    },
    {
     "data": {
      "text/html": [
       "<div>\n",
       "<style scoped>\n",
       "    .dataframe tbody tr th:only-of-type {\n",
       "        vertical-align: middle;\n",
       "    }\n",
       "\n",
       "    .dataframe tbody tr th {\n",
       "        vertical-align: top;\n",
       "    }\n",
       "\n",
       "    .dataframe thead th {\n",
       "        text-align: right;\n",
       "    }\n",
       "</style>\n",
       "<table border=\"1\" class=\"dataframe\">\n",
       "  <thead>\n",
       "    <tr style=\"text-align: right;\">\n",
       "      <th></th>\n",
       "      <th>forward=75</th>\n",
       "      <th>bias</th>\n",
       "      <th>time</th>\n",
       "      <th>forward=100</th>\n",
       "      <th>bias</th>\n",
       "      <th>time</th>\n",
       "      <th>forward=125</th>\n",
       "      <th>bias</th>\n",
       "      <th>time</th>\n",
       "    </tr>\n",
       "  </thead>\n",
       "  <tbody>\n",
       "    <tr>\n",
       "      <th>1000</th>\n",
       "      <td>0.854213</td>\n",
       "      <td>-0.054287</td>\n",
       "      <td>0.008976</td>\n",
       "      <td>9.363613</td>\n",
       "      <td>0.316963</td>\n",
       "      <td>0.008976</td>\n",
       "      <td>27.067221</td>\n",
       "      <td>-1.447479</td>\n",
       "      <td>0.008976</td>\n",
       "    </tr>\n",
       "    <tr>\n",
       "      <th>10000</th>\n",
       "      <td>0.949932</td>\n",
       "      <td>0.041432</td>\n",
       "      <td>0.078790</td>\n",
       "      <td>8.815297</td>\n",
       "      <td>-0.231353</td>\n",
       "      <td>0.079787</td>\n",
       "      <td>28.190142</td>\n",
       "      <td>-0.324558</td>\n",
       "      <td>0.079834</td>\n",
       "    </tr>\n",
       "    <tr>\n",
       "      <th>100000</th>\n",
       "      <td>0.911167</td>\n",
       "      <td>0.002667</td>\n",
       "      <td>0.815768</td>\n",
       "      <td>9.157614</td>\n",
       "      <td>0.110964</td>\n",
       "      <td>0.787891</td>\n",
       "      <td>28.554321</td>\n",
       "      <td>0.039621</td>\n",
       "      <td>0.790886</td>\n",
       "    </tr>\n",
       "    <tr>\n",
       "      <th>1000000</th>\n",
       "      <td>0.921054</td>\n",
       "      <td>0.012554</td>\n",
       "      <td>8.179115</td>\n",
       "      <td>9.091783</td>\n",
       "      <td>0.045133</td>\n",
       "      <td>8.223049</td>\n",
       "      <td>28.422944</td>\n",
       "      <td>-0.091756</td>\n",
       "      <td>8.152135</td>\n",
       "    </tr>\n",
       "  </tbody>\n",
       "</table>\n",
       "</div>"
      ],
      "text/plain": [
       "         forward=75      bias      time  forward=100      bias      time  \\\n",
       "1000       0.854213 -0.054287  0.008976     9.363613  0.316963  0.008976   \n",
       "10000      0.949932  0.041432  0.078790     8.815297 -0.231353  0.079787   \n",
       "100000     0.911167  0.002667  0.815768     9.157614  0.110964  0.787891   \n",
       "1000000    0.921054  0.012554  8.179115     9.091783  0.045133  8.223049   \n",
       "\n",
       "         forward=125      bias      time  \n",
       "1000       27.067221 -1.447479  0.008976  \n",
       "10000      28.190142 -0.324558  0.079834  \n",
       "100000     28.554321  0.039621  0.790886  \n",
       "1000000    28.422944 -0.091756  8.152135  "
      ]
     },
     "execution_count": 13,
     "metadata": {},
     "output_type": "execute_result"
    }
   ],
   "source": [
    "record = []\n",
    "for t in range(len(n_paths)):\n",
    "    temp = []\n",
    "    for d in range(len(forward)):\n",
    "        start = time.time()\n",
    "        price = hestonMCAe.price(strike, forward[d], texp, sigma, n_paths=n_paths[t], seed=SEED, dis_can=\"Log-normal\")\n",
    "        end = time.time()\n",
    "        temp.append(price)\n",
    "        temp.append(price - ref_price[i][d])\n",
    "        temp.append(end - start)\n",
    "    record.append(temp)\n",
    "\n",
    "print('Case %s:' % 3)\n",
    "print(\"Log-normal\")\n",
    "pd.DataFrame(record, index=n_paths, columns=[\"forward=75\", \"bias\", \"time\", \"forward=100\", \"bias\", \"time\", \"forward=125\", \"bias\", \"time\"])"
   ]
  },
  {
   "cell_type": "markdown",
   "metadata": {},
   "source": [
    "<font color=black size=3 face=times>**Result references**: <br>\n",
    "Glasserman, P., & Kim, K. K. (2011). Gamma expansion of the Heston stochastic volatility model. Finance and Stochastics, 15(2), 267-296."
   ]
  },
  {
   "cell_type": "code",
   "execution_count": 14,
   "metadata": {},
   "outputs": [],
   "source": [
    "# Glasserman (2011)\n",
    "strike = 100\n",
    "forward = 100\n",
    "\n",
    "case = np.zeros([4, 7])\n",
    "#case[i]=[vov, kappa, rho, texp, theta,   sigma,  r]\n",
    "case[0] = [1, 0.5, -0.9, 1, 0.04,  np.sqrt(0.04), 0]\n",
    "case[1] = [0.9, 0.3, -0.5, 5, 0.04,  np.sqrt(0.04), 0]\n",
    "case[2] = [1, 1, -0.3, 5, 0.09,  np.sqrt(0.09), 0]\n",
    "case[3] = [0.6, 6.2, -0.7, 1, 0.02,  np.sqrt(0.02), 0]\n",
    "ref_price = np.array([6.7304, 7.0972, 11.3743, 7.02])"
   ]
  },
  {
   "cell_type": "code",
   "execution_count": 15,
   "metadata": {},
   "outputs": [
    {
     "name": "stdout",
     "output_type": "stream",
     "text": [
      "Case 4:\n",
      "Inverse-Gaussian\n"
     ]
    },
    {
     "data": {
      "text/html": [
       "<div>\n",
       "<style scoped>\n",
       "    .dataframe tbody tr th:only-of-type {\n",
       "        vertical-align: middle;\n",
       "    }\n",
       "\n",
       "    .dataframe tbody tr th {\n",
       "        vertical-align: top;\n",
       "    }\n",
       "\n",
       "    .dataframe thead th {\n",
       "        text-align: right;\n",
       "    }\n",
       "</style>\n",
       "<table border=\"1\" class=\"dataframe\">\n",
       "  <thead>\n",
       "    <tr style=\"text-align: right;\">\n",
       "      <th></th>\n",
       "      <th>strike=100</th>\n",
       "      <th>bias</th>\n",
       "      <th>time</th>\n",
       "    </tr>\n",
       "  </thead>\n",
       "  <tbody>\n",
       "    <tr>\n",
       "      <th>1000</th>\n",
       "      <td>4.409845</td>\n",
       "      <td>-2.320555</td>\n",
       "      <td>0.008992</td>\n",
       "    </tr>\n",
       "    <tr>\n",
       "      <th>10000</th>\n",
       "      <td>4.401339</td>\n",
       "      <td>-2.329061</td>\n",
       "      <td>0.076778</td>\n",
       "    </tr>\n",
       "    <tr>\n",
       "      <th>100000</th>\n",
       "      <td>4.374290</td>\n",
       "      <td>-2.356110</td>\n",
       "      <td>0.791898</td>\n",
       "    </tr>\n",
       "    <tr>\n",
       "      <th>1000000</th>\n",
       "      <td>4.389493</td>\n",
       "      <td>-2.340907</td>\n",
       "      <td>7.810088</td>\n",
       "    </tr>\n",
       "  </tbody>\n",
       "</table>\n",
       "</div>"
      ],
      "text/plain": [
       "         strike=100      bias      time\n",
       "1000       4.409845 -2.320555  0.008992\n",
       "10000      4.401339 -2.329061  0.076778\n",
       "100000     4.374290 -2.356110  0.791898\n",
       "1000000    4.389493 -2.340907  7.810088"
      ]
     },
     "execution_count": 15,
     "metadata": {},
     "output_type": "execute_result"
    }
   ],
   "source": [
    "## case 4\n",
    "i = 0\n",
    "\n",
    "## parameters setting\n",
    "vov ,kappa, rho, texp, theta, sigma, r = case[i]\n",
    "\n",
    "## Initiate a Heston model with method of almost exact method \n",
    "hestonMCAe = HestonMCAe(vov=vov, kappa=kappa, rho=rho, theta=theta, r=r)\n",
    "\n",
    "n_paths = [1000, 10000, 100000, 1000000]\n",
    "\n",
    "record = []\n",
    "for t in range(len(n_paths)):\n",
    "    temp = []\n",
    "    start = time.time()\n",
    "    price = hestonMCAe.price(strike, forward, texp, sigma, n_paths=n_paths[t], seed=SEED)\n",
    "    end = time.time()\n",
    "    temp.append(price)\n",
    "    temp.append(price - ref_price[i])\n",
    "    temp.append(end - start)\n",
    "    record.append(temp)\n",
    "\n",
    "print('Case %s:' % 4)\n",
    "print(\"Inverse-Gaussian\")\n",
    "pd.DataFrame(record, index=n_paths, columns=[\"strike=100\", \"bias\", \"time\"])"
   ]
  },
  {
   "cell_type": "code",
   "execution_count": 16,
   "metadata": {},
   "outputs": [
    {
     "name": "stdout",
     "output_type": "stream",
     "text": [
      "Case 4:\n",
      "Log-normal\n"
     ]
    },
    {
     "data": {
      "text/html": [
       "<div>\n",
       "<style scoped>\n",
       "    .dataframe tbody tr th:only-of-type {\n",
       "        vertical-align: middle;\n",
       "    }\n",
       "\n",
       "    .dataframe tbody tr th {\n",
       "        vertical-align: top;\n",
       "    }\n",
       "\n",
       "    .dataframe thead th {\n",
       "        text-align: right;\n",
       "    }\n",
       "</style>\n",
       "<table border=\"1\" class=\"dataframe\">\n",
       "  <thead>\n",
       "    <tr style=\"text-align: right;\">\n",
       "      <th></th>\n",
       "      <th>strike=100</th>\n",
       "      <th>bias</th>\n",
       "      <th>time</th>\n",
       "    </tr>\n",
       "  </thead>\n",
       "  <tbody>\n",
       "    <tr>\n",
       "      <th>1000</th>\n",
       "      <td>4.605171</td>\n",
       "      <td>-2.125229</td>\n",
       "      <td>0.008943</td>\n",
       "    </tr>\n",
       "    <tr>\n",
       "      <th>10000</th>\n",
       "      <td>4.434442</td>\n",
       "      <td>-2.295958</td>\n",
       "      <td>0.076794</td>\n",
       "    </tr>\n",
       "    <tr>\n",
       "      <th>100000</th>\n",
       "      <td>4.355311</td>\n",
       "      <td>-2.375089</td>\n",
       "      <td>0.787944</td>\n",
       "    </tr>\n",
       "    <tr>\n",
       "      <th>1000000</th>\n",
       "      <td>4.378548</td>\n",
       "      <td>-2.351852</td>\n",
       "      <td>7.828002</td>\n",
       "    </tr>\n",
       "  </tbody>\n",
       "</table>\n",
       "</div>"
      ],
      "text/plain": [
       "         strike=100      bias      time\n",
       "1000       4.605171 -2.125229  0.008943\n",
       "10000      4.434442 -2.295958  0.076794\n",
       "100000     4.355311 -2.375089  0.787944\n",
       "1000000    4.378548 -2.351852  7.828002"
      ]
     },
     "execution_count": 16,
     "metadata": {},
     "output_type": "execute_result"
    }
   ],
   "source": [
    "record = []\n",
    "for t in range(len(n_paths)):\n",
    "    temp = []\n",
    "    start = time.time()\n",
    "    price = hestonMCAe.price(strike, forward, texp, sigma, n_paths=n_paths[t], seed=SEED, dis_can=\"Log-normal\")\n",
    "    end = time.time()\n",
    "    temp.append(price)\n",
    "    temp.append(price - ref_price[i])\n",
    "    temp.append(end - start)\n",
    "    record.append(temp)\n",
    "\n",
    "print('Case %s:' % 4)\n",
    "print(\"Log-normal\")\n",
    "pd.DataFrame(record, index=n_paths, columns=[\"strike=100\", \"bias\", \"time\"])"
   ]
  },
  {
   "cell_type": "code",
   "execution_count": 17,
   "metadata": {},
   "outputs": [
    {
     "name": "stdout",
     "output_type": "stream",
     "text": [
      "Case 5:\n",
      "Inverse-Gaussian\n"
     ]
    },
    {
     "data": {
      "text/html": [
       "<div>\n",
       "<style scoped>\n",
       "    .dataframe tbody tr th:only-of-type {\n",
       "        vertical-align: middle;\n",
       "    }\n",
       "\n",
       "    .dataframe tbody tr th {\n",
       "        vertical-align: top;\n",
       "    }\n",
       "\n",
       "    .dataframe thead th {\n",
       "        text-align: right;\n",
       "    }\n",
       "</style>\n",
       "<table border=\"1\" class=\"dataframe\">\n",
       "  <thead>\n",
       "    <tr style=\"text-align: right;\">\n",
       "      <th></th>\n",
       "      <th>strike=100</th>\n",
       "      <th>bias</th>\n",
       "      <th>time</th>\n",
       "    </tr>\n",
       "  </thead>\n",
       "  <tbody>\n",
       "    <tr>\n",
       "      <th>1000</th>\n",
       "      <td>9.032022</td>\n",
       "      <td>1.934822</td>\n",
       "      <td>0.009019</td>\n",
       "    </tr>\n",
       "    <tr>\n",
       "      <th>10000</th>\n",
       "      <td>9.225507</td>\n",
       "      <td>2.128307</td>\n",
       "      <td>0.074758</td>\n",
       "    </tr>\n",
       "    <tr>\n",
       "      <th>100000</th>\n",
       "      <td>9.502715</td>\n",
       "      <td>2.405515</td>\n",
       "      <td>0.751040</td>\n",
       "    </tr>\n",
       "    <tr>\n",
       "      <th>1000000</th>\n",
       "      <td>9.524453</td>\n",
       "      <td>2.427253</td>\n",
       "      <td>7.728321</td>\n",
       "    </tr>\n",
       "  </tbody>\n",
       "</table>\n",
       "</div>"
      ],
      "text/plain": [
       "         strike=100      bias      time\n",
       "1000       9.032022  1.934822  0.009019\n",
       "10000      9.225507  2.128307  0.074758\n",
       "100000     9.502715  2.405515  0.751040\n",
       "1000000    9.524453  2.427253  7.728321"
      ]
     },
     "execution_count": 17,
     "metadata": {},
     "output_type": "execute_result"
    }
   ],
   "source": [
    "## case 5\n",
    "i = 1\n",
    "\n",
    "## parameters setting\n",
    "vov ,kappa, rho, texp, theta, sigma, r = case[i]\n",
    "\n",
    "## Initiate a Heston model with method of almost exact method \n",
    "hestonMCAe = HestonMCAe(vov=vov, kappa=kappa, rho=rho, theta=theta, r=r)\n",
    "\n",
    "n_paths = [1000, 10000, 100000, 1000000]\n",
    "\n",
    "record = []\n",
    "for t in range(len(n_paths)):\n",
    "    temp = []\n",
    "    start = time.time()\n",
    "    price = hestonMCAe.price(strike, forward, texp, sigma, n_paths=n_paths[t], seed=SEED)\n",
    "    end = time.time()\n",
    "    temp.append(price)\n",
    "    temp.append(price - ref_price[i])\n",
    "    temp.append(end - start)\n",
    "    record.append(temp)\n",
    "\n",
    "print('Case %s:' % 5)\n",
    "print(\"Inverse-Gaussian\")\n",
    "pd.DataFrame(record, index=n_paths, columns=[\"strike=100\", \"bias\", \"time\"])"
   ]
  },
  {
   "cell_type": "code",
   "execution_count": 18,
   "metadata": {},
   "outputs": [
    {
     "name": "stdout",
     "output_type": "stream",
     "text": [
      "Case 5:\n",
      "Log-normal\n"
     ]
    },
    {
     "data": {
      "text/html": [
       "<div>\n",
       "<style scoped>\n",
       "    .dataframe tbody tr th:only-of-type {\n",
       "        vertical-align: middle;\n",
       "    }\n",
       "\n",
       "    .dataframe tbody tr th {\n",
       "        vertical-align: top;\n",
       "    }\n",
       "\n",
       "    .dataframe thead th {\n",
       "        text-align: right;\n",
       "    }\n",
       "</style>\n",
       "<table border=\"1\" class=\"dataframe\">\n",
       "  <thead>\n",
       "    <tr style=\"text-align: right;\">\n",
       "      <th></th>\n",
       "      <th>strike=100</th>\n",
       "      <th>bias</th>\n",
       "      <th>time</th>\n",
       "    </tr>\n",
       "  </thead>\n",
       "  <tbody>\n",
       "    <tr>\n",
       "      <th>1000</th>\n",
       "      <td>9.711442</td>\n",
       "      <td>2.614242</td>\n",
       "      <td>0.009945</td>\n",
       "    </tr>\n",
       "    <tr>\n",
       "      <th>10000</th>\n",
       "      <td>10.331991</td>\n",
       "      <td>3.234791</td>\n",
       "      <td>0.074845</td>\n",
       "    </tr>\n",
       "    <tr>\n",
       "      <th>100000</th>\n",
       "      <td>10.151070</td>\n",
       "      <td>3.053870</td>\n",
       "      <td>0.745999</td>\n",
       "    </tr>\n",
       "    <tr>\n",
       "      <th>1000000</th>\n",
       "      <td>10.131437</td>\n",
       "      <td>3.034237</td>\n",
       "      <td>7.497144</td>\n",
       "    </tr>\n",
       "  </tbody>\n",
       "</table>\n",
       "</div>"
      ],
      "text/plain": [
       "         strike=100      bias      time\n",
       "1000       9.711442  2.614242  0.009945\n",
       "10000     10.331991  3.234791  0.074845\n",
       "100000    10.151070  3.053870  0.745999\n",
       "1000000   10.131437  3.034237  7.497144"
      ]
     },
     "execution_count": 18,
     "metadata": {},
     "output_type": "execute_result"
    }
   ],
   "source": [
    "record = []\n",
    "for t in range(len(n_paths)):\n",
    "    temp = []\n",
    "    start = time.time()\n",
    "    price = hestonMCAe.price(strike, forward, texp, sigma, n_paths=n_paths[t], seed=SEED, dis_can=\"Log-normal\")\n",
    "    end = time.time()\n",
    "    temp.append(price)\n",
    "    temp.append(price - ref_price[i])\n",
    "    temp.append(end - start)\n",
    "    record.append(temp)\n",
    "\n",
    "print('Case %s:' % 5)\n",
    "print(\"Log-normal\")\n",
    "pd.DataFrame(record, index=n_paths, columns=[\"strike=100\", \"bias\", \"time\"])"
   ]
  },
  {
   "cell_type": "code",
   "execution_count": 19,
   "metadata": {},
   "outputs": [
    {
     "name": "stdout",
     "output_type": "stream",
     "text": [
      "Case 6:\n",
      "Inverse-Gaussian\n"
     ]
    },
    {
     "data": {
      "text/html": [
       "<div>\n",
       "<style scoped>\n",
       "    .dataframe tbody tr th:only-of-type {\n",
       "        vertical-align: middle;\n",
       "    }\n",
       "\n",
       "    .dataframe tbody tr th {\n",
       "        vertical-align: top;\n",
       "    }\n",
       "\n",
       "    .dataframe thead th {\n",
       "        text-align: right;\n",
       "    }\n",
       "</style>\n",
       "<table border=\"1\" class=\"dataframe\">\n",
       "  <thead>\n",
       "    <tr style=\"text-align: right;\">\n",
       "      <th></th>\n",
       "      <th>strike=100</th>\n",
       "      <th>bias</th>\n",
       "      <th>time</th>\n",
       "    </tr>\n",
       "  </thead>\n",
       "  <tbody>\n",
       "    <tr>\n",
       "      <th>1000</th>\n",
       "      <td>23.806224</td>\n",
       "      <td>12.431924</td>\n",
       "      <td>0.009941</td>\n",
       "    </tr>\n",
       "    <tr>\n",
       "      <th>10000</th>\n",
       "      <td>22.186497</td>\n",
       "      <td>10.812197</td>\n",
       "      <td>0.076794</td>\n",
       "    </tr>\n",
       "    <tr>\n",
       "      <th>100000</th>\n",
       "      <td>21.954284</td>\n",
       "      <td>10.579984</td>\n",
       "      <td>0.753984</td>\n",
       "    </tr>\n",
       "    <tr>\n",
       "      <th>1000000</th>\n",
       "      <td>21.884391</td>\n",
       "      <td>10.510091</td>\n",
       "      <td>7.820075</td>\n",
       "    </tr>\n",
       "  </tbody>\n",
       "</table>\n",
       "</div>"
      ],
      "text/plain": [
       "         strike=100       bias      time\n",
       "1000      23.806224  12.431924  0.009941\n",
       "10000     22.186497  10.812197  0.076794\n",
       "100000    21.954284  10.579984  0.753984\n",
       "1000000   21.884391  10.510091  7.820075"
      ]
     },
     "execution_count": 19,
     "metadata": {},
     "output_type": "execute_result"
    }
   ],
   "source": [
    "## case 6\n",
    "i = 2\n",
    "\n",
    "## parameters setting\n",
    "vov ,kappa, rho, texp, theta, sigma, r = case[i]\n",
    "\n",
    "## Initiate a Heston model with method of almost exact method \n",
    "hestonMCAe = HestonMCAe(vov=vov, kappa=kappa, rho=rho, theta=theta, r=r)\n",
    "\n",
    "n_paths = [1000, 10000, 100000, 1000000]\n",
    "\n",
    "record = []\n",
    "for t in range(len(n_paths)):\n",
    "    temp = []\n",
    "    start = time.time()\n",
    "    price = hestonMCAe.price(strike, forward, texp, sigma, n_paths=n_paths[t], seed=SEED)\n",
    "    end = time.time()\n",
    "    temp.append(price)\n",
    "    temp.append(price - ref_price[i])\n",
    "    temp.append(end - start)\n",
    "    record.append(temp)\n",
    "\n",
    "print('Case %s:' % 6)\n",
    "print(\"Inverse-Gaussian\")\n",
    "pd.DataFrame(record, index=n_paths, columns=[\"strike=100\", \"bias\", \"time\"])"
   ]
  },
  {
   "cell_type": "code",
   "execution_count": 20,
   "metadata": {},
   "outputs": [
    {
     "name": "stdout",
     "output_type": "stream",
     "text": [
      "Case 6:\n",
      "Log-normal\n"
     ]
    },
    {
     "data": {
      "text/html": [
       "<div>\n",
       "<style scoped>\n",
       "    .dataframe tbody tr th:only-of-type {\n",
       "        vertical-align: middle;\n",
       "    }\n",
       "\n",
       "    .dataframe tbody tr th {\n",
       "        vertical-align: top;\n",
       "    }\n",
       "\n",
       "    .dataframe thead th {\n",
       "        text-align: right;\n",
       "    }\n",
       "</style>\n",
       "<table border=\"1\" class=\"dataframe\">\n",
       "  <thead>\n",
       "    <tr style=\"text-align: right;\">\n",
       "      <th></th>\n",
       "      <th>strike=100</th>\n",
       "      <th>bias</th>\n",
       "      <th>time</th>\n",
       "    </tr>\n",
       "  </thead>\n",
       "  <tbody>\n",
       "    <tr>\n",
       "      <th>1000</th>\n",
       "      <td>20.310864</td>\n",
       "      <td>8.936564</td>\n",
       "      <td>0.008976</td>\n",
       "    </tr>\n",
       "    <tr>\n",
       "      <th>10000</th>\n",
       "      <td>21.528103</td>\n",
       "      <td>10.153803</td>\n",
       "      <td>0.075798</td>\n",
       "    </tr>\n",
       "    <tr>\n",
       "      <th>100000</th>\n",
       "      <td>22.274330</td>\n",
       "      <td>10.900030</td>\n",
       "      <td>0.786945</td>\n",
       "    </tr>\n",
       "    <tr>\n",
       "      <th>1000000</th>\n",
       "      <td>21.901326</td>\n",
       "      <td>10.527026</td>\n",
       "      <td>7.907792</td>\n",
       "    </tr>\n",
       "  </tbody>\n",
       "</table>\n",
       "</div>"
      ],
      "text/plain": [
       "         strike=100       bias      time\n",
       "1000      20.310864   8.936564  0.008976\n",
       "10000     21.528103  10.153803  0.075798\n",
       "100000    22.274330  10.900030  0.786945\n",
       "1000000   21.901326  10.527026  7.907792"
      ]
     },
     "execution_count": 20,
     "metadata": {},
     "output_type": "execute_result"
    }
   ],
   "source": [
    "record = []\n",
    "for t in range(len(n_paths)):\n",
    "    temp = []\n",
    "    start = time.time()\n",
    "    price = hestonMCAe.price(strike, forward, texp, sigma, n_paths=n_paths[t], seed=SEED, dis_can=\"Log-normal\")\n",
    "    end = time.time()\n",
    "    temp.append(price)\n",
    "    temp.append(price - ref_price[i])\n",
    "    temp.append(end - start)\n",
    "    record.append(temp)\n",
    "\n",
    "print('Case %s:' % 6)\n",
    "print(\"Log-normal\")\n",
    "pd.DataFrame(record, index=n_paths, columns=[\"strike=100\", \"bias\", \"time\"])"
   ]
  },
  {
   "cell_type": "code",
   "execution_count": 21,
   "metadata": {},
   "outputs": [
    {
     "name": "stdout",
     "output_type": "stream",
     "text": [
      "Case 7:\n",
      "Inverse-Gaussian\n"
     ]
    },
    {
     "data": {
      "text/html": [
       "<div>\n",
       "<style scoped>\n",
       "    .dataframe tbody tr th:only-of-type {\n",
       "        vertical-align: middle;\n",
       "    }\n",
       "\n",
       "    .dataframe tbody tr th {\n",
       "        vertical-align: top;\n",
       "    }\n",
       "\n",
       "    .dataframe thead th {\n",
       "        text-align: right;\n",
       "    }\n",
       "</style>\n",
       "<table border=\"1\" class=\"dataframe\">\n",
       "  <thead>\n",
       "    <tr style=\"text-align: right;\">\n",
       "      <th></th>\n",
       "      <th>strike=100</th>\n",
       "      <th>bias</th>\n",
       "      <th>time</th>\n",
       "    </tr>\n",
       "  </thead>\n",
       "  <tbody>\n",
       "    <tr>\n",
       "      <th>1000</th>\n",
       "      <td>5.376130</td>\n",
       "      <td>-1.643870</td>\n",
       "      <td>0.008943</td>\n",
       "    </tr>\n",
       "    <tr>\n",
       "      <th>10000</th>\n",
       "      <td>5.217551</td>\n",
       "      <td>-1.802449</td>\n",
       "      <td>0.076844</td>\n",
       "    </tr>\n",
       "    <tr>\n",
       "      <th>100000</th>\n",
       "      <td>5.335934</td>\n",
       "      <td>-1.684066</td>\n",
       "      <td>0.754930</td>\n",
       "    </tr>\n",
       "    <tr>\n",
       "      <th>1000000</th>\n",
       "      <td>5.317289</td>\n",
       "      <td>-1.702711</td>\n",
       "      <td>7.939806</td>\n",
       "    </tr>\n",
       "  </tbody>\n",
       "</table>\n",
       "</div>"
      ],
      "text/plain": [
       "         strike=100      bias      time\n",
       "1000       5.376130 -1.643870  0.008943\n",
       "10000      5.217551 -1.802449  0.076844\n",
       "100000     5.335934 -1.684066  0.754930\n",
       "1000000    5.317289 -1.702711  7.939806"
      ]
     },
     "execution_count": 21,
     "metadata": {},
     "output_type": "execute_result"
    }
   ],
   "source": [
    "## case 7\n",
    "i = 3\n",
    "\n",
    "## parameters setting\n",
    "vov ,kappa, rho, texp, theta, sigma, r = case[i]\n",
    "\n",
    "## Initiate a Heston model with method of almost exact method \n",
    "hestonMCAe = HestonMCAe(vov=vov, kappa=kappa, rho=rho, theta=theta, r=r)\n",
    "\n",
    "n_paths = [1000, 10000, 100000, 1000000]\n",
    "\n",
    "record = []\n",
    "for t in range(len(n_paths)):\n",
    "    temp = []\n",
    "    start = time.time()\n",
    "    price = hestonMCAe.price(strike, forward, texp, sigma, n_paths=n_paths[t], seed=SEED)\n",
    "    end = time.time()\n",
    "    temp.append(price)\n",
    "    temp.append(price - ref_price[i])\n",
    "    temp.append(end - start)\n",
    "    record.append(temp)\n",
    "\n",
    "print('Case %s:' % 7)\n",
    "print(\"Inverse-Gaussian\")\n",
    "pd.DataFrame(record, index=n_paths, columns=[\"strike=100\", \"bias\", \"time\"])"
   ]
  },
  {
   "cell_type": "code",
   "execution_count": 22,
   "metadata": {},
   "outputs": [
    {
     "name": "stdout",
     "output_type": "stream",
     "text": [
      "Case 7:\n",
      "Log-normal\n"
     ]
    },
    {
     "data": {
      "text/html": [
       "<div>\n",
       "<style scoped>\n",
       "    .dataframe tbody tr th:only-of-type {\n",
       "        vertical-align: middle;\n",
       "    }\n",
       "\n",
       "    .dataframe tbody tr th {\n",
       "        vertical-align: top;\n",
       "    }\n",
       "\n",
       "    .dataframe thead th {\n",
       "        text-align: right;\n",
       "    }\n",
       "</style>\n",
       "<table border=\"1\" class=\"dataframe\">\n",
       "  <thead>\n",
       "    <tr style=\"text-align: right;\">\n",
       "      <th></th>\n",
       "      <th>strike=100</th>\n",
       "      <th>bias</th>\n",
       "      <th>time</th>\n",
       "    </tr>\n",
       "  </thead>\n",
       "  <tbody>\n",
       "    <tr>\n",
       "      <th>1000</th>\n",
       "      <td>5.473129</td>\n",
       "      <td>-1.546871</td>\n",
       "      <td>0.008942</td>\n",
       "    </tr>\n",
       "    <tr>\n",
       "      <th>10000</th>\n",
       "      <td>5.267439</td>\n",
       "      <td>-1.752561</td>\n",
       "      <td>0.075796</td>\n",
       "    </tr>\n",
       "    <tr>\n",
       "      <th>100000</th>\n",
       "      <td>5.308038</td>\n",
       "      <td>-1.711962</td>\n",
       "      <td>0.778947</td>\n",
       "    </tr>\n",
       "    <tr>\n",
       "      <th>1000000</th>\n",
       "      <td>5.295495</td>\n",
       "      <td>-1.724505</td>\n",
       "      <td>7.853954</td>\n",
       "    </tr>\n",
       "  </tbody>\n",
       "</table>\n",
       "</div>"
      ],
      "text/plain": [
       "         strike=100      bias      time\n",
       "1000       5.473129 -1.546871  0.008942\n",
       "10000      5.267439 -1.752561  0.075796\n",
       "100000     5.308038 -1.711962  0.778947\n",
       "1000000    5.295495 -1.724505  7.853954"
      ]
     },
     "execution_count": 22,
     "metadata": {},
     "output_type": "execute_result"
    }
   ],
   "source": [
    "record = []\n",
    "for t in range(len(n_paths)):\n",
    "    temp = []\n",
    "    start = time.time()\n",
    "    price = hestonMCAe.price(strike, forward, texp, sigma, n_paths=n_paths[t], seed=SEED, dis_can=\"Log-normal\")\n",
    "    end = time.time()\n",
    "    temp.append(price)\n",
    "    temp.append(price - ref_price[i])\n",
    "    temp.append(end - start)\n",
    "    record.append(temp)\n",
    "\n",
    "print('Case %s:' % 7)\n",
    "print(\"Log-normal\")\n",
    "pd.DataFrame(record, index=n_paths, columns=[\"strike=100\", \"bias\", \"time\"])"
   ]
  },
  {
   "cell_type": "markdown",
   "metadata": {},
   "source": [
    "<font color=black size=3 face=times>**Result references**: <br>\n",
    "Broadie, M., & Kaya, Ö. (2006). Exact simulation of stochastic volatility and other affine jump diffusion processes. Operations research, 54(2), 217-231."
   ]
  },
  {
   "cell_type": "code",
   "execution_count": 23,
   "metadata": {},
   "outputs": [],
   "source": [
    "# Broadie (2006)\n",
    "strike = 100\n",
    "forward = 100\n",
    "\n",
    "case = np.zeros([2, 7])\n",
    "#case[i]=[vov, kappa, rho, texp, theta,   sigma,  r]\n",
    "case[0] = [0.61, 6.21, -0.7, 1, 0.019,  np.sqrt(0.010201), 0.0319]\n",
    "case[1] = [2.00, 2.0, -0.3, 5, 0.09,  np.sqrt(0.09), 0.05]\n",
    "ref_price = np.array([6.8061, 34.9998])"
   ]
  },
  {
   "cell_type": "code",
   "execution_count": 24,
   "metadata": {},
   "outputs": [
    {
     "name": "stdout",
     "output_type": "stream",
     "text": [
      "Case 8:\n",
      "Inverse-Gaussian\n"
     ]
    },
    {
     "data": {
      "text/html": [
       "<div>\n",
       "<style scoped>\n",
       "    .dataframe tbody tr th:only-of-type {\n",
       "        vertical-align: middle;\n",
       "    }\n",
       "\n",
       "    .dataframe tbody tr th {\n",
       "        vertical-align: top;\n",
       "    }\n",
       "\n",
       "    .dataframe thead th {\n",
       "        text-align: right;\n",
       "    }\n",
       "</style>\n",
       "<table border=\"1\" class=\"dataframe\">\n",
       "  <thead>\n",
       "    <tr style=\"text-align: right;\">\n",
       "      <th></th>\n",
       "      <th>strike=100</th>\n",
       "      <th>bias</th>\n",
       "      <th>time</th>\n",
       "    </tr>\n",
       "  </thead>\n",
       "  <tbody>\n",
       "    <tr>\n",
       "      <th>1000</th>\n",
       "      <td>6.900602</td>\n",
       "      <td>0.094502</td>\n",
       "      <td>0.008941</td>\n",
       "    </tr>\n",
       "    <tr>\n",
       "      <th>10000</th>\n",
       "      <td>6.727027</td>\n",
       "      <td>-0.079073</td>\n",
       "      <td>0.076794</td>\n",
       "    </tr>\n",
       "    <tr>\n",
       "      <th>100000</th>\n",
       "      <td>6.786849</td>\n",
       "      <td>-0.019251</td>\n",
       "      <td>0.776922</td>\n",
       "    </tr>\n",
       "    <tr>\n",
       "      <th>1000000</th>\n",
       "      <td>6.795770</td>\n",
       "      <td>-0.010330</td>\n",
       "      <td>7.951771</td>\n",
       "    </tr>\n",
       "  </tbody>\n",
       "</table>\n",
       "</div>"
      ],
      "text/plain": [
       "         strike=100      bias      time\n",
       "1000       6.900602  0.094502  0.008941\n",
       "10000      6.727027 -0.079073  0.076794\n",
       "100000     6.786849 -0.019251  0.776922\n",
       "1000000    6.795770 -0.010330  7.951771"
      ]
     },
     "execution_count": 24,
     "metadata": {},
     "output_type": "execute_result"
    }
   ],
   "source": [
    "## case 8\n",
    "i = 0\n",
    "\n",
    "## parameters setting\n",
    "vov ,kappa, rho, texp, theta, sigma, r = case[i]\n",
    "\n",
    "## Initiate a Heston model with method of almost exact method \n",
    "hestonMCAe = HestonMCAe(vov=vov, kappa=kappa, rho=rho, theta=theta, r=r)\n",
    "\n",
    "n_paths = [1000, 10000, 100000, 1000000]\n",
    "\n",
    "record = []\n",
    "for t in range(len(n_paths)):\n",
    "    temp = []\n",
    "    start = time.time()\n",
    "    price = hestonMCAe.price(strike, forward, texp, sigma, n_paths=n_paths[t], seed=SEED)\n",
    "    end = time.time()\n",
    "    temp.append(price)\n",
    "    temp.append(price - ref_price[i])\n",
    "    temp.append(end - start)\n",
    "    record.append(temp)\n",
    "\n",
    "print('Case %s:' % 8)\n",
    "print(\"Inverse-Gaussian\")\n",
    "pd.DataFrame(record, index=n_paths, columns=[\"strike=100\", \"bias\", \"time\"])"
   ]
  },
  {
   "cell_type": "code",
   "execution_count": 25,
   "metadata": {},
   "outputs": [
    {
     "name": "stdout",
     "output_type": "stream",
     "text": [
      "Case 8:\n",
      "Log-normal\n"
     ]
    },
    {
     "data": {
      "text/html": [
       "<div>\n",
       "<style scoped>\n",
       "    .dataframe tbody tr th:only-of-type {\n",
       "        vertical-align: middle;\n",
       "    }\n",
       "\n",
       "    .dataframe tbody tr th {\n",
       "        vertical-align: top;\n",
       "    }\n",
       "\n",
       "    .dataframe thead th {\n",
       "        text-align: right;\n",
       "    }\n",
       "</style>\n",
       "<table border=\"1\" class=\"dataframe\">\n",
       "  <thead>\n",
       "    <tr style=\"text-align: right;\">\n",
       "      <th></th>\n",
       "      <th>strike=100</th>\n",
       "      <th>bias</th>\n",
       "      <th>time</th>\n",
       "    </tr>\n",
       "  </thead>\n",
       "  <tbody>\n",
       "    <tr>\n",
       "      <th>1000</th>\n",
       "      <td>6.753698</td>\n",
       "      <td>-0.052402</td>\n",
       "      <td>0.007993</td>\n",
       "    </tr>\n",
       "    <tr>\n",
       "      <th>10000</th>\n",
       "      <td>6.685872</td>\n",
       "      <td>-0.120228</td>\n",
       "      <td>0.075748</td>\n",
       "    </tr>\n",
       "    <tr>\n",
       "      <th>100000</th>\n",
       "      <td>6.772065</td>\n",
       "      <td>-0.034035</td>\n",
       "      <td>0.761961</td>\n",
       "    </tr>\n",
       "    <tr>\n",
       "      <th>1000000</th>\n",
       "      <td>6.780137</td>\n",
       "      <td>-0.025963</td>\n",
       "      <td>7.749267</td>\n",
       "    </tr>\n",
       "  </tbody>\n",
       "</table>\n",
       "</div>"
      ],
      "text/plain": [
       "         strike=100      bias      time\n",
       "1000       6.753698 -0.052402  0.007993\n",
       "10000      6.685872 -0.120228  0.075748\n",
       "100000     6.772065 -0.034035  0.761961\n",
       "1000000    6.780137 -0.025963  7.749267"
      ]
     },
     "execution_count": 25,
     "metadata": {},
     "output_type": "execute_result"
    }
   ],
   "source": [
    "record = []\n",
    "for t in range(len(n_paths)):\n",
    "    temp = []\n",
    "    start = time.time()\n",
    "    price = hestonMCAe.price(strike, forward, texp, sigma, n_paths=n_paths[t], seed=SEED, dis_can=\"Log-normal\")\n",
    "    end = time.time()\n",
    "    temp.append(price)\n",
    "    temp.append(price - ref_price[i])\n",
    "    temp.append(end - start)\n",
    "    record.append(temp)\n",
    "\n",
    "print('Case %s:' % 8)\n",
    "print(\"Log-normal\")\n",
    "pd.DataFrame(record, index=n_paths, columns=[\"strike=100\", \"bias\", \"time\"])"
   ]
  },
  {
   "cell_type": "code",
   "execution_count": 26,
   "metadata": {},
   "outputs": [
    {
     "name": "stdout",
     "output_type": "stream",
     "text": [
      "Case 9:\n",
      "Inverse-Gaussian\n"
     ]
    },
    {
     "data": {
      "text/html": [
       "<div>\n",
       "<style scoped>\n",
       "    .dataframe tbody tr th:only-of-type {\n",
       "        vertical-align: middle;\n",
       "    }\n",
       "\n",
       "    .dataframe tbody tr th {\n",
       "        vertical-align: top;\n",
       "    }\n",
       "\n",
       "    .dataframe thead th {\n",
       "        text-align: right;\n",
       "    }\n",
       "</style>\n",
       "<table border=\"1\" class=\"dataframe\">\n",
       "  <thead>\n",
       "    <tr style=\"text-align: right;\">\n",
       "      <th></th>\n",
       "      <th>strike=100</th>\n",
       "      <th>bias</th>\n",
       "      <th>time</th>\n",
       "    </tr>\n",
       "  </thead>\n",
       "  <tbody>\n",
       "    <tr>\n",
       "      <th>1000</th>\n",
       "      <td>32.901863</td>\n",
       "      <td>-2.097937</td>\n",
       "      <td>0.008978</td>\n",
       "    </tr>\n",
       "    <tr>\n",
       "      <th>10000</th>\n",
       "      <td>33.037890</td>\n",
       "      <td>-1.961910</td>\n",
       "      <td>0.075795</td>\n",
       "    </tr>\n",
       "    <tr>\n",
       "      <th>100000</th>\n",
       "      <td>33.097077</td>\n",
       "      <td>-1.902723</td>\n",
       "      <td>0.753983</td>\n",
       "    </tr>\n",
       "    <tr>\n",
       "      <th>1000000</th>\n",
       "      <td>33.260206</td>\n",
       "      <td>-1.739594</td>\n",
       "      <td>7.662496</td>\n",
       "    </tr>\n",
       "  </tbody>\n",
       "</table>\n",
       "</div>"
      ],
      "text/plain": [
       "         strike=100      bias      time\n",
       "1000      32.901863 -2.097937  0.008978\n",
       "10000     33.037890 -1.961910  0.075795\n",
       "100000    33.097077 -1.902723  0.753983\n",
       "1000000   33.260206 -1.739594  7.662496"
      ]
     },
     "execution_count": 26,
     "metadata": {},
     "output_type": "execute_result"
    }
   ],
   "source": [
    "## case 9\n",
    "i = 1\n",
    "\n",
    "## parameters setting\n",
    "vov ,kappa, rho, texp, theta, sigma, r = case[i]\n",
    "\n",
    "## Initiate a Heston model with method of almost exact method \n",
    "hestonMCAe = HestonMCAe(vov=vov, kappa=kappa, rho=rho, theta=theta, r=r)\n",
    "\n",
    "n_paths = [1000, 10000, 100000, 1000000]\n",
    "\n",
    "record = []\n",
    "for t in range(len(n_paths)):\n",
    "    temp = []\n",
    "    start = time.time()\n",
    "    price = hestonMCAe.price(strike, forward, texp, sigma, n_paths=n_paths[t], seed=SEED)\n",
    "    end = time.time()\n",
    "    temp.append(price)\n",
    "    temp.append(price - ref_price[i])\n",
    "    temp.append(end - start)\n",
    "    record.append(temp)\n",
    "\n",
    "print('Case %s:' % 9)\n",
    "print(\"Inverse-Gaussian\")\n",
    "pd.DataFrame(record, index=n_paths, columns=[\"strike=100\", \"bias\", \"time\"])"
   ]
  },
  {
   "cell_type": "code",
   "execution_count": 27,
   "metadata": {},
   "outputs": [
    {
     "name": "stdout",
     "output_type": "stream",
     "text": [
      "Case 9:\n",
      "Log-normal\n"
     ]
    },
    {
     "data": {
      "text/html": [
       "<div>\n",
       "<style scoped>\n",
       "    .dataframe tbody tr th:only-of-type {\n",
       "        vertical-align: middle;\n",
       "    }\n",
       "\n",
       "    .dataframe tbody tr th {\n",
       "        vertical-align: top;\n",
       "    }\n",
       "\n",
       "    .dataframe thead th {\n",
       "        text-align: right;\n",
       "    }\n",
       "</style>\n",
       "<table border=\"1\" class=\"dataframe\">\n",
       "  <thead>\n",
       "    <tr style=\"text-align: right;\">\n",
       "      <th></th>\n",
       "      <th>strike=100</th>\n",
       "      <th>bias</th>\n",
       "      <th>time</th>\n",
       "    </tr>\n",
       "  </thead>\n",
       "  <tbody>\n",
       "    <tr>\n",
       "      <th>1000</th>\n",
       "      <td>33.222438</td>\n",
       "      <td>-1.777362</td>\n",
       "      <td>0.007995</td>\n",
       "    </tr>\n",
       "    <tr>\n",
       "      <th>10000</th>\n",
       "      <td>33.550945</td>\n",
       "      <td>-1.448855</td>\n",
       "      <td>0.072804</td>\n",
       "    </tr>\n",
       "    <tr>\n",
       "      <th>100000</th>\n",
       "      <td>33.135630</td>\n",
       "      <td>-1.864170</td>\n",
       "      <td>0.740969</td>\n",
       "    </tr>\n",
       "    <tr>\n",
       "      <th>1000000</th>\n",
       "      <td>33.313778</td>\n",
       "      <td>-1.686022</td>\n",
       "      <td>7.614626</td>\n",
       "    </tr>\n",
       "  </tbody>\n",
       "</table>\n",
       "</div>"
      ],
      "text/plain": [
       "         strike=100      bias      time\n",
       "1000      33.222438 -1.777362  0.007995\n",
       "10000     33.550945 -1.448855  0.072804\n",
       "100000    33.135630 -1.864170  0.740969\n",
       "1000000   33.313778 -1.686022  7.614626"
      ]
     },
     "execution_count": 27,
     "metadata": {},
     "output_type": "execute_result"
    }
   ],
   "source": [
    "record = []\n",
    "for t in range(len(n_paths)):\n",
    "    temp = []\n",
    "    start = time.time()\n",
    "    price = hestonMCAe.price(strike, forward, texp, sigma, n_paths=n_paths[t], seed=SEED, dis_can=\"Log-normal\")\n",
    "    end = time.time()\n",
    "    temp.append(price)\n",
    "    temp.append(price - ref_price[i])\n",
    "    temp.append(end - start)\n",
    "    record.append(temp)\n",
    "\n",
    "print('Case %s:' % 9)\n",
    "print(\"Log-normal\")\n",
    "pd.DataFrame(record, index=n_paths, columns=[\"strike=100\", \"bias\", \"time\"])"
   ]
  },
  {
   "cell_type": "markdown",
   "metadata": {},
   "source": [
    "<font color=black size=4.5 face=times>**some conclusions**: <br>\n",
    "- Inverse-Gaussian is much better than Log-normal.\n",
    "- Almost exact mothod is quite time-saving. Its time computational complexity is $O(N)$."
   ]
  },
  {
   "cell_type": "markdown",
   "metadata": {},
   "source": [
    "<font color=black size=4.5 face=times>**some problems**: <br>\n",
    "- Also, we think the result in \"Glasserman, P., & Kim, K. K. (2011). Gamma expansion of the Heston stochastic volatility model. *Finance and Stochastics, 15*(2), 267-296.\" may be wrong. We check it with the group doing conditional MC Heston model. Both of the team received the same result but not the result in the paper. This also happened when the team implemented exact MC methd using the parameters in the paper. We will check it again."
   ]
  },
  {
   "cell_type": "markdown",
   "metadata": {},
   "source": [
    "<font color=black size=4.5 face=times>**to be done**: <br>\n",
    "- How to imporve the precision when do the derivation of characteristic function to get moments. We use secant method to approach, but this method is not stable. We hope that someone could refer to the paper \"Gagan L. Choudhury and David M. Lucantoni. Numerical Computation of the Moments of a Probability Distribution from its Transform. Operations Research, 44(2):368{381, 1996.\" to do some improvement. \n",
    "- Also, we need to do some detailed comparison among time discretization Simulation, conditional QE method Simulation, Exact Simulation, Almost Exact Simulation in trems of time computational complexity and precision。"
   ]
  },
  {
   "cell_type": "markdown",
   "metadata": {},
   "source": [
    "<font color=black size=4.5 face=times>**Acknowledgement**: <br>\n",
    "We received help from the team(@Hejinzefinance and @1901212564), the team(@Delia810 and @XueyangHu) and the team who implemented exact MC Heston model last year in asp class(we do not the name)."
   ]
  }
 ],
 "metadata": {
  "kernelspec": {
   "display_name": "Python 3",
   "language": "python",
   "name": "python3"
  },
  "language_info": {
   "codemirror_mode": {
    "name": "ipython",
    "version": 3
   },
   "file_extension": ".py",
   "mimetype": "text/x-python",
   "name": "python",
   "nbconvert_exporter": "python",
   "pygments_lexer": "ipython3",
   "version": "3.7.9"
  },
  "toc": {
   "base_numbering": 1,
   "nav_menu": {},
   "number_sections": true,
   "sideBar": true,
   "skip_h1_title": false,
   "title_cell": "Table of Contents",
   "title_sidebar": "Contents",
   "toc_cell": false,
   "toc_position": {},
   "toc_section_display": true,
   "toc_window_display": false
  }
 },
 "nbformat": 4,
 "nbformat_minor": 4
}
